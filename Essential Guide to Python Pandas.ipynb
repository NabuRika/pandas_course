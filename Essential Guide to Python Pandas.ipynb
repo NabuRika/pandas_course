{
 "cells": [
  {
   "cell_type": "markdown",
   "id": "0b9711e9-7b0b-471c-85e3-079922b17c96",
   "metadata": {},
   "source": [
    "# Essential Guide to Python Pandas\n",
    "### A Crash Course with Reusable Code Template in Jupyter Notebook\n",
    "\n",
    "The Pandas library has emerged as one of the most important data wrangling and processing tools for Python developers and data professionals. It allows users to quickly apply data wrangling tasks such as handling missing data, removing duplicate records, merging multiple datasets, and so on. Therefore, the Pandas library has become a must-have tool in the data science toolkit.\n",
    "\n",
    "In this series of articles, we provide a crash course to get you started using the Pandas library. The course is designed to be a practical guide with real-life examples of the most common data manipulation tasks.\n",
    "\n",
    "### Who is this Course for\n",
    "\n",
    "This course is for aspiring data professionals and Python developers who want to learn how to process data in Pandas. We assume you already have a minimum working knowledge about Python programming language and are comfortable running data science documents using Jupyter notebook. \n",
    "\n",
    "To follow the examples in this course, you can copy and paste the code snippets into your Jupyter notebook environment.\n",
    "\n",
    "### What Makes Pandas Special\n",
    "\n",
    "Pandas is an open-source, free (under a [BSD license](https://en.wikipedia.org/wiki/BSD_licenses)) Python library originally written by [Wes McKinney](https://en.wikipedia.org/wiki/Wes_McKinney). It is a high-level data structure and manipulation tool designed to make data analysis and wrangling fast and easy. The library offers a variety of functions and methods to transfer different data sources into a tabular format. In this format, each record is housed on one row and each column contains a unique data type. \n",
    "\n",
    "Python Developers and Data Professionals can upload data from a variety of data sources such as SQL Databases, API JSON format, CSV files as well as native Python data structures like lists and dictionaries. This flexibility makes Pandas suitable for a wide range of applications. Among them are machine learning modeling, data visualization, and time series forecasting. The versatile structure also makes it easy to integrate pandas with other libraries such as scikit-learn. \n",
    "\n",
    "Early [releases of Pandas](https://pandas.pydata.org/docs/whatsnew/index.html) DataFrame dated back to 2011 with Pandas version 1.0 released in January 2020."
   ]
  },
  {
   "cell_type": "markdown",
   "id": "7e54c162-a6fa-4eb2-9560-c12eac6854f4",
   "metadata": {},
   "source": [
    "## Table of Contents\n",
    "\n",
    "1. [ How to Import Pandas Library](#section_1)\n",
    "2. [ Anatomy of Pandas Data Structures](#section_2)\n",
    "3. [ Get Data into and from Pandas](#section_3)\n",
    "    * Python Native Data Structures\n",
    "    * Tabular Data Files\n",
    "    * API Query and JSON Format\n",
    "    * Web Pages Data\n",
    "4. [Describe Information in DataFrames](#section_4)\n",
    "5. [Understand Data Types](#section_5)\n",
    "6. [Data Cleaning in Pandas](#section_6)\n",
    "    * Split & Merge Columns\n",
    "    * Change Columns DataType\n",
    "    * Rename Columns\n",
    "    * Drop Rows and Columns\n",
    "    * Manipulate text content\n",
    "7. [Pandas Merging & Joining Data](#)\n",
    "8. [Data Accessing & Aggregation](#)\n",
    "9. [Pandas Data Visualization](#)\n",
    "10. [Pandas Analysis Project](#)\n",
    "    * Collect Data From Multiple Sources\n",
    "    * Clean Data\n",
    "    * Join DataFrames\n",
    "    * Perform Basic Analysis"
   ]
  },
  {
   "cell_type": "markdown",
   "id": "9014f463-7d9b-4644-b2d7-b303aef73201",
   "metadata": {},
   "source": [
    "### 1. How to Import Pandas Library <a class=\"anchor\" id=\"section_1\"></a>\n",
    "The easiest way to start using Pandas library is to get the Python [Anaconda](https://www.anaconda.com/products/individual#Downloads) distribution, a cross-platform distribution for data analysis and scientific computing. The distribution has more than 250 of the most commonly used data science packages and tools such as Pandas, Scikit Learn, Jupyter, and so on. To start using Pandas in your analysis environment, you need to simply run the import Pandas command."
   ]
  },
  {
   "cell_type": "code",
   "execution_count": 1,
   "id": "5f76fadd-c2d0-4195-ad78-b0692a594cf8",
   "metadata": {},
   "outputs": [],
   "source": [
    "# Import Pandas library\n",
    "import pandas as pd"
   ]
  },
  {
   "cell_type": "markdown",
   "id": "0acbf071-b9ce-4248-a85f-422faf295921",
   "metadata": {},
   "source": [
    "To check your current version of Pandas library, you can run the __version__ command. "
   ]
  },
  {
   "cell_type": "code",
   "execution_count": 2,
   "id": "84e51eb4-3b22-426b-8ce7-927e3f8db257",
   "metadata": {},
   "outputs": [
    {
     "data": {
      "text/plain": [
       "'1.2.4'"
      ]
     },
     "execution_count": 2,
     "metadata": {},
     "output_type": "execute_result"
    }
   ],
   "source": [
    "# Check Pandas version\n",
    "pd.__version__"
   ]
  },
  {
   "cell_type": "markdown",
   "id": "6b55f22d-28a4-44ec-89ac-0a202cea7e2a",
   "metadata": {},
   "source": [
    "Great, you are now ready to start learning Pandas library!\n",
    "\n",
    "**[Back to Top](#title)**"
   ]
  },
  {
   "cell_type": "markdown",
   "id": "2528cdc6-1281-41c0-9a8d-8ac8d66c0f50",
   "metadata": {},
   "source": [
    "### 2. Anatomy of Pandas Data Structures <a class=\"anchor\" id=\"section_2\"></a>\n",
    "\n",
    "\n",
    "The two main Pandas data structure objects are **DataFrames** and **Series**. Pandas DataFrame object is a two-dimensional labeled structure that can hold data in rows and columns, similar to a spreadsheet file or relational database table. Each DataFrame column (also called Pandas Series Object) is a one-dimensional labeled structure with a descriptive name and unique data type that applies to all values in that column. ***In other words, you can think of a DataFrame as a collection of Series.***\n",
    "\n",
    "Both DataFrame and Series objects have index keys that can be used to reference corresponding values. Index keys are created automatically and can be manipulated by the user to assign specific values as DataFrame or Series index. \n",
    "\n",
    "In the example below, we see a Pandas DataFrame object about countries. The DataFrame consists of four different Series objects (country_name, capital_city, population, area_km2) with index values representing each country’s ISO code. Later on, you will learn how you can use the DataFrame index to select specific data values. \n",
    "\n",
    "The image below demonstrates the structure of Pandas DataFrame and Series objects."
   ]
  },
  {
   "cell_type": "markdown",
   "id": "a383755f-1538-4871-8522-b0a4d85822bd",
   "metadata": {},
   "source": [
    "<img src='Images/DataFrame Stracture.png' class=\"center\"/>\n",
    "\n",
    "**[Back to Top](#title)**"
   ]
  },
  {
   "cell_type": "markdown",
   "id": "3c4159a3-9b62-4e25-b1c3-e9e642a77106",
   "metadata": {},
   "source": [
    "### 3. Getting Data into and from Pandas <a class=\"anchor\" id=\"section_3\"></a>\n",
    "\n",
    "Pandas library is designed to access data from a wide variety of sources and formats. Some popular data sources include tabular files, database tables, third-party APIs and even using Python native data structures. This flexibility is what makes Pandas library useful for many user groups such as developers and data professionals.\n",
    "\n",
    "To upload data into a Pandas DataFrame, you can utilize a set of reader functions such as [pandas.read_csv()]() to get the data into DataFrame objects. The library also has a set of writer functions such as [pandas.DataFrame.to_csv()]() to allow users to export data frames into external dataset files. \n",
    "\n",
    "In each function, you can use a set of parameters to pass specific information about your dataset. For instance, in the [pandas.read_csv()]() and [pandas.read_table()]() functions, you can use the sep parameter to identify the delimiter that separates your data values. \n",
    "\n",
    "The figure below shows a list of available readers and writers functions. \n",
    "\n",
    "<img src='Images/Pandas_io_readwrite.svg' class=\"center\"/>\n",
    "\n",
    "Source: [Pandas IO Tools]()\n",
    "\n",
    "In the following sections, we will learn about some most commonly used methods to get data into and from a Pandas DataFrame.\n",
    "\n",
    "**[Back to Top](#title)**"
   ]
  },
  {
   "cell_type": "markdown",
   "id": "9ba06386-ff7e-408b-b010-543c533ebbaf",
   "metadata": {},
   "source": [
    "#### 3.1 Python Native Data Structures\n",
    "The Python programming language has a variety of built-in data structures such as lists, tuples, dictionaries, strings, and sets. These data structures are ideal for storing data during program execution, however, they can not be efficiently used to perform analytical tasks such as exploratory analysis and data visualization. Pandas library can transfer Python data structures into DataFrame objects to allow users to easily perform data manipulation and analytics. \n",
    "\n",
    "For example, imagine we have a Python dictionary to save country information such as below: \n"
   ]
  },
  {
   "cell_type": "code",
   "execution_count": 3,
   "id": "e58eca4f-0718-4a96-9941-e9a2d5096479",
   "metadata": {},
   "outputs": [
    {
     "data": {
      "text/plain": [
       "{'country_name': 'New Zealand',\n",
       " 'capital_city': 'Wellington',\n",
       " 'country_code': 'NZ',\n",
       " 'population': 4783063,\n",
       " 'area_km2': 270467}"
      ]
     },
     "execution_count": 3,
     "metadata": {},
     "output_type": "execute_result"
    }
   ],
   "source": [
    "{'country_name':'New Zealand',\n",
    " 'capital_city':'Wellington',\n",
    " 'country_code':'NZ',\n",
    " 'population':4783063,\n",
    " 'area_km2':270467}"
   ]
  },
  {
   "cell_type": "markdown",
   "id": "eeff252c-5d04-4b0b-b9f0-4e3fa3424141",
   "metadata": {},
   "source": [
    "The dictionary key represents the attribute label or title while the dictionary value represents the corresponding information. Pandas library can convert a list of similar dictionaries into a DataFrame object as shown in the example below:"
   ]
  },
  {
   "cell_type": "code",
   "execution_count": 31,
   "id": "4a67b5a7-3e14-4743-8329-7330782c0081",
   "metadata": {},
   "outputs": [
    {
     "data": {
      "text/html": [
       "<div>\n",
       "<style scoped>\n",
       "    .dataframe tbody tr th:only-of-type {\n",
       "        vertical-align: middle;\n",
       "    }\n",
       "\n",
       "    .dataframe tbody tr th {\n",
       "        vertical-align: top;\n",
       "    }\n",
       "\n",
       "    .dataframe thead th {\n",
       "        text-align: right;\n",
       "    }\n",
       "</style>\n",
       "<table border=\"1\" class=\"dataframe\">\n",
       "  <thead>\n",
       "    <tr style=\"text-align: right;\">\n",
       "      <th></th>\n",
       "      <th>country_name</th>\n",
       "      <th>capital_city</th>\n",
       "      <th>population</th>\n",
       "      <th>area_km2</th>\n",
       "    </tr>\n",
       "  </thead>\n",
       "  <tbody>\n",
       "    <tr>\n",
       "      <th>CN</th>\n",
       "      <td>China</td>\n",
       "      <td>Beijing</td>\n",
       "      <td>1433783686</td>\n",
       "      <td>9596961</td>\n",
       "    </tr>\n",
       "    <tr>\n",
       "      <th>NZ</th>\n",
       "      <td>New Zealand</td>\n",
       "      <td>Wellington</td>\n",
       "      <td>4783063</td>\n",
       "      <td>270467</td>\n",
       "    </tr>\n",
       "    <tr>\n",
       "      <th>ZA</th>\n",
       "      <td>South Africa</td>\n",
       "      <td>Pretoria</td>\n",
       "      <td>58558270</td>\n",
       "      <td>1221037</td>\n",
       "    </tr>\n",
       "    <tr>\n",
       "      <th>GB</th>\n",
       "      <td>United Kingdom</td>\n",
       "      <td>London</td>\n",
       "      <td>67530172</td>\n",
       "      <td>242495</td>\n",
       "    </tr>\n",
       "    <tr>\n",
       "      <th>US</th>\n",
       "      <td>United States</td>\n",
       "      <td>Washington DC</td>\n",
       "      <td>329064917</td>\n",
       "      <td>9525067</td>\n",
       "    </tr>\n",
       "  </tbody>\n",
       "</table>\n",
       "</div>"
      ],
      "text/plain": [
       "      country_name   capital_city  population  area_km2\n",
       "CN           China        Beijing  1433783686   9596961\n",
       "NZ     New Zealand     Wellington     4783063    270467\n",
       "ZA    South Africa       Pretoria    58558270   1221037\n",
       "GB  United Kingdom         London    67530172    242495\n",
       "US   United States  Washington DC   329064917   9525067"
      ]
     },
     "execution_count": 31,
     "metadata": {},
     "output_type": "execute_result"
    }
   ],
   "source": [
    "# Create a list of dictionaries\n",
    "list_of_countries = [\n",
    "{'country_name':'China','capital_city':'Beijing','population':1433783686,'area_km2':9596961},\n",
    "{'country_name':'New Zealand','capital_city':'Wellington','population':4783063,'area_km2':270467},\n",
    "{'country_name':'South Africa','capital_city':'Pretoria','population':58558270,'area_km2':1221037},\n",
    "{'country_name':'United Kingdom','capital_city':'London','population':67530172,'area_km2':242495},\n",
    "{'country_name':'United States','capital_city':'Washington DC','population':329064917,'area_km2':9525067}]\n",
    "\n",
    "# Create a Pandas DataFrame from a list of dictionaries\n",
    "countries = pd.DataFrame(list_of_countries, index = ['CN','NZ','ZA','GB','US'])\n",
    "\n",
    "countries.head()"
   ]
  },
  {
   "cell_type": "markdown",
   "id": "0f688203-9606-4303-8832-0c67de323960",
   "metadata": {},
   "source": [
    "In the code above, we notice the variable list_of_countries is defined as a Python list with each element representing a Python dictionary of country information. We import the Pandas library and then we use the built-in DataFrame function to transfer the list of countries into a Pandas Dataframe called countries. The pd.DataFrame is a built-in function to construct DataFrame objects from scratch or from native Python data structures. \n",
    "\n",
    "Notice how we used the index parameter to pass a list of country codes as our DataFrame index values. We can then examine the new DataFrame object using the built-in head() function to return the top rows. We will learn later about the different ways to examine any DataFrame content. \n",
    "\n",
    "We notice how the dictionary keys were assigned as the DataFrame column names while dictionary values are assigned as the cells. A numerical index with values between 0 to 4 was automatically assigned to the DataFrame object. The user can choose to pass specific index values by using the index parameter as shown in the example above.\n",
    "\n",
    "Another approach is to use a Python dictionary where keys represent column names and values represent Python lists. You can then make use of Pandas [from_dict](https://pandas.pydata.org/docs/reference/api/pandas.DataFrame.from_dict.html) function to transfer the dictionary into a DataFrame object as shown in this example:"
   ]
  },
  {
   "cell_type": "code",
   "execution_count": 5,
   "id": "05f9bdb4-a248-466c-92fd-f4844598dab3",
   "metadata": {},
   "outputs": [
    {
     "data": {
      "text/html": [
       "<div>\n",
       "<style scoped>\n",
       "    .dataframe tbody tr th:only-of-type {\n",
       "        vertical-align: middle;\n",
       "    }\n",
       "\n",
       "    .dataframe tbody tr th {\n",
       "        vertical-align: top;\n",
       "    }\n",
       "\n",
       "    .dataframe thead th {\n",
       "        text-align: right;\n",
       "    }\n",
       "</style>\n",
       "<table border=\"1\" class=\"dataframe\">\n",
       "  <thead>\n",
       "    <tr style=\"text-align: right;\">\n",
       "      <th></th>\n",
       "      <th>country_name</th>\n",
       "      <th>country_code</th>\n",
       "      <th>capital_city</th>\n",
       "      <th>population</th>\n",
       "      <th>area_km2</th>\n",
       "    </tr>\n",
       "  </thead>\n",
       "  <tbody>\n",
       "    <tr>\n",
       "      <th>0</th>\n",
       "      <td>China</td>\n",
       "      <td>CN</td>\n",
       "      <td>Beijing</td>\n",
       "      <td>1433783686</td>\n",
       "      <td>9596961</td>\n",
       "    </tr>\n",
       "    <tr>\n",
       "      <th>1</th>\n",
       "      <td>New Zealand</td>\n",
       "      <td>NZ</td>\n",
       "      <td>Wellington</td>\n",
       "      <td>4783063</td>\n",
       "      <td>270467</td>\n",
       "    </tr>\n",
       "    <tr>\n",
       "      <th>2</th>\n",
       "      <td>South Africa</td>\n",
       "      <td>ZA</td>\n",
       "      <td>Pretoria</td>\n",
       "      <td>58558270</td>\n",
       "      <td>1221037</td>\n",
       "    </tr>\n",
       "    <tr>\n",
       "      <th>3</th>\n",
       "      <td>United Kingdom</td>\n",
       "      <td>GB</td>\n",
       "      <td>London</td>\n",
       "      <td>67530172</td>\n",
       "      <td>242495</td>\n",
       "    </tr>\n",
       "    <tr>\n",
       "      <th>4</th>\n",
       "      <td>United States</td>\n",
       "      <td>US</td>\n",
       "      <td>Washington DC</td>\n",
       "      <td>329064917</td>\n",
       "      <td>9525067</td>\n",
       "    </tr>\n",
       "  </tbody>\n",
       "</table>\n",
       "</div>"
      ],
      "text/plain": [
       "     country_name country_code   capital_city  population  area_km2\n",
       "0           China           CN        Beijing  1433783686   9596961\n",
       "1     New Zealand           NZ     Wellington     4783063    270467\n",
       "2    South Africa           ZA       Pretoria    58558270   1221037\n",
       "3  United Kingdom           GB         London    67530172    242495\n",
       "4   United States           US  Washington DC   329064917   9525067"
      ]
     },
     "execution_count": 5,
     "metadata": {},
     "output_type": "execute_result"
    }
   ],
   "source": [
    "dictionary_of_countries = {'country_name': ['China', 'New Zealand', 'South Africa', 'United Kingdom', 'United States'],\n",
    "                           'country_code': ['CN', 'NZ', 'ZA', 'GB', 'US'],\n",
    "                           'capital_city': ['Beijing', 'Wellington', 'Pretoria', 'London', 'Washington DC'],\n",
    "                           'population': [1433783686, 4783063, 58558270, 67530172, 329064917],\n",
    "                           'area_km2': [9596961, 270467, 1221037, 242495, 9525067]}\n",
    "\n",
    "countries = pd.DataFrame.from_dict(dictionary_of_countries)\n",
    "\n",
    "countries.head()"
   ]
  },
  {
   "cell_type": "markdown",
   "id": "fb7fad10-96a6-4f5a-b603-bcf65cfc0a12",
   "metadata": {},
   "source": [
    "The above examples demonstrated the flexibility of transforming data stored in Python native data structures into Pandas DataFrame objects. \n",
    "\n",
    "**[Back to Top](#title)**"
   ]
  },
  {
   "cell_type": "markdown",
   "id": "7c1e3056-e6d4-48ea-a38d-259e0b25634c",
   "metadata": {},
   "source": [
    "#### 3.2 Tabular Data Files\n",
    "Tabular data is usually structured into rows and columns and presented in various file formats including CSV, tab-delimited files, fixed-width formats, and spreadsheets. Tabular files can be accessed from the local computer or online. \n",
    "\n",
    "In this section, we will learn about how to access data from CSV files, Excel Sheet files, and SQL tables. First, we access a CSV file for alcohol consumption by country accessed from the fivethirtyeight [GitHub]() Repository. To do that, we use the [read_csv()]() function and pass the file online location on GitHub. If the CSV file is stored on the local machine, we need to pass the file path. \n"
   ]
  },
  {
   "cell_type": "code",
   "execution_count": 6,
   "id": "5455b142-afd2-430e-ace4-d958e0cb085c",
   "metadata": {},
   "outputs": [
    {
     "data": {
      "text/html": [
       "<div>\n",
       "<style scoped>\n",
       "    .dataframe tbody tr th:only-of-type {\n",
       "        vertical-align: middle;\n",
       "    }\n",
       "\n",
       "    .dataframe tbody tr th {\n",
       "        vertical-align: top;\n",
       "    }\n",
       "\n",
       "    .dataframe thead th {\n",
       "        text-align: right;\n",
       "    }\n",
       "</style>\n",
       "<table border=\"1\" class=\"dataframe\">\n",
       "  <thead>\n",
       "    <tr style=\"text-align: right;\">\n",
       "      <th></th>\n",
       "      <th>country</th>\n",
       "      <th>beer_servings</th>\n",
       "      <th>spirit_servings</th>\n",
       "      <th>wine_servings</th>\n",
       "      <th>total_litres_of_pure_alcohol</th>\n",
       "    </tr>\n",
       "  </thead>\n",
       "  <tbody>\n",
       "    <tr>\n",
       "      <th>0</th>\n",
       "      <td>Afghanistan</td>\n",
       "      <td>0</td>\n",
       "      <td>0</td>\n",
       "      <td>0</td>\n",
       "      <td>0.0</td>\n",
       "    </tr>\n",
       "    <tr>\n",
       "      <th>1</th>\n",
       "      <td>Albania</td>\n",
       "      <td>89</td>\n",
       "      <td>132</td>\n",
       "      <td>54</td>\n",
       "      <td>4.9</td>\n",
       "    </tr>\n",
       "    <tr>\n",
       "      <th>2</th>\n",
       "      <td>Algeria</td>\n",
       "      <td>25</td>\n",
       "      <td>0</td>\n",
       "      <td>14</td>\n",
       "      <td>0.7</td>\n",
       "    </tr>\n",
       "    <tr>\n",
       "      <th>3</th>\n",
       "      <td>Andorra</td>\n",
       "      <td>245</td>\n",
       "      <td>138</td>\n",
       "      <td>312</td>\n",
       "      <td>12.4</td>\n",
       "    </tr>\n",
       "    <tr>\n",
       "      <th>4</th>\n",
       "      <td>Angola</td>\n",
       "      <td>217</td>\n",
       "      <td>57</td>\n",
       "      <td>45</td>\n",
       "      <td>5.9</td>\n",
       "    </tr>\n",
       "  </tbody>\n",
       "</table>\n",
       "</div>"
      ],
      "text/plain": [
       "       country  beer_servings  spirit_servings  wine_servings  \\\n",
       "0  Afghanistan              0                0              0   \n",
       "1      Albania             89              132             54   \n",
       "2      Algeria             25                0             14   \n",
       "3      Andorra            245              138            312   \n",
       "4       Angola            217               57             45   \n",
       "\n",
       "   total_litres_of_pure_alcohol  \n",
       "0                           0.0  \n",
       "1                           4.9  \n",
       "2                           0.7  \n",
       "3                          12.4  \n",
       "4                           5.9  "
      ]
     },
     "execution_count": 6,
     "metadata": {},
     "output_type": "execute_result"
    }
   ],
   "source": [
    "# Create a DataFrame object using read_csv() function\n",
    "alcohol_data = pd.read_csv('https://raw.githubusercontent.com/fivethirtyeight/data/master/alcohol-consumption/drinks.csv')\n",
    "\n",
    "alcohol_data.head()"
   ]
  },
  {
   "cell_type": "markdown",
   "id": "e9737bc4-44d6-43bd-9fe2-d35e3eebcea8",
   "metadata": {},
   "source": [
    "Another commonly used tabular data format is spreadsheets. Pandas library provides the [read_excel()]() built-in function to access Microsoft Excel spreadsheet files as shown in the example below:"
   ]
  },
  {
   "cell_type": "code",
   "execution_count": 7,
   "id": "a0bffbd8-8c2e-4322-ba25-b69df3114bb0",
   "metadata": {},
   "outputs": [
    {
     "ename": "FileNotFoundError",
     "evalue": "[Errno 2] No such file or directory: 'path_to_file/myFile.xls'",
     "output_type": "error",
     "traceback": [
      "\u001b[0;31m---------------------------------------------------------------------------\u001b[0m",
      "\u001b[0;31mFileNotFoundError\u001b[0m                         Traceback (most recent call last)",
      "\u001b[0;32m<ipython-input-7-e17abebf3637>\u001b[0m in \u001b[0;36m<module>\u001b[0;34m\u001b[0m\n\u001b[1;32m      1\u001b[0m \u001b[0;31m# Create a DataFrame object using read_excel() function\u001b[0m\u001b[0;34m\u001b[0m\u001b[0;34m\u001b[0m\u001b[0;34m\u001b[0m\u001b[0m\n\u001b[0;32m----> 2\u001b[0;31m \u001b[0mpd\u001b[0m\u001b[0;34m.\u001b[0m\u001b[0mread_excel\u001b[0m\u001b[0;34m(\u001b[0m\u001b[0;34m\"path_to_file/myFile.xls\"\u001b[0m\u001b[0;34m,\u001b[0m \u001b[0msheet_name\u001b[0m\u001b[0;34m=\u001b[0m\u001b[0;34m\"Sheet1\"\u001b[0m\u001b[0;34m)\u001b[0m\u001b[0;34m\u001b[0m\u001b[0;34m\u001b[0m\u001b[0m\n\u001b[0m",
      "\u001b[0;32m~/anaconda3/lib/python3.7/site-packages/pandas/util/_decorators.py\u001b[0m in \u001b[0;36mwrapper\u001b[0;34m(*args, **kwargs)\u001b[0m\n\u001b[1;32m    297\u001b[0m                 )\n\u001b[1;32m    298\u001b[0m                 \u001b[0mwarnings\u001b[0m\u001b[0;34m.\u001b[0m\u001b[0mwarn\u001b[0m\u001b[0;34m(\u001b[0m\u001b[0mmsg\u001b[0m\u001b[0;34m,\u001b[0m \u001b[0mFutureWarning\u001b[0m\u001b[0;34m,\u001b[0m \u001b[0mstacklevel\u001b[0m\u001b[0;34m=\u001b[0m\u001b[0mstacklevel\u001b[0m\u001b[0;34m)\u001b[0m\u001b[0;34m\u001b[0m\u001b[0;34m\u001b[0m\u001b[0m\n\u001b[0;32m--> 299\u001b[0;31m             \u001b[0;32mreturn\u001b[0m \u001b[0mfunc\u001b[0m\u001b[0;34m(\u001b[0m\u001b[0;34m*\u001b[0m\u001b[0margs\u001b[0m\u001b[0;34m,\u001b[0m \u001b[0;34m**\u001b[0m\u001b[0mkwargs\u001b[0m\u001b[0;34m)\u001b[0m\u001b[0;34m\u001b[0m\u001b[0;34m\u001b[0m\u001b[0m\n\u001b[0m\u001b[1;32m    300\u001b[0m \u001b[0;34m\u001b[0m\u001b[0m\n\u001b[1;32m    301\u001b[0m         \u001b[0;32mreturn\u001b[0m \u001b[0mwrapper\u001b[0m\u001b[0;34m\u001b[0m\u001b[0;34m\u001b[0m\u001b[0m\n",
      "\u001b[0;32m~/anaconda3/lib/python3.7/site-packages/pandas/io/excel/_base.py\u001b[0m in \u001b[0;36mread_excel\u001b[0;34m(io, sheet_name, header, names, index_col, usecols, squeeze, dtype, engine, converters, true_values, false_values, skiprows, nrows, na_values, keep_default_na, na_filter, verbose, parse_dates, date_parser, thousands, comment, skipfooter, convert_float, mangle_dupe_cols, storage_options)\u001b[0m\n\u001b[1;32m    334\u001b[0m     \u001b[0;32mif\u001b[0m \u001b[0;32mnot\u001b[0m \u001b[0misinstance\u001b[0m\u001b[0;34m(\u001b[0m\u001b[0mio\u001b[0m\u001b[0;34m,\u001b[0m \u001b[0mExcelFile\u001b[0m\u001b[0;34m)\u001b[0m\u001b[0;34m:\u001b[0m\u001b[0;34m\u001b[0m\u001b[0;34m\u001b[0m\u001b[0m\n\u001b[1;32m    335\u001b[0m         \u001b[0mshould_close\u001b[0m \u001b[0;34m=\u001b[0m \u001b[0;32mTrue\u001b[0m\u001b[0;34m\u001b[0m\u001b[0;34m\u001b[0m\u001b[0m\n\u001b[0;32m--> 336\u001b[0;31m         \u001b[0mio\u001b[0m \u001b[0;34m=\u001b[0m \u001b[0mExcelFile\u001b[0m\u001b[0;34m(\u001b[0m\u001b[0mio\u001b[0m\u001b[0;34m,\u001b[0m \u001b[0mstorage_options\u001b[0m\u001b[0;34m=\u001b[0m\u001b[0mstorage_options\u001b[0m\u001b[0;34m,\u001b[0m \u001b[0mengine\u001b[0m\u001b[0;34m=\u001b[0m\u001b[0mengine\u001b[0m\u001b[0;34m)\u001b[0m\u001b[0;34m\u001b[0m\u001b[0;34m\u001b[0m\u001b[0m\n\u001b[0m\u001b[1;32m    337\u001b[0m     \u001b[0;32melif\u001b[0m \u001b[0mengine\u001b[0m \u001b[0;32mand\u001b[0m \u001b[0mengine\u001b[0m \u001b[0;34m!=\u001b[0m \u001b[0mio\u001b[0m\u001b[0;34m.\u001b[0m\u001b[0mengine\u001b[0m\u001b[0;34m:\u001b[0m\u001b[0;34m\u001b[0m\u001b[0;34m\u001b[0m\u001b[0m\n\u001b[1;32m    338\u001b[0m         raise ValueError(\n",
      "\u001b[0;32m~/anaconda3/lib/python3.7/site-packages/pandas/io/excel/_base.py\u001b[0m in \u001b[0;36m__init__\u001b[0;34m(self, path_or_buffer, engine, storage_options)\u001b[0m\n\u001b[1;32m   1070\u001b[0m             \u001b[0;32melse\u001b[0m\u001b[0;34m:\u001b[0m\u001b[0;34m\u001b[0m\u001b[0;34m\u001b[0m\u001b[0m\n\u001b[1;32m   1071\u001b[0m                 ext = inspect_excel_format(\n\u001b[0;32m-> 1072\u001b[0;31m                     \u001b[0mcontent\u001b[0m\u001b[0;34m=\u001b[0m\u001b[0mpath_or_buffer\u001b[0m\u001b[0;34m,\u001b[0m \u001b[0mstorage_options\u001b[0m\u001b[0;34m=\u001b[0m\u001b[0mstorage_options\u001b[0m\u001b[0;34m\u001b[0m\u001b[0;34m\u001b[0m\u001b[0m\n\u001b[0m\u001b[1;32m   1073\u001b[0m                 )\n\u001b[1;32m   1074\u001b[0m \u001b[0;34m\u001b[0m\u001b[0m\n",
      "\u001b[0;32m~/anaconda3/lib/python3.7/site-packages/pandas/io/excel/_base.py\u001b[0m in \u001b[0;36minspect_excel_format\u001b[0;34m(path, content, storage_options)\u001b[0m\n\u001b[1;32m    948\u001b[0m \u001b[0;34m\u001b[0m\u001b[0m\n\u001b[1;32m    949\u001b[0m     with get_handle(\n\u001b[0;32m--> 950\u001b[0;31m         \u001b[0mcontent_or_path\u001b[0m\u001b[0;34m,\u001b[0m \u001b[0;34m\"rb\"\u001b[0m\u001b[0;34m,\u001b[0m \u001b[0mstorage_options\u001b[0m\u001b[0;34m=\u001b[0m\u001b[0mstorage_options\u001b[0m\u001b[0;34m,\u001b[0m \u001b[0mis_text\u001b[0m\u001b[0;34m=\u001b[0m\u001b[0;32mFalse\u001b[0m\u001b[0;34m\u001b[0m\u001b[0;34m\u001b[0m\u001b[0m\n\u001b[0m\u001b[1;32m    951\u001b[0m     ) as handle:\n\u001b[1;32m    952\u001b[0m         \u001b[0mstream\u001b[0m \u001b[0;34m=\u001b[0m \u001b[0mhandle\u001b[0m\u001b[0;34m.\u001b[0m\u001b[0mhandle\u001b[0m\u001b[0;34m\u001b[0m\u001b[0;34m\u001b[0m\u001b[0m\n",
      "\u001b[0;32m~/anaconda3/lib/python3.7/site-packages/pandas/io/common.py\u001b[0m in \u001b[0;36mget_handle\u001b[0;34m(path_or_buf, mode, encoding, compression, memory_map, is_text, errors, storage_options)\u001b[0m\n\u001b[1;32m    649\u001b[0m         \u001b[0;32melse\u001b[0m\u001b[0;34m:\u001b[0m\u001b[0;34m\u001b[0m\u001b[0;34m\u001b[0m\u001b[0m\n\u001b[1;32m    650\u001b[0m             \u001b[0;31m# Binary mode\u001b[0m\u001b[0;34m\u001b[0m\u001b[0;34m\u001b[0m\u001b[0;34m\u001b[0m\u001b[0m\n\u001b[0;32m--> 651\u001b[0;31m             \u001b[0mhandle\u001b[0m \u001b[0;34m=\u001b[0m \u001b[0mopen\u001b[0m\u001b[0;34m(\u001b[0m\u001b[0mhandle\u001b[0m\u001b[0;34m,\u001b[0m \u001b[0mioargs\u001b[0m\u001b[0;34m.\u001b[0m\u001b[0mmode\u001b[0m\u001b[0;34m)\u001b[0m\u001b[0;34m\u001b[0m\u001b[0;34m\u001b[0m\u001b[0m\n\u001b[0m\u001b[1;32m    652\u001b[0m         \u001b[0mhandles\u001b[0m\u001b[0;34m.\u001b[0m\u001b[0mappend\u001b[0m\u001b[0;34m(\u001b[0m\u001b[0mhandle\u001b[0m\u001b[0;34m)\u001b[0m\u001b[0;34m\u001b[0m\u001b[0;34m\u001b[0m\u001b[0m\n\u001b[1;32m    653\u001b[0m \u001b[0;34m\u001b[0m\u001b[0m\n",
      "\u001b[0;31mFileNotFoundError\u001b[0m: [Errno 2] No such file or directory: 'path_to_file/myFile.xls'"
     ]
    }
   ],
   "source": [
    "# Create a DataFrame object using read_excel() function\n",
    "pd.read_excel(\"path_to_file/myFile.xls\", sheet_name=\"Sheet1\")"
   ]
  },
  {
   "cell_type": "markdown",
   "id": "398c207d-a6b6-4677-a054-22004b637b06",
   "metadata": {},
   "source": [
    "Notice how the [read_excel()]() example makes use of the sheet_name parameter to tell the system which sheet name contains the needed dataset. For a complete list of all parameters for each built-in function, check the Pandas official documentation by clicking the function name. \n",
    "\n",
    "Another common scenario is to query relational database tables using SQL language. Obviously, you would need to provide the necessary credentials and metadata to establish a connection with the database server. You can then apply [pandas.read_sql()]() function to pass the SQL query and load the result into a Pandas DataFrame object. \n",
    "\n",
    "To simulate this scenario, the following code will create a local database using the Python SQLite engine. We will then use Pandas to access the data using SQL queries. "
   ]
  },
  {
   "cell_type": "code",
   "execution_count": 8,
   "id": "49290c66-e575-4a3e-809d-83be22585c45",
   "metadata": {},
   "outputs": [],
   "source": [
    "# Import SQLite library\n",
    "import sqlite3\n",
    "\n",
    "# Assign the database name\n",
    "db_path = r'local_db_example.db'\n",
    "\n",
    "# Create the database file\n",
    "conn = sqlite3.connect(db_path) \n",
    "\n",
    "# Establish a connection with the database file\n",
    "c = conn.cursor() \n",
    "\n",
    "# Create a database table\n",
    "c.execute(\"\"\"CREATE TABLE mytable\n",
    "         (id, name, position)\"\"\")\n",
    "\n",
    "\n",
    "# Add some data\n",
    "c.execute(\"\"\"INSERT INTO mytable (id, name, position)\n",
    "          values(1, 'James', 'Data Scientist')\"\"\")\n",
    "\n",
    "c.execute(\"\"\"INSERT INTO mytable (id, name, position)\n",
    "          values(2, 'Mary', 'Software Developer')\"\"\")\n",
    "\n",
    "c.execute(\"\"\"INSERT INTO mytable (id, name, position)\n",
    "          values(3, 'Max', 'Data Engineer')\"\"\")\n",
    "\n",
    "# Commit changes and close the connection\n",
    "conn.commit()\n",
    "\n",
    "c.close()"
   ]
  },
  {
   "cell_type": "markdown",
   "id": "0f91ad22-c07c-42f5-b601-5e719a99a439",
   "metadata": {},
   "source": [
    "The relational database name `local_db_example.db` should appear as an external file in the same location with your notebook. The database file already includes dummy data describing employee details. The following code queries the data into a Pandas DataFrame object. "
   ]
  },
  {
   "cell_type": "code",
   "execution_count": 9,
   "id": "86aca0dd-3de9-4266-84be-e3fc7050dac7",
   "metadata": {},
   "outputs": [
    {
     "name": "stdout",
     "output_type": "stream",
     "text": [
      "   id   name            position\n",
      "0   1  James      Data Scientist\n",
      "1   2   Mary  Software Developer\n",
      "2   3    Max       Data Engineer\n"
     ]
    }
   ],
   "source": [
    "# Identify the database name\n",
    "database = \"local_db_example.db\"\n",
    "\n",
    "# Establish a connection with the database file\n",
    "conn = sqlite3.connect(database)\n",
    "\n",
    "# Use Pandas function to pass SQL query and create a DataFrame object\n",
    "people = pd.read_sql(\"select * from mytable\", con=conn)\n",
    "\n",
    "# Print the generated DataFrame\n",
    "print(people)\n",
    "\n",
    "# Close the connection\n",
    "conn.close()"
   ]
  },
  {
   "cell_type": "markdown",
   "id": "889fd64e-3f16-481b-9c6c-d8b8693d2199",
   "metadata": {},
   "source": [
    "In the above example, we created a local database file and used the Pandas library to query the data using SQL, and passed the results into a Pandas DataFrame object. In more practical examples, you may need to query data from relational databases that are stored on remote servers or in the cloud.\n",
    "\n",
    "**[Back to Top](#title)**"
   ]
  },
  {
   "cell_type": "markdown",
   "id": "96de5833-cf6c-4d48-85bf-5a448d6e9ebf",
   "metadata": {},
   "source": [
    "#### 3.3 API Query and JSON Format\n",
    "When working on daily tasks, data professionals often need to access data from third-party APIs. This approach is common when the data is continually updated like weather forecasting or when you need to select a small subset of data. API response data usually comes in JSON format which you can think of as a collection of Python data structures like dictionaries and lists represented as text. \n",
    "\n",
    "For example, we will use API data from [open-notify]() to get information about the International Space Station ISS. The API gives information about the space station location, altitude, and crow members. The following code will make a query about current crew members onboard ISS. In this example, we will make use of the Python request library to establish a connection with the API.\n"
   ]
  },
  {
   "cell_type": "code",
   "execution_count": 10,
   "id": "24eb84da-121b-4b2d-9bc2-f11271779e79",
   "metadata": {},
   "outputs": [],
   "source": [
    "# Import requests library to handle API connection\n",
    "import requests\n",
    "\n",
    "# Import and initialize Data pretty printer library\n",
    "import pprint\n",
    "pp = pprint.PrettyPrinter(indent=4)\n",
    "\n",
    "# Pass the API query using requests library\n",
    "response = requests.get(\"http://api.open-notify.org/astros.json\")\n",
    "# print(response.status_code)\n",
    "\n",
    "# Convert response data into JSON format\n",
    "response_data = response.json()"
   ]
  },
  {
   "cell_type": "markdown",
   "id": "8ec9cb03-9702-4fc0-8452-d88986bf29a1",
   "metadata": {},
   "source": [
    "Once we have the API response data, we notice the response includes a list of dictionaries about the astronauts currently aboard the ISS. We can convert this part of the response into a Pandas DataFrame object as shown in the example below:"
   ]
  },
  {
   "cell_type": "code",
   "execution_count": 11,
   "id": "887bc9a1-40a3-4844-9f29-79630b01be18",
   "metadata": {},
   "outputs": [
    {
     "name": "stdout",
     "output_type": "stream",
     "text": [
      "{   'message': 'success',\n",
      "    'number': 10,\n",
      "    'people': [   {'craft': 'ISS', 'name': 'Mark Vande Hei'},\n",
      "                  {'craft': 'ISS', 'name': 'Oleg Novitskiy'},\n",
      "                  {'craft': 'ISS', 'name': 'Pyotr Dubrov'},\n",
      "                  {'craft': 'ISS', 'name': 'Thomas Pesquet'},\n",
      "                  {'craft': 'ISS', 'name': 'Megan McArthur'},\n",
      "                  {'craft': 'ISS', 'name': 'Shane Kimbrough'},\n",
      "                  {'craft': 'ISS', 'name': 'Akihiko Hoshide'},\n",
      "                  {'craft': 'Tiangong', 'name': 'Nie Haisheng'},\n",
      "                  {'craft': 'Tiangong', 'name': 'Liu Boming'},\n",
      "                  {'craft': 'Tiangong', 'name': 'Tang Hongbo'}]}\n"
     ]
    },
    {
     "data": {
      "text/html": [
       "<div>\n",
       "<style scoped>\n",
       "    .dataframe tbody tr th:only-of-type {\n",
       "        vertical-align: middle;\n",
       "    }\n",
       "\n",
       "    .dataframe tbody tr th {\n",
       "        vertical-align: top;\n",
       "    }\n",
       "\n",
       "    .dataframe thead th {\n",
       "        text-align: right;\n",
       "    }\n",
       "</style>\n",
       "<table border=\"1\" class=\"dataframe\">\n",
       "  <thead>\n",
       "    <tr style=\"text-align: right;\">\n",
       "      <th></th>\n",
       "      <th>name</th>\n",
       "      <th>craft</th>\n",
       "    </tr>\n",
       "  </thead>\n",
       "  <tbody>\n",
       "    <tr>\n",
       "      <th>0</th>\n",
       "      <td>Mark Vande Hei</td>\n",
       "      <td>ISS</td>\n",
       "    </tr>\n",
       "    <tr>\n",
       "      <th>1</th>\n",
       "      <td>Oleg Novitskiy</td>\n",
       "      <td>ISS</td>\n",
       "    </tr>\n",
       "    <tr>\n",
       "      <th>2</th>\n",
       "      <td>Pyotr Dubrov</td>\n",
       "      <td>ISS</td>\n",
       "    </tr>\n",
       "    <tr>\n",
       "      <th>3</th>\n",
       "      <td>Thomas Pesquet</td>\n",
       "      <td>ISS</td>\n",
       "    </tr>\n",
       "    <tr>\n",
       "      <th>4</th>\n",
       "      <td>Megan McArthur</td>\n",
       "      <td>ISS</td>\n",
       "    </tr>\n",
       "    <tr>\n",
       "      <th>5</th>\n",
       "      <td>Shane Kimbrough</td>\n",
       "      <td>ISS</td>\n",
       "    </tr>\n",
       "    <tr>\n",
       "      <th>6</th>\n",
       "      <td>Akihiko Hoshide</td>\n",
       "      <td>ISS</td>\n",
       "    </tr>\n",
       "    <tr>\n",
       "      <th>7</th>\n",
       "      <td>Nie Haisheng</td>\n",
       "      <td>Tiangong</td>\n",
       "    </tr>\n",
       "    <tr>\n",
       "      <th>8</th>\n",
       "      <td>Liu Boming</td>\n",
       "      <td>Tiangong</td>\n",
       "    </tr>\n",
       "    <tr>\n",
       "      <th>9</th>\n",
       "      <td>Tang Hongbo</td>\n",
       "      <td>Tiangong</td>\n",
       "    </tr>\n",
       "  </tbody>\n",
       "</table>\n",
       "</div>"
      ],
      "text/plain": [
       "              name     craft\n",
       "0   Mark Vande Hei       ISS\n",
       "1   Oleg Novitskiy       ISS\n",
       "2     Pyotr Dubrov       ISS\n",
       "3   Thomas Pesquet       ISS\n",
       "4   Megan McArthur       ISS\n",
       "5  Shane Kimbrough       ISS\n",
       "6  Akihiko Hoshide       ISS\n",
       "7     Nie Haisheng  Tiangong\n",
       "8       Liu Boming  Tiangong\n",
       "9      Tang Hongbo  Tiangong"
      ]
     },
     "execution_count": 11,
     "metadata": {},
     "output_type": "execute_result"
    }
   ],
   "source": [
    "# Examine the response data\n",
    "pp.pprint(response_data)\n",
    "\n",
    "# Create a DataFrame of astronauts currently aboard the ISS\n",
    "astronauts = pd.DataFrame(response_data['people'])\n",
    "\n",
    "astronauts"
   ]
  },
  {
   "cell_type": "markdown",
   "id": "ca1ab7ba-3d95-4371-9077-6dd3e3be9c2c",
   "metadata": {},
   "source": [
    "**[Back to Top](#title)**"
   ]
  },
  {
   "cell_type": "markdown",
   "id": "30055d8e-403c-4196-902d-e70a50eb8a34",
   "metadata": {},
   "source": [
    "#### 3.4 Web Pages Data\n",
    "Pandas library offers a built-in function to allow users to parse HTML tables from web pages into a list of Pandas DataFrames. This functionality provides users with a fast way to access data tables embedded in web pages’ html code. To demonstrate the process, we will use the Pandas function [read_html()]() to parse the [list of countries by population table]() from Wikipedia into a DataFrame object as shown in the example below:"
   ]
  },
  {
   "cell_type": "code",
   "execution_count": 14,
   "id": "36305c43-b1d0-4de8-8fbc-4c772a005983",
   "metadata": {},
   "outputs": [
    {
     "data": {
      "text/plain": [
       "list"
      ]
     },
     "execution_count": 14,
     "metadata": {},
     "output_type": "execute_result"
    }
   ],
   "source": [
    "# \n",
    "web_data = pd.read_html('https://en.wikipedia.org/wiki/List_of_countries_by_population_(United_Nations)')\n",
    "\n",
    "type(web_data)"
   ]
  },
  {
   "cell_type": "markdown",
   "id": "07708918-d5b0-4e88-9287-64151029cc43",
   "metadata": {},
   "source": [
    "When examining the type of web_data variable, we notice the [read_html()]() function has returned a list of five elements representing the table tags detected in the webpage HTML code. Each table tag was automatically converted into a Pandas DataFrame object. \n",
    "\n",
    "However, not all tables are useful as they may contain unwanted HTML data. Therefore, we must carefully examine the returned list and identify the useful DataFrame objects. \n",
    "\n",
    "In this example, we notice the first item `web_data[0]` contains the needed countries table. Therefore, we can assign the fourth item to a new variable for easier use as shown in the code below:"
   ]
  },
  {
   "cell_type": "code",
   "execution_count": 24,
   "id": "aee235c7-08ee-4a81-ac03-2b37cdba88cd",
   "metadata": {},
   "outputs": [
    {
     "data": {
      "text/html": [
       "<div>\n",
       "<style scoped>\n",
       "    .dataframe tbody tr th:only-of-type {\n",
       "        vertical-align: middle;\n",
       "    }\n",
       "\n",
       "    .dataframe tbody tr th {\n",
       "        vertical-align: top;\n",
       "    }\n",
       "\n",
       "    .dataframe thead th {\n",
       "        text-align: right;\n",
       "    }\n",
       "</style>\n",
       "<table border=\"1\" class=\"dataframe\">\n",
       "  <thead>\n",
       "    <tr style=\"text-align: right;\">\n",
       "      <th></th>\n",
       "      <th>Country/Area</th>\n",
       "      <th>UN continentalregion[4]</th>\n",
       "      <th>UN statisticalsubregion[4]</th>\n",
       "      <th>Population(1 July 2018)</th>\n",
       "      <th>Population(1 July 2019)</th>\n",
       "      <th>Change</th>\n",
       "    </tr>\n",
       "  </thead>\n",
       "  <tbody>\n",
       "    <tr>\n",
       "      <th>0</th>\n",
       "      <td>China[a]</td>\n",
       "      <td>Asia</td>\n",
       "      <td>Eastern Asia</td>\n",
       "      <td>1427647786</td>\n",
       "      <td>1433783686</td>\n",
       "      <td>+0.43%</td>\n",
       "    </tr>\n",
       "    <tr>\n",
       "      <th>1</th>\n",
       "      <td>India</td>\n",
       "      <td>Asia</td>\n",
       "      <td>Southern Asia</td>\n",
       "      <td>1352642280</td>\n",
       "      <td>1366417754</td>\n",
       "      <td>+1.02%</td>\n",
       "    </tr>\n",
       "    <tr>\n",
       "      <th>2</th>\n",
       "      <td>United States</td>\n",
       "      <td>Americas</td>\n",
       "      <td>Northern America</td>\n",
       "      <td>327096265</td>\n",
       "      <td>329064917</td>\n",
       "      <td>+0.60%</td>\n",
       "    </tr>\n",
       "    <tr>\n",
       "      <th>3</th>\n",
       "      <td>Indonesia</td>\n",
       "      <td>Asia</td>\n",
       "      <td>South-eastern Asia</td>\n",
       "      <td>267670543</td>\n",
       "      <td>270625568</td>\n",
       "      <td>+1.10%</td>\n",
       "    </tr>\n",
       "    <tr>\n",
       "      <th>4</th>\n",
       "      <td>Pakistan</td>\n",
       "      <td>Asia</td>\n",
       "      <td>Southern Asia</td>\n",
       "      <td>212228286</td>\n",
       "      <td>216565318</td>\n",
       "      <td>+2.04%</td>\n",
       "    </tr>\n",
       "  </tbody>\n",
       "</table>\n",
       "</div>"
      ],
      "text/plain": [
       "    Country/Area UN continentalregion[4] UN statisticalsubregion[4]  \\\n",
       "0       China[a]                    Asia               Eastern Asia   \n",
       "1          India                    Asia              Southern Asia   \n",
       "2  United States                Americas           Northern America   \n",
       "3      Indonesia                    Asia         South-eastern Asia   \n",
       "4       Pakistan                    Asia              Southern Asia   \n",
       "\n",
       "   Population(1 July 2018)  Population(1 July 2019)  Change  \n",
       "0               1427647786               1433783686  +0.43%  \n",
       "1               1352642280               1366417754  +1.02%  \n",
       "2                327096265                329064917  +0.60%  \n",
       "3                267670543                270625568  +1.10%  \n",
       "4                212228286                216565318  +2.04%  "
      ]
     },
     "execution_count": 24,
     "metadata": {},
     "output_type": "execute_result"
    }
   ],
   "source": [
    "web_countries_table = web_data[0]\n",
    "\n",
    "web_countries_table.head()"
   ]
  },
  {
   "cell_type": "markdown",
   "id": "88e2faf5-a9f8-4c8a-af5c-0ca277edd86f",
   "metadata": {},
   "source": [
    "By examining the first few rows of our DataFrame, we notice the parsed table includes some unwanted strings such as brackets `[ ]` and parentheses `( )` in country names and column titles. \n",
    "\n",
    "Also, we notice the column Change includes both real numbers and mathematical symbols which would transfer the column into a text datatype (we will learn more about Pandas data types soon). These issues are normal for data accessed from web pages and may not be readily available for data analysis. \n",
    "\n",
    "Luckily, Pandas library includes some other tools and functions that would help the user to clean up the data for analysis. The use of the [read_html()]() function would save time from web data using more traditional web scraping libraries such as Beautiful Soup. In later examples, we will learn more about how to convert similar tables from web pages into DataFrames ready for data analysis.\n",
    "\n",
    "In addition to the above scenarios for creating DataFrame objects using reader functions, the Pandas library also provides a set of writer functions to save DataFrame objects as external datasets.\n",
    "\n",
    "**[Back to Top](#title)**"
   ]
  },
  {
   "cell_type": "markdown",
   "id": "dee5a66c-ded1-4e01-b1e1-06c24c822ca5",
   "metadata": {},
   "source": [
    "### 4.0 Describe Information in DataFrames\n",
    "\n",
    "In the previous section, we learned how to use Pandas reader and writer functions to create DataFrame objects from different data sources. Once the data is uploaded, users can make use of several built-in attributes designed to examine the states of the DataFrames. These attributes can provide users with information about the DataFrame size, data types, missing values, in addition to basic summary statistics. \n",
    "\n",
    "This information is important for users to identify what changes they would need to make to prepare the DataFrame object for further analysis. \n",
    "\n",
    "To demonstrate commands, we will use Pandas reader functions to import some publicly available datasets from GitHub."
   ]
  },
  {
   "cell_type": "code",
   "execution_count": 25,
   "id": "24aa0e44-9de2-4f7d-a585-2398912b006d",
   "metadata": {},
   "outputs": [
    {
     "data": {
      "text/html": [
       "<div>\n",
       "<style scoped>\n",
       "    .dataframe tbody tr th:only-of-type {\n",
       "        vertical-align: middle;\n",
       "    }\n",
       "\n",
       "    .dataframe tbody tr th {\n",
       "        vertical-align: top;\n",
       "    }\n",
       "\n",
       "    .dataframe thead th {\n",
       "        text-align: right;\n",
       "    }\n",
       "</style>\n",
       "<table border=\"1\" class=\"dataframe\">\n",
       "  <thead>\n",
       "    <tr style=\"text-align: right;\">\n",
       "      <th></th>\n",
       "      <th>country</th>\n",
       "      <th>beer_servings</th>\n",
       "      <th>spirit_servings</th>\n",
       "      <th>wine_servings</th>\n",
       "      <th>total_litres_of_pure_alcohol</th>\n",
       "    </tr>\n",
       "  </thead>\n",
       "  <tbody>\n",
       "    <tr>\n",
       "      <th>0</th>\n",
       "      <td>Afghanistan</td>\n",
       "      <td>0</td>\n",
       "      <td>0</td>\n",
       "      <td>0</td>\n",
       "      <td>0.0</td>\n",
       "    </tr>\n",
       "    <tr>\n",
       "      <th>1</th>\n",
       "      <td>Albania</td>\n",
       "      <td>89</td>\n",
       "      <td>132</td>\n",
       "      <td>54</td>\n",
       "      <td>4.9</td>\n",
       "    </tr>\n",
       "    <tr>\n",
       "      <th>2</th>\n",
       "      <td>Algeria</td>\n",
       "      <td>25</td>\n",
       "      <td>0</td>\n",
       "      <td>14</td>\n",
       "      <td>0.7</td>\n",
       "    </tr>\n",
       "    <tr>\n",
       "      <th>3</th>\n",
       "      <td>Andorra</td>\n",
       "      <td>245</td>\n",
       "      <td>138</td>\n",
       "      <td>312</td>\n",
       "      <td>12.4</td>\n",
       "    </tr>\n",
       "    <tr>\n",
       "      <th>4</th>\n",
       "      <td>Angola</td>\n",
       "      <td>217</td>\n",
       "      <td>57</td>\n",
       "      <td>45</td>\n",
       "      <td>5.9</td>\n",
       "    </tr>\n",
       "  </tbody>\n",
       "</table>\n",
       "</div>"
      ],
      "text/plain": [
       "       country  beer_servings  spirit_servings  wine_servings  \\\n",
       "0  Afghanistan              0                0              0   \n",
       "1      Albania             89              132             54   \n",
       "2      Algeria             25                0             14   \n",
       "3      Andorra            245              138            312   \n",
       "4       Angola            217               57             45   \n",
       "\n",
       "   total_litres_of_pure_alcohol  \n",
       "0                           0.0  \n",
       "1                           4.9  \n",
       "2                           0.7  \n",
       "3                          12.4  \n",
       "4                           5.9  "
      ]
     },
     "execution_count": 25,
     "metadata": {},
     "output_type": "execute_result"
    }
   ],
   "source": [
    "# \n",
    "alcohol_data = pd.read_csv('https://raw.githubusercontent.com/fivethirtyeight/data/master/alcohol-consumption/drinks.csv')\n",
    "\n",
    "alcohol_data.head()"
   ]
  },
  {
   "cell_type": "markdown",
   "id": "d8b966e6-585f-44bc-8342-c9019497d9ab",
   "metadata": {},
   "source": [
    "One of the first questions to answer when working with a new dataset is to know the size of the data, i.e., how many rows and columns we have. \n",
    "\n",
    "To answer this question, we can use the shape attribute which returns a Python tuple representing the dimensionality of DataFrame objects. The first value represents the number of records while the second value counts the number of columns. "
   ]
  },
  {
   "cell_type": "code",
   "execution_count": null,
   "id": "cfda1de3-60a8-43d4-85c3-44226214466f",
   "metadata": {},
   "outputs": [],
   "source": [
    "# Check the dimension of alcohol_data DataFrame\n",
    "Alcohol_data.shape"
   ]
  },
  {
   "cell_type": "markdown",
   "id": "4ac26fa8-973c-4a5b-80fc-fbcc3d638e0a",
   "metadata": {},
   "source": [
    "Another commonly used attribute is size, which can be used to identify how many elements we have in a given DataFrame or Series object (including missing values)."
   ]
  },
  {
   "cell_type": "code",
   "execution_count": null,
   "id": "4538f6ee-b858-4534-bca5-d1929d787397",
   "metadata": {},
   "outputs": [],
   "source": [
    "# How many elements in alcohol_data DataFrame\n",
    "Alcohol_data.size\n",
    "\n",
    "# How many elements in alcohol_data[`country`] Series\n",
    "Alcohol_data[`country`].size"
   ]
  },
  {
   "cell_type": "markdown",
   "id": "c65795fa-e1c8-419e-9cc8-868b4c069f7f",
   "metadata": {},
   "source": [
    "Once we have learned about the size of our DataFrame and Series objects, we can learn more details using the `info()` attribute. It provides a useful summary of the DataFrame columns as shown in the  example below:"
   ]
  },
  {
   "cell_type": "code",
   "execution_count": 26,
   "id": "44081e8f-e9c5-4529-9ce1-a6cbba44bb4d",
   "metadata": {},
   "outputs": [
    {
     "name": "stdout",
     "output_type": "stream",
     "text": [
      "<class 'pandas.core.frame.DataFrame'>\n",
      "RangeIndex: 193 entries, 0 to 192\n",
      "Data columns (total 5 columns):\n",
      " #   Column                        Non-Null Count  Dtype  \n",
      "---  ------                        --------------  -----  \n",
      " 0   country                       193 non-null    object \n",
      " 1   beer_servings                 193 non-null    int64  \n",
      " 2   spirit_servings               193 non-null    int64  \n",
      " 3   wine_servings                 193 non-null    int64  \n",
      " 4   total_litres_of_pure_alcohol  193 non-null    float64\n",
      "dtypes: float64(1), int64(3), object(1)\n",
      "memory usage: 7.7+ KB\n"
     ]
    }
   ],
   "source": [
    "alcohol_data.info()"
   ]
  },
  {
   "cell_type": "markdown",
   "id": "9efca385-c68b-4a25-9e64-0715a8c2c767",
   "metadata": {},
   "source": [
    "The results first highlight the number of records in the DataFrame and the range of the numerical index value automatically assigned to this DataFrame. It shows the total number of columns (5 columns in our dataset). Next, it lists the column names with their respective data types and how many values of that column contain an empty or null value. \n",
    "\n",
    "In this dataset, it seems we don’t have any missing values since the number of records is equal to the number of non-null counts. We notice the data types for the country column is Pandas objects which represent text values, while three servings columns (`beer_servings`, `spirit_servings`, and `wine_servings`) have the int64 data type which represents integer numbers, and total litres column assigned float64 data type which allows real numbers.\n",
    "\n",
    "At this stage, we have an idea about what changes we need to make in order to have the correct data types. For example, numerical data types such as int64 allow us to apply mathematical calculations on the values while object data type allows us to apply text formatting functions. In the next section about data cleaning, we will learn how to change data types. \n",
    "\n",
    "Finally, the function displays data about how many columns there are for each data type and the memory size of this DataFrame (the memory size info can be useful when working with a large DataFrame and you may wish to optimize the DataFrame size).\n",
    "\n",
    "The other exploratory attribute [describe()]() will return basic statistical analysis of the DataFrame numeric columns as shown in this example below:"
   ]
  },
  {
   "cell_type": "code",
   "execution_count": 27,
   "id": "86541d12-9f4f-4055-8e1d-e29c34b50d6b",
   "metadata": {},
   "outputs": [
    {
     "data": {
      "text/html": [
       "<div>\n",
       "<style scoped>\n",
       "    .dataframe tbody tr th:only-of-type {\n",
       "        vertical-align: middle;\n",
       "    }\n",
       "\n",
       "    .dataframe tbody tr th {\n",
       "        vertical-align: top;\n",
       "    }\n",
       "\n",
       "    .dataframe thead th {\n",
       "        text-align: right;\n",
       "    }\n",
       "</style>\n",
       "<table border=\"1\" class=\"dataframe\">\n",
       "  <thead>\n",
       "    <tr style=\"text-align: right;\">\n",
       "      <th></th>\n",
       "      <th>beer_servings</th>\n",
       "      <th>spirit_servings</th>\n",
       "      <th>wine_servings</th>\n",
       "      <th>total_litres_of_pure_alcohol</th>\n",
       "    </tr>\n",
       "  </thead>\n",
       "  <tbody>\n",
       "    <tr>\n",
       "      <th>count</th>\n",
       "      <td>193.000000</td>\n",
       "      <td>193.000000</td>\n",
       "      <td>193.000000</td>\n",
       "      <td>193.000000</td>\n",
       "    </tr>\n",
       "    <tr>\n",
       "      <th>mean</th>\n",
       "      <td>106.160622</td>\n",
       "      <td>80.994819</td>\n",
       "      <td>49.450777</td>\n",
       "      <td>4.717098</td>\n",
       "    </tr>\n",
       "    <tr>\n",
       "      <th>std</th>\n",
       "      <td>101.143103</td>\n",
       "      <td>88.284312</td>\n",
       "      <td>79.697598</td>\n",
       "      <td>3.773298</td>\n",
       "    </tr>\n",
       "    <tr>\n",
       "      <th>min</th>\n",
       "      <td>0.000000</td>\n",
       "      <td>0.000000</td>\n",
       "      <td>0.000000</td>\n",
       "      <td>0.000000</td>\n",
       "    </tr>\n",
       "    <tr>\n",
       "      <th>25%</th>\n",
       "      <td>20.000000</td>\n",
       "      <td>4.000000</td>\n",
       "      <td>1.000000</td>\n",
       "      <td>1.300000</td>\n",
       "    </tr>\n",
       "    <tr>\n",
       "      <th>50%</th>\n",
       "      <td>76.000000</td>\n",
       "      <td>56.000000</td>\n",
       "      <td>8.000000</td>\n",
       "      <td>4.200000</td>\n",
       "    </tr>\n",
       "    <tr>\n",
       "      <th>75%</th>\n",
       "      <td>188.000000</td>\n",
       "      <td>128.000000</td>\n",
       "      <td>59.000000</td>\n",
       "      <td>7.200000</td>\n",
       "    </tr>\n",
       "    <tr>\n",
       "      <th>max</th>\n",
       "      <td>376.000000</td>\n",
       "      <td>438.000000</td>\n",
       "      <td>370.000000</td>\n",
       "      <td>14.400000</td>\n",
       "    </tr>\n",
       "  </tbody>\n",
       "</table>\n",
       "</div>"
      ],
      "text/plain": [
       "       beer_servings  spirit_servings  wine_servings  \\\n",
       "count     193.000000       193.000000     193.000000   \n",
       "mean      106.160622        80.994819      49.450777   \n",
       "std       101.143103        88.284312      79.697598   \n",
       "min         0.000000         0.000000       0.000000   \n",
       "25%        20.000000         4.000000       1.000000   \n",
       "50%        76.000000        56.000000       8.000000   \n",
       "75%       188.000000       128.000000      59.000000   \n",
       "max       376.000000       438.000000     370.000000   \n",
       "\n",
       "       total_litres_of_pure_alcohol  \n",
       "count                    193.000000  \n",
       "mean                       4.717098  \n",
       "std                        3.773298  \n",
       "min                        0.000000  \n",
       "25%                        1.300000  \n",
       "50%                        4.200000  \n",
       "75%                        7.200000  \n",
       "max                       14.400000  "
      ]
     },
     "execution_count": 27,
     "metadata": {},
     "output_type": "execute_result"
    }
   ],
   "source": [
    "alcohol_data.describe()"
   ]
  },
  {
   "cell_type": "markdown",
   "id": "e3082fcd-5d9a-44c9-9156-6b07519a7f98",
   "metadata": {},
   "source": [
    "From the example above, we notice the [describe()]() function was only applied to the numerical columns and the country name column was ignored. This is because descriptive statistics are based on numerical columns only to summarize the central tendency, dispersion, and shape of a dataset’s distribution, excluding NaN values.\n",
    "\n",
    "In addition to the numerical statistical summary, you can also explore the features of text values in DataFrames. For this exercise, we will use the [country codes dataset]() from the [Open Data GitHub repository](). The data include many details about each country's international codes and geographic regions."
   ]
  },
  {
   "cell_type": "code",
   "execution_count": 28,
   "id": "9a440ae4-bf94-4b68-ad01-25c7cd6fda0c",
   "metadata": {},
   "outputs": [
    {
     "data": {
      "text/html": [
       "<div>\n",
       "<style scoped>\n",
       "    .dataframe tbody tr th:only-of-type {\n",
       "        vertical-align: middle;\n",
       "    }\n",
       "\n",
       "    .dataframe tbody tr th {\n",
       "        vertical-align: top;\n",
       "    }\n",
       "\n",
       "    .dataframe thead th {\n",
       "        text-align: right;\n",
       "    }\n",
       "</style>\n",
       "<table border=\"1\" class=\"dataframe\">\n",
       "  <thead>\n",
       "    <tr style=\"text-align: right;\">\n",
       "      <th></th>\n",
       "      <th>FIFA</th>\n",
       "      <th>Dial</th>\n",
       "      <th>ISO3166-1-Alpha-3</th>\n",
       "      <th>MARC</th>\n",
       "      <th>is_independent</th>\n",
       "      <th>ISO3166-1-numeric</th>\n",
       "      <th>GAUL</th>\n",
       "      <th>FIPS</th>\n",
       "      <th>WMO</th>\n",
       "      <th>ISO3166-1-Alpha-2</th>\n",
       "      <th>...</th>\n",
       "      <th>Sub-region Name</th>\n",
       "      <th>official_name_ru</th>\n",
       "      <th>Global Name</th>\n",
       "      <th>Capital</th>\n",
       "      <th>Continent</th>\n",
       "      <th>TLD</th>\n",
       "      <th>Languages</th>\n",
       "      <th>Geoname ID</th>\n",
       "      <th>CLDR display name</th>\n",
       "      <th>EDGAR</th>\n",
       "    </tr>\n",
       "  </thead>\n",
       "  <tbody>\n",
       "    <tr>\n",
       "      <th>0</th>\n",
       "      <td>TPE</td>\n",
       "      <td>886</td>\n",
       "      <td>TWN</td>\n",
       "      <td>ch</td>\n",
       "      <td>Yes</td>\n",
       "      <td>158.0</td>\n",
       "      <td>925</td>\n",
       "      <td>TW</td>\n",
       "      <td></td>\n",
       "      <td>TW</td>\n",
       "      <td>...</td>\n",
       "      <td>NaN</td>\n",
       "      <td>NaN</td>\n",
       "      <td>NaN</td>\n",
       "      <td>Taipei</td>\n",
       "      <td>AS</td>\n",
       "      <td>.tw</td>\n",
       "      <td>zh-TW,zh,nan,hak</td>\n",
       "      <td>1668284.0</td>\n",
       "      <td>Taiwan</td>\n",
       "      <td>NaN</td>\n",
       "    </tr>\n",
       "    <tr>\n",
       "      <th>1</th>\n",
       "      <td>AFG</td>\n",
       "      <td>93</td>\n",
       "      <td>AFG</td>\n",
       "      <td>af</td>\n",
       "      <td>Yes</td>\n",
       "      <td>4.0</td>\n",
       "      <td>1</td>\n",
       "      <td>AF</td>\n",
       "      <td>AF</td>\n",
       "      <td>AF</td>\n",
       "      <td>...</td>\n",
       "      <td>Southern Asia</td>\n",
       "      <td>Афганистан</td>\n",
       "      <td>World</td>\n",
       "      <td>Kabul</td>\n",
       "      <td>AS</td>\n",
       "      <td>.af</td>\n",
       "      <td>fa-AF,ps,uz-AF,tk</td>\n",
       "      <td>1149361.0</td>\n",
       "      <td>Afghanistan</td>\n",
       "      <td>B2</td>\n",
       "    </tr>\n",
       "    <tr>\n",
       "      <th>2</th>\n",
       "      <td>ALB</td>\n",
       "      <td>355</td>\n",
       "      <td>ALB</td>\n",
       "      <td>aa</td>\n",
       "      <td>Yes</td>\n",
       "      <td>8.0</td>\n",
       "      <td>3</td>\n",
       "      <td>AL</td>\n",
       "      <td>AB</td>\n",
       "      <td>AL</td>\n",
       "      <td>...</td>\n",
       "      <td>Southern Europe</td>\n",
       "      <td>Албания</td>\n",
       "      <td>World</td>\n",
       "      <td>Tirana</td>\n",
       "      <td>EU</td>\n",
       "      <td>.al</td>\n",
       "      <td>sq,el</td>\n",
       "      <td>783754.0</td>\n",
       "      <td>Albania</td>\n",
       "      <td>B3</td>\n",
       "    </tr>\n",
       "    <tr>\n",
       "      <th>3</th>\n",
       "      <td>ALG</td>\n",
       "      <td>213</td>\n",
       "      <td>DZA</td>\n",
       "      <td>ae</td>\n",
       "      <td>Yes</td>\n",
       "      <td>12.0</td>\n",
       "      <td>4</td>\n",
       "      <td>AG</td>\n",
       "      <td>AL</td>\n",
       "      <td>DZ</td>\n",
       "      <td>...</td>\n",
       "      <td>Northern Africa</td>\n",
       "      <td>Алжир</td>\n",
       "      <td>World</td>\n",
       "      <td>Algiers</td>\n",
       "      <td>AF</td>\n",
       "      <td>.dz</td>\n",
       "      <td>ar-DZ</td>\n",
       "      <td>2589581.0</td>\n",
       "      <td>Algeria</td>\n",
       "      <td>B4</td>\n",
       "    </tr>\n",
       "    <tr>\n",
       "      <th>4</th>\n",
       "      <td>ASA</td>\n",
       "      <td>1-684</td>\n",
       "      <td>ASM</td>\n",
       "      <td>as</td>\n",
       "      <td>Territory of US</td>\n",
       "      <td>16.0</td>\n",
       "      <td>5</td>\n",
       "      <td>AQ</td>\n",
       "      <td></td>\n",
       "      <td>AS</td>\n",
       "      <td>...</td>\n",
       "      <td>Polynesia</td>\n",
       "      <td>Американское Самоа</td>\n",
       "      <td>World</td>\n",
       "      <td>Pago Pago</td>\n",
       "      <td>OC</td>\n",
       "      <td>.as</td>\n",
       "      <td>en-AS,sm,to</td>\n",
       "      <td>5880801.0</td>\n",
       "      <td>American Samoa</td>\n",
       "      <td>B5</td>\n",
       "    </tr>\n",
       "  </tbody>\n",
       "</table>\n",
       "<p>5 rows × 56 columns</p>\n",
       "</div>"
      ],
      "text/plain": [
       "  FIFA   Dial ISO3166-1-Alpha-3 MARC   is_independent  ISO3166-1-numeric GAUL  \\\n",
       "0  TPE    886               TWN   ch              Yes              158.0  925   \n",
       "1  AFG     93               AFG   af              Yes                4.0    1   \n",
       "2  ALB    355               ALB   aa              Yes                8.0    3   \n",
       "3  ALG    213               DZA   ae              Yes               12.0    4   \n",
       "4  ASA  1-684               ASM   as  Territory of US               16.0    5   \n",
       "\n",
       "  FIPS WMO ISO3166-1-Alpha-2  ...  Sub-region Name    official_name_ru  \\\n",
       "0   TW                    TW  ...              NaN                 NaN   \n",
       "1   AF  AF                AF  ...    Southern Asia          Афганистан   \n",
       "2   AL  AB                AL  ...  Southern Europe             Албания   \n",
       "3   AG  AL                DZ  ...  Northern Africa               Алжир   \n",
       "4   AQ                    AS  ...        Polynesia  Американское Самоа   \n",
       "\n",
       "  Global Name    Capital Continent  TLD          Languages Geoname ID  \\\n",
       "0         NaN     Taipei        AS  .tw   zh-TW,zh,nan,hak  1668284.0   \n",
       "1       World      Kabul        AS  .af  fa-AF,ps,uz-AF,tk  1149361.0   \n",
       "2       World     Tirana        EU  .al              sq,el   783754.0   \n",
       "3       World    Algiers        AF  .dz              ar-DZ  2589581.0   \n",
       "4       World  Pago Pago        OC  .as        en-AS,sm,to  5880801.0   \n",
       "\n",
       "  CLDR display name EDGAR  \n",
       "0            Taiwan   NaN  \n",
       "1       Afghanistan    B2  \n",
       "2           Albania    B3  \n",
       "3           Algeria    B4  \n",
       "4    American Samoa    B5  \n",
       "\n",
       "[5 rows x 56 columns]"
      ]
     },
     "execution_count": 28,
     "metadata": {},
     "output_type": "execute_result"
    }
   ],
   "source": [
    "#\n",
    "countries_data = pd.read_csv('https://raw.githubusercontent.com/datasets/country-codes/master/data/country-codes.csv')\n",
    "\n",
    "countries_data.head()"
   ]
  },
  {
   "cell_type": "markdown",
   "id": "1506b4a3-7abc-4caa-8263-786559728d55",
   "metadata": {},
   "source": [
    "For instance, the column Region Name appears to be a text column that holds the geographical region of each country. In order to find the number of individual region values we can apply functions like [unique()](), and [value_counts()]() on Pandas series values like below:"
   ]
  },
  {
   "cell_type": "code",
   "execution_count": 29,
   "id": "d25ddd02-416d-4ffd-8e4b-db31b602e764",
   "metadata": {},
   "outputs": [
    {
     "data": {
      "text/plain": [
       "array([nan, 'Asia', 'Europe', 'Africa', 'Oceania', 'Americas'],\n",
       "      dtype=object)"
      ]
     },
     "execution_count": 29,
     "metadata": {},
     "output_type": "execute_result"
    }
   ],
   "source": [
    "countries_data['Region Name'].unique()"
   ]
  },
  {
   "cell_type": "code",
   "execution_count": 30,
   "id": "7e24e395-044d-42f4-9cfb-309b2ac08634",
   "metadata": {},
   "outputs": [
    {
     "data": {
      "text/plain": [
       "Africa      60\n",
       "Americas    57\n",
       "Europe      52\n",
       "Asia        50\n",
       "Oceania     29\n",
       "Name: Region Name, dtype: int64"
      ]
     },
     "execution_count": 30,
     "metadata": {},
     "output_type": "execute_result"
    }
   ],
   "source": [
    "countries_data['Region Name'].value_counts()"
   ]
  },
  {
   "cell_type": "markdown",
   "id": "1d378bcc-8ad2-45e0-93c2-5d155547df82",
   "metadata": {},
   "source": [
    "**[Back to Top](#title)**"
   ]
  },
  {
   "cell_type": "markdown",
   "id": "ab591659-1314-4050-bc03-8a32b0cf219c",
   "metadata": {},
   "source": [
    "### 5.0 Understanding Data Types\n",
    "\n",
    "It is important to assign the correct data type for each DataFrame column in order to avoid any problems for data analysis. Pandas will try to infer the correct data type for each column. For a list of Pandas data type mapping, please refer to this link. \n",
    "\n",
    "However, sometimes you need to change the data type manually. Selecting the correct data type will allow you to perform further analysis such as mathematical analysis on numeric columns and text formatting on object data types. The following table presents common Pandas data types:\n",
    "\n",
    "| Pandas DataType | Usage |\n",
    "| --- | --- |\n",
    "| object | Text or mixed numeric and non-numeric values |\n",
    "\n",
    "\n",
    "\n",
    "\n",
    "int64\n",
    "Integer numbers\n",
    "float64\n",
    "Floating point numbers\n",
    "bool\n",
    "True/False values\n",
    "datetime64\n",
    "Date and time values\n",
    "timedelta[ns]\n",
    "Differences between two datetimes\n",
    "category\n",
    "Finite list of text values\n",
    "\n"
   ]
  },
  {
   "cell_type": "code",
   "execution_count": null,
   "id": "3c4b396f-7af6-4b2a-afec-05a3fd957af0",
   "metadata": {},
   "outputs": [],
   "source": []
  },
  {
   "cell_type": "code",
   "execution_count": null,
   "id": "5b53e8e7-126e-47cd-ad60-53cf4513dc4f",
   "metadata": {},
   "outputs": [],
   "source": []
  }
 ],
 "metadata": {
  "kernelspec": {
   "display_name": "Python 3",
   "language": "python",
   "name": "python3"
  },
  "language_info": {
   "codemirror_mode": {
    "name": "ipython",
    "version": 3
   },
   "file_extension": ".py",
   "mimetype": "text/x-python",
   "name": "python",
   "nbconvert_exporter": "python",
   "pygments_lexer": "ipython3",
   "version": "3.7.7"
  }
 },
 "nbformat": 4,
 "nbformat_minor": 5
}
