{
 "cells": [
  {
   "cell_type": "markdown",
   "id": "f1330f70-5657-49aa-96ad-1f4354ba12c7",
   "metadata": {
    "tags": []
   },
   "source": [
    "# <center> Getting Started with Pandas </center>\n",
    "\n",
    "- [Import Pandas Library](#section_1)\n",
    "- [Check Library Version](#section_2)\n",
    "- [Anatomy of Pandas Data Structures](#section_3)\n",
    "- [Understand Pandas Data Types](#section_4)\n",
    "- [Pandas Syntax Structure](#section_5)\n",
    "\n",
    "<hr>"
   ]
  },
  {
   "cell_type": "markdown",
   "id": "1a638fae-ef10-4819-9593-6f53a30ebc31",
   "metadata": {},
   "source": [
    "### How to Import Pandas Library <a class=\"anchor\" id=\"section_1\"></a>\n",
    "\n",
    "To start using Pandas in your analysis environment, you need to run the `import` command."
   ]
  },
  {
   "cell_type": "code",
   "execution_count": 1,
   "id": "0903bf70-bd51-486e-b959-eb6e08e27974",
   "metadata": {},
   "outputs": [],
   "source": [
    "# Import Pandas library\n",
    "import pandas as pd"
   ]
  },
  {
   "cell_type": "markdown",
   "id": "bd781ffc-5a2f-4ae0-b602-8de27e7a6069",
   "metadata": {},
   "source": [
    "### Check Current Version of Pandas library\n",
    "To check your current version of Pandas library, you can run the `version` command."
   ]
  },
  {
   "cell_type": "code",
   "execution_count": 2,
   "id": "c8967e0f-6b76-4461-9df1-8fc1a3841b2f",
   "metadata": {},
   "outputs": [
    {
     "data": {
      "text/plain": [
       "'1.3.4'"
      ]
     },
     "execution_count": 2,
     "metadata": {},
     "output_type": "execute_result"
    }
   ],
   "source": [
    "# Check Pandas version\n",
    "pd.__version__"
   ]
  },
  {
   "cell_type": "markdown",
   "id": "0ffc9993-c2f8-463d-a705-311f2fe83670",
   "metadata": {},
   "source": [
    "<br>\n",
    "<br>\n",
    "<br>\n",
    "<br>\n",
    "<br>\n",
    "<br>\n",
    "<br>"
   ]
  },
  {
   "cell_type": "markdown",
   "id": "39dedc07-26c5-4349-8c75-c3d6eacabe39",
   "metadata": {
    "tags": []
   },
   "source": [
    "### Anatomy of Pandas Data Structures\n",
    "The three main Pandas data structure objects are:\n",
    "\n",
    "\n",
    "- **DataFrame** object is a two-dimensional labeled structure that can hold data in rows and columns. \n",
    "- **Series** object is a one-dimensional labeled structure with a descriptive name and unique data type\n",
    "- **Index** object used for storing axis labels for all Pandas objects."
   ]
  },
  {
   "cell_type": "code",
   "execution_count": 3,
   "id": "6cb0ad42-ae9b-45c0-af48-3d6770c2ae7d",
   "metadata": {},
   "outputs": [],
   "source": [
    "# Import Sample DataFrame\n",
    "df_countries = pd.read_csv(\"sample dataset.csv\")"
   ]
  },
  {
   "cell_type": "code",
   "execution_count": 4,
   "id": "277b584a-9775-41b8-b6b7-31ef98962b32",
   "metadata": {},
   "outputs": [
    {
     "data": {
      "text/html": [
       "<div>\n",
       "<style scoped>\n",
       "    .dataframe tbody tr th:only-of-type {\n",
       "        vertical-align: middle;\n",
       "    }\n",
       "\n",
       "    .dataframe tbody tr th {\n",
       "        vertical-align: top;\n",
       "    }\n",
       "\n",
       "    .dataframe thead th {\n",
       "        text-align: right;\n",
       "    }\n",
       "</style>\n",
       "<table border=\"1\" class=\"dataframe\">\n",
       "  <thead>\n",
       "    <tr style=\"text-align: right;\">\n",
       "      <th></th>\n",
       "      <th>country_code</th>\n",
       "      <th>country_name</th>\n",
       "      <th>capital_city</th>\n",
       "      <th>population_size</th>\n",
       "      <th>national_day</th>\n",
       "    </tr>\n",
       "  </thead>\n",
       "  <tbody>\n",
       "    <tr>\n",
       "      <th>0</th>\n",
       "      <td>CN</td>\n",
       "      <td>China</td>\n",
       "      <td>Beijing</td>\n",
       "      <td>1440297825</td>\n",
       "      <td>10/1/1949</td>\n",
       "    </tr>\n",
       "    <tr>\n",
       "      <th>1</th>\n",
       "      <td>AR</td>\n",
       "      <td>Argentina</td>\n",
       "      <td>Buenos Aires</td>\n",
       "      <td>45267449</td>\n",
       "      <td>7/9/1816</td>\n",
       "    </tr>\n",
       "    <tr>\n",
       "      <th>2</th>\n",
       "      <td>IN</td>\n",
       "      <td>India</td>\n",
       "      <td>New Delhi</td>\n",
       "      <td>1382345085</td>\n",
       "      <td>15/7/1947</td>\n",
       "    </tr>\n",
       "    <tr>\n",
       "      <th>3</th>\n",
       "      <td>NG</td>\n",
       "      <td>Nigeria</td>\n",
       "      <td>Abuja</td>\n",
       "      <td>206984347</td>\n",
       "      <td>1/10/1960</td>\n",
       "    </tr>\n",
       "    <tr>\n",
       "      <th>4</th>\n",
       "      <td>US</td>\n",
       "      <td>United States</td>\n",
       "      <td>Washington</td>\n",
       "      <td>331341050</td>\n",
       "      <td>4/7/1776</td>\n",
       "    </tr>\n",
       "  </tbody>\n",
       "</table>\n",
       "</div>"
      ],
      "text/plain": [
       "  country_code   country_name  capital_city  population_size national_day\n",
       "0           CN          China       Beijing       1440297825    10/1/1949\n",
       "1           AR      Argentina  Buenos Aires         45267449     7/9/1816\n",
       "2           IN          India     New Delhi       1382345085    15/7/1947\n",
       "3           NG        Nigeria         Abuja        206984347    1/10/1960\n",
       "4           US  United States    Washington        331341050     4/7/1776"
      ]
     },
     "execution_count": 4,
     "metadata": {},
     "output_type": "execute_result"
    }
   ],
   "source": [
    "df_countries"
   ]
  },
  {
   "cell_type": "markdown",
   "id": "e0ee16d0-bf6d-4a07-9217-4c5d95b87a47",
   "metadata": {},
   "source": [
    "<br>\n",
    "<br>\n",
    "<br>\n",
    "<br>\n",
    "<br>\n",
    "<br>\n",
    "<br>\n",
    "<br>\n",
    "<br>\n",
    "<br>\n",
    "<br>"
   ]
  },
  {
   "cell_type": "code",
   "execution_count": null,
   "id": "5a444c35-d27e-482d-b236-e6e2a8947873",
   "metadata": {},
   "outputs": [],
   "source": [
    "# Assign the \"country code\" as DataFrame index\n",
    "df_countries.set_index(\"country_code\")"
   ]
  },
  {
   "cell_type": "markdown",
   "id": "eb1f065c-cf6c-44a2-861e-1bfccacfabb2",
   "metadata": {},
   "source": [
    "<br>"
   ]
  },
  {
   "cell_type": "code",
   "execution_count": null,
   "id": "0f3a141f-b5db-4102-a11a-d33871953b66",
   "metadata": {},
   "outputs": [],
   "source": [
    "df_countries"
   ]
  },
  {
   "cell_type": "code",
   "execution_count": null,
   "id": "1520f3d2-8059-49c0-954b-e08e7daed93c",
   "metadata": {},
   "outputs": [],
   "source": [
    "# Display the dimensions of countries DataFrame\n",
    "df_countries.shape"
   ]
  },
  {
   "cell_type": "code",
   "execution_count": null,
   "id": "d4c38834-d751-4cb7-a52a-c9db46a93c0f",
   "metadata": {},
   "outputs": [],
   "source": []
  }
 ],
 "metadata": {
  "kernelspec": {
   "display_name": "Python 3 (ipykernel)",
   "language": "python",
   "name": "python3"
  },
  "language_info": {
   "codemirror_mode": {
    "name": "ipython",
    "version": 3
   },
   "file_extension": ".py",
   "mimetype": "text/x-python",
   "name": "python",
   "nbconvert_exporter": "python",
   "pygments_lexer": "ipython3",
   "version": "3.9.7"
  }
 },
 "nbformat": 4,
 "nbformat_minor": 5
}
