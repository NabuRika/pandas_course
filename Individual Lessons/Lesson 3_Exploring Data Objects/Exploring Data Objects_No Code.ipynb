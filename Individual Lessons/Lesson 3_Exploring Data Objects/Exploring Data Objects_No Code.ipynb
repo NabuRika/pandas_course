{
 "cells": [
  {
   "cell_type": "markdown",
   "id": "19bb8913-1269-4f72-9c3d-7385ddcac993",
   "metadata": {},
   "source": [
    "# <center> Exploring Data Objects </center>\n",
    "\n",
    "- [Head and Tail Methods](#section_1)\n",
    "- [The info() Method](#section_2)\n",
    "- [Shape and Size Attributes](#section_3)\n",
    "- [Descriptive Statistics](#section_4)\n",
    "- [Unique and Value Counts](#section_5)\n",
    "<hr>"
   ]
  },
  {
   "cell_type": "markdown",
   "id": "39866074-7bcb-468e-b075-af1271626a4a",
   "metadata": {},
   "source": [
    "### Head and Tail Methods <a class=\"anchor\" id=\"section_1\"></a>\n",
    "\n",
    "[`Head()`](https://pandas.pydata.org/docs/reference/api/pandas.DataFrame.head.html) and [`tail()`](https://pandas.pydata.org/docs/reference/api/pandas.DataFrame.tail.html) are widely used methods to display the upper and lower parts of Pandas data objects."
   ]
  },
  {
   "cell_type": "code",
   "execution_count": 5,
   "id": "3ce6e561-7bd6-4dd4-8dfb-ef86a09824ad",
   "metadata": {},
   "outputs": [],
   "source": [
    "# Import Pandas Library\n"
   ]
  },
  {
   "cell_type": "markdown",
   "id": "831d3629",
   "metadata": {},
   "source": [
    "In the example below, we will create a DataFrame using the [alcohol consumption](https://raw.githubusercontent.com/fivethirtyeight/data/master/alcohol-consumption/drinks.csv) dataset that we used earlier in the course.\n",
    "\n",
    "This dataset has 193 rows and 5 columns. "
   ]
  },
  {
   "cell_type": "code",
   "execution_count": 1,
   "id": "2a1ed92d-6cd5-4b93-8564-27e7b2b0a91a",
   "metadata": {},
   "outputs": [],
   "source": [
    "# Read dataset from GitHub repository\n",
    "\n",
    "\n",
    "# Display DataFrame\n"
   ]
  },
  {
   "cell_type": "code",
   "execution_count": 3,
   "id": "c9b513b4-eba5-4a11-9955-7b79bb96b108",
   "metadata": {},
   "outputs": [],
   "source": [
    "# Display top DataFrame rows\n"
   ]
  },
  {
   "cell_type": "code",
   "execution_count": 6,
   "id": "7ee5d0c9-447c-430b-9b96-e485ff820e26",
   "metadata": {},
   "outputs": [],
   "source": [
    "# Display bottom DataFrame rows\n"
   ]
  },
  {
   "cell_type": "markdown",
   "id": "944c47d8",
   "metadata": {},
   "source": [
    "We can adjust the default behaviour and pass the number of records we want to display as you can see in these two examples:"
   ]
  },
  {
   "cell_type": "code",
   "execution_count": 5,
   "id": "36c3dff8",
   "metadata": {},
   "outputs": [],
   "source": [
    "# Display top 8 DataFrame rows\n",
    "\n",
    "\n",
    "# Display bottom 8 DataFrame rows\n"
   ]
  },
  {
   "cell_type": "markdown",
   "id": "17a050b8",
   "metadata": {},
   "source": [
    "In summary, these two functions are mainly used to have a quick look and verify we are using the correct dataset."
   ]
  },
  {
   "cell_type": "markdown",
   "id": "b23abbb5-bf93-4a43-b5d3-ad9c93c65741",
   "metadata": {},
   "source": [
    "### The info() Method <a class=\"anchor\" id=\"section_2\"></a>\n",
    "\n",
    "The [info()](https://pandas.pydata.org/docs/reference/api/pandas.DataFrame.info.html) method is designed to give us a high-level summary about our DataFrame objects. \n",
    "\n",
    "Let's apply the `info()` method to our alcohol DataFrame below. "
   ]
  },
  {
   "cell_type": "code",
   "execution_count": 4,
   "id": "c9d2f26f-6b5c-4bc4-b8b9-6f9faac6fcc0",
   "metadata": {},
   "outputs": [],
   "source": [
    "# Display summary of the DataFrame columns\n"
   ]
  },
  {
   "cell_type": "markdown",
   "id": "f1c764e8-1cad-40e8-b513-b87042630f96",
   "metadata": {},
   "source": [
    "The results first highlight the number of records in the DataFrame and the range of the numerical index value automatically assigned to this DataFrame. It shows the total number of columns (5 columns in our dataset). Next, it lists the column names with their respective data types and how many values of that column contain an empty or null value.\n",
    "\n",
    "In this dataset, it seems we don’t have any missing values since the number of records is equal to the number of non-null counts. We notice the data types for the country column is Pandas objects which represent text values, while three servings columns (beer_servings, spirit_servings, and wine_servings) have the int64 data type which represents integer numbers, and total litres column assigned float64 data type which allows real numbers.\n",
    "\n",
    "At this stage, we have an idea about what changes we need to make in order to have the correct data types. For example, numerical data types such as int64 allow us to apply mathematical calculations on the values while object data type allows us to apply text formatting functions. In the next section about data cleaning, we will learn how to change data types.\n",
    "\n",
    "Finally, the function displays data about how many columns there are for each data type and the memory size of this DataFrame (the memory size info can be useful when working with a large DataFrame and you may wish to optimize the DataFrame size)."
   ]
  },
  {
   "cell_type": "markdown",
   "id": "4ac1d87c-8495-4fc7-9150-ed9c508246f8",
   "metadata": {},
   "source": [
    "### Shape and Size Attributes <a class=\"anchor\" id=\"section_3\"></a>\n",
    "\n",
    "[`Shape`](https://pandas.pydata.org/pandas-docs/version/0.23/generated/pandas.DataFrame.shape.html) and [`size`](https://pandas.pydata.org/pandas-docs/stable/reference/api/pandas.DataFrame.size.html) attributes are used to idenify dimensionality of DataFrame objects and count the number of elements"
   ]
  },
  {
   "cell_type": "code",
   "execution_count": 8,
   "id": "377b2e0b-c96d-4a1d-98ab-354105544614",
   "metadata": {},
   "outputs": [],
   "source": [
    "# How many elements in alcohol_data DataFrame\n"
   ]
  },
  {
   "cell_type": "code",
   "execution_count": 9,
   "id": "2b5566fc-c8bc-4492-95f4-5d4c608730cf",
   "metadata": {},
   "outputs": [],
   "source": [
    "# How many elements in alcohol_data[`country`] Series\n"
   ]
  },
  {
   "cell_type": "code",
   "execution_count": 10,
   "id": "fce3ce1d-4875-4600-893c-8b096513db7b",
   "metadata": {},
   "outputs": [],
   "source": [
    "# Check the dimension of alcohol_data DataFrame\n"
   ]
  },
  {
   "cell_type": "code",
   "execution_count": 11,
   "id": "d4b8f40e-5c0e-4518-a580-2309175efc40",
   "metadata": {},
   "outputs": [],
   "source": [
    "# Print items generated from the shape attribute\n"
   ]
  },
  {
   "cell_type": "markdown",
   "id": "1f6627d6-9f97-4a87-885c-98553c6db156",
   "metadata": {},
   "source": [
    "### Descriptive Statistics <a class=\"anchor\" id=\"section_4\"></a>\n",
    "\n",
    "[`Describe()`](https://pandas.pydata.org/docs/reference/api/pandas.DataFrame.describe.html) is a DataFrame method provide descriptive statistics such as central tendency, dispersion and shape of a dataset’s distribution, excluding NaN values."
   ]
  },
  {
   "cell_type": "code",
   "execution_count": 12,
   "id": "08dbdba6-9d25-4bba-a6e8-d941b61089aa",
   "metadata": {},
   "outputs": [],
   "source": [
    "# Display statistical analysis of the DataFrame\n"
   ]
  },
  {
   "cell_type": "markdown",
   "id": "72254390-1da1-4fef-a3db-1e19f2146cb5",
   "metadata": {},
   "source": [
    "From the example above, we notice the [`describe()`](https://pandas.pydata.org/docs/reference/api/pandas.DataFrame.describe.html) function was only applied to the numerical columns and the country name column was ignored. This is because descriptive statistics are based on numerical columns only to summarize the central tendency, dispersion, and shape of a dataset’s distribution, excluding NaN values.\n",
    "\n",
    "In addition to the numerical statistical summary, you can also explore the features of text values in DataFrames. For this exercise, we will use the [country codes dataset](https://raw.githubusercontent.com/datasets/country-codes/master/data/country-codes.csv) from the Open Data GitHub repository. The data include many details about each country's international codes and geographic regions."
   ]
  },
  {
   "cell_type": "markdown",
   "id": "8d74a4b5-2443-4462-97b5-20d6951a7210",
   "metadata": {},
   "source": [
    "### Unique and Value Counts <a class=\"anchor\" id=\"section_5\"></a>\n",
    "\n",
    "The descriptive statistics in the above examples are mainly for the numerical values in our dataset, we could also have non-numerical columns such as free text and categories. \n",
    "\n",
    "So maybe we want to know the number of unique feature values and how many different values are there?"
   ]
  },
  {
   "cell_type": "markdown",
   "id": "88170459",
   "metadata": {},
   "source": [
    "**Unique() Method**\n",
    "\n",
    "The Pandas [unique()](https://pandas.pydata.org/docs/reference/api/pandas.unique.html) method returns unique values in order of appearance which does not sort."
   ]
  },
  {
   "cell_type": "code",
   "execution_count": 14,
   "id": "8f6313b0-a5df-4718-bd39-869784ea6fe3",
   "metadata": {},
   "outputs": [],
   "source": [
    "# Read the country codes dataset from GitHub repository\n",
    "\n",
    "\n",
    "# Display DataFrame head\n"
   ]
  },
  {
   "cell_type": "markdown",
   "id": "d2fb012a-cc86-48a8-8207-3fad7763c699",
   "metadata": {},
   "source": [
    "The column `Region Name` appears to be a text column that holds the geographical region of each country. In order to find the number of individual region values we can apply the unique() and value_counts() functions on Pandas series values like below:"
   ]
  },
  {
   "cell_type": "code",
   "execution_count": 15,
   "id": "29571e58-bb7e-4c4e-8ca4-c3cc16b0bd10",
   "metadata": {},
   "outputs": [],
   "source": [
    "# Display unique individual region names\n"
   ]
  },
  {
   "cell_type": "markdown",
   "id": "f996a6a4",
   "metadata": {},
   "source": [
    "**Value_counts() Method**\n",
    "\n",
    "This function [value_counts()](https://pandas.pydata.org/docs/reference/api/pandas.Series.value_counts.html) returns a series containing counts of unique values. \n",
    "\n",
    "The resulting object will be in descending order so that the first element is the most frequently-occurring element. Excludes NA values by default."
   ]
  },
  {
   "cell_type": "code",
   "execution_count": 16,
   "id": "8f54b679-46d9-4a65-bc77-186eb8dfb38e",
   "metadata": {},
   "outputs": [],
   "source": [
    "# Display the number of individual region names\n"
   ]
  },
  {
   "cell_type": "markdown",
   "id": "880257db",
   "metadata": {},
   "source": [
    "In this lesson we have learned about some quick commands that will help you to investigate your dataframe. \n",
    "\n",
    "To learn more about some other useful commands, stay turned!"
   ]
  }
 ],
 "metadata": {
  "kernelspec": {
   "display_name": "Python 3 (ipykernel)",
   "language": "python",
   "name": "python3"
  },
  "language_info": {
   "codemirror_mode": {
    "name": "ipython",
    "version": 3
   },
   "file_extension": ".py",
   "mimetype": "text/x-python",
   "name": "python",
   "nbconvert_exporter": "python",
   "pygments_lexer": "ipython3",
   "version": "3.9.7"
  }
 },
 "nbformat": 4,
 "nbformat_minor": 5
}
