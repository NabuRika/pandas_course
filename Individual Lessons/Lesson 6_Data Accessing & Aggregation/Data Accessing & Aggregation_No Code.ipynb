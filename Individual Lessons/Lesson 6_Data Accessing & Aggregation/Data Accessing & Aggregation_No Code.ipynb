{
 "cells": [
  {
   "cell_type": "markdown",
   "id": "30c3a5f8-d0d8-4c71-9a14-09a87da338e6",
   "metadata": {},
   "source": [
    "# <center> Data Accessing & Aggregation </center>"
   ]
  },
  {
   "cell_type": "markdown",
   "id": "29ba17ad-d376-4e89-bf99-8aa40d9afa5a",
   "metadata": {},
   "source": [
    "* [Selecting data by row, column and index values](#section_1)\n",
    "* [Filtering data with conditions](#section_2)\n",
    "* [Aggregating and sorting data](#section_3)"
   ]
  },
  {
   "cell_type": "markdown",
   "id": "9bf72d9d",
   "metadata": {},
   "source": [
    "In this lesson, we will learn about all the different tools that allow data professionals to query and explore the dataframes.\n",
    "\n",
    "To demonstrate how to query and explore a Pandas DataFrame object, we will need a toy dataset. Let's build one about country information and call it `df_countries_info`. "
   ]
  },
  {
   "cell_type": "code",
   "execution_count": 1,
   "id": "e9fcb5c3-263c-4c1a-9859-2f7a2b3edf6a",
   "metadata": {},
   "outputs": [],
   "source": [
    "# Import pandas\n"
   ]
  },
  {
   "cell_type": "code",
   "execution_count": 16,
   "id": "02190697-88f9-41c1-be7c-6b4eb3188c42",
   "metadata": {},
   "outputs": [],
   "source": [
    "# Create a countries information DataFrame. Refer to lesson video for details\n",
    "\n",
    "# Display DataFrame\n"
   ]
  },
  {
   "cell_type": "markdown",
   "id": "56bf45e9",
   "metadata": {},
   "source": [
    "In this DataFrame, we have information about 25 different countries where each country has some numerical values such as its \"population\", and some text values like \"main language\", \"region\" and \"name\". \n",
    "\n",
    "Also notice that we replaced the default numerical index with a predefined index value called the `ISO code` which is basically a two letter code representing the country name.\n",
    "\n",
    "Let's use this dataset to learn about all the different ways that we can use to select records from a Pandas DataFrame."
   ]
  },
  {
   "cell_type": "markdown",
   "id": "3cf34d29-fe7c-4db4-b50c-dffc62ddca32",
   "metadata": {},
   "source": [
    "### Selecting Data by Row, Column and Index Values <a class=\"anchor\" id=\"section_1\"></a>\n",
    "\n",
    "Pandas library provides multiple ways to select a group of rows and columns by labels or position values using [`loc`](https://pandas.pydata.org/docs/reference/api/pandas.DataFrame.loc.html) and [`iloc`](https://pandas.pydata.org/docs/reference/api/pandas.DataFrame.iloc.html) functions. `loc` is a label-based selection function where users must specify rows and columns based on the row and column labels; while `iloc` is an integer position-based selection function where users must specify rows and columns by the integer position values (0-based integer position)."
   ]
  },
  {
   "cell_type": "markdown",
   "id": "092a4eed",
   "metadata": {},
   "source": [
    "Let's see an example by selecting the record for the country \"China\". We will do it two ways: one way to select that is to use the [`loc`](https://pandas.pydata.org/docs/reference/api/pandas.DataFrame.loc.html) function and the other way is to use the [`iloc`](https://pandas.pydata.org/docs/reference/api/pandas.DataFrame.iloc.html) function."
   ]
  },
  {
   "cell_type": "code",
   "execution_count": 1,
   "id": "224075b2-825c-49dd-b926-24aaca516dd5",
   "metadata": {},
   "outputs": [],
   "source": [
    "# Select one record by labels\n",
    "\n",
    "\n",
    "# Select one record by index integer\n"
   ]
  },
  {
   "cell_type": "markdown",
   "id": "d5c0bb29",
   "metadata": {},
   "source": [
    "We can see that these two examples gave us the same results. In one way we selected the `index name` and the other way we selected the `index integer`. "
   ]
  },
  {
   "cell_type": "markdown",
   "id": "60ffd4c3",
   "metadata": {},
   "source": [
    "Similarly you can pass a list of labels or a list of index values. This time we will pass a list of countries so we select \"China\" again, \"New Zealand\" and the \"UK\" as below:"
   ]
  },
  {
   "cell_type": "code",
   "execution_count": 2,
   "id": "8bda4f6e-b611-4196-a100-cb67c8b55fca",
   "metadata": {},
   "outputs": [],
   "source": [
    "# Select a list of records\n",
    "\n",
    "\n",
    "# Select a list of records using index\n"
   ]
  },
  {
   "cell_type": "markdown",
   "id": "cd59df5f",
   "metadata": {},
   "source": [
    "One limitation to this approach is that users need to know the exact position or the index label for the record they want to select."
   ]
  },
  {
   "cell_type": "markdown",
   "id": "ce0399fe",
   "metadata": {},
   "source": [
    "In another scenario you may not know the exact name or position for the record you need, but you want to select a range of values (or several records at the same time). Say, you want to select from this index value to another index value. We can do that using [`loc`](https://pandas.pydata.org/docs/reference/api/pandas.DataFrame.loc.html) and [`iloc`](https://pandas.pydata.org/docs/reference/api/pandas.DataFrame.iloc.html) as we can see in this example below:"
   ]
  },
  {
   "cell_type": "code",
   "execution_count": 3,
   "id": "cf5eb541-8a81-4b6a-a090-ed21bf5c5ee1",
   "metadata": {},
   "outputs": [],
   "source": [
    "# Select a range of values\n",
    "\n",
    "\n",
    "# Select a range of values\n"
   ]
  },
  {
   "cell_type": "markdown",
   "id": "e13e18ef",
   "metadata": {},
   "source": [
    "The command gave us a subset where the country of China is the first country and the country of Vietnam is the last country. We achieved the same output using the [`iloc`](https://pandas.pydata.org/docs/reference/api/pandas.DataFrame.iloc.html) function by identifying the range from the numerical position 10 to position 15.\n",
    "\n",
    "These examples showed us how we can use [`loc`](https://pandas.pydata.org/docs/reference/api/pandas.DataFrame.loc.html) and [`iloc`](https://pandas.pydata.org/docs/reference/api/pandas.DataFrame.iloc.html) functions to select dataframe records using the index label or the numerical index value."
   ]
  },
  {
   "cell_type": "markdown",
   "id": "dc78149d",
   "metadata": {},
   "source": [
    "What you can also do is to specify which columns you want to display. You can do that using the column label or its numerical index. Let's modify this example to also select specific column names as below:"
   ]
  },
  {
   "cell_type": "code",
   "execution_count": 4,
   "id": "4bb17ca8-f3df-432e-a3af-4fc7ade0bfed",
   "metadata": {},
   "outputs": [],
   "source": [
    "# Select a list of records and columns\n",
    "\n",
    "\n",
    "# Select a list of records and columns\n"
   ]
  },
  {
   "cell_type": "markdown",
   "id": "4b834f6e",
   "metadata": {},
   "source": [
    "From the result we noticed that we selected the same range of records from the country China to the country of Vietnam, but we only used a specific list of column names. This same output is expected from the [`iloc`](https://pandas.pydata.org/docs/reference/api/pandas.DataFrame.iloc.html) function.\n",
    "\n",
    "Here it gave us the same result as in the range and selected number of columns based on the rows and column's numerical index value."
   ]
  },
  {
   "cell_type": "markdown",
   "id": "60a4f862",
   "metadata": {},
   "source": [
    "One last thing to note is that sometimes you can skip the use of the [`loc`](https://pandas.pydata.org/docs/reference/api/pandas.DataFrame.loc.html) and [`iloc`](https://pandas.pydata.org/docs/reference/api/pandas.DataFrame.iloc.html) functions if you want to select the entire dataset or specific columns of your dataframe. Let's have a look at this example below:"
   ]
  },
  {
   "cell_type": "code",
   "execution_count": 5,
   "id": "65edf29f-871f-45ac-87c3-ce9decd3963e",
   "metadata": {},
   "outputs": [],
   "source": [
    "# Select `region` and `population` columns without using the loc and iloc functions\n"
   ]
  },
  {
   "cell_type": "markdown",
   "id": "8be75cc0-f3cf-4300-9ab2-5161887f9f46",
   "metadata": {},
   "source": [
    "### Filtering Data with Conditions <a class=\"anchor\" id=\"section_2\"></a>\n",
    "\n",
    "We can also select rows by adding filter conditions that only match a subset of records. Each individual condition is often surrounded by parentheses () and several conditions can be grouped together using `AND` or `OR` conditions represented with `&` or `|` symbols respectively."
   ]
  },
  {
   "cell_type": "markdown",
   "id": "c6a0e2b1",
   "metadata": {},
   "source": [
    "Let's have a look at an example by selecting all the countries that have English as their main language.\n",
    "\n",
    "To specify the condition where the main language is only English, we will need to pass that as a parenthesis."
   ]
  },
  {
   "cell_type": "code",
   "execution_count": 6,
   "id": "9e39e799",
   "metadata": {},
   "outputs": [],
   "source": [
    "# Select records based on one condition\n"
   ]
  },
  {
   "cell_type": "markdown",
   "id": "962c5c60",
   "metadata": {},
   "source": [
    "You can see here that these countries are in multiple regions. Some of them are in \"Africa\", some in \"North America\", \"Europe\" and \"Oceania\". \n",
    "\n",
    "We can add another filter or another condition, say, we want to have \"English\" as the \"main language\" and the \"region\" is \"Oceania\". \n",
    "\n",
    "We can modify this query by having the `AND` operator to specify another condition and further limit our subset to base on these two conditions."
   ]
  },
  {
   "cell_type": "code",
   "execution_count": 7,
   "id": "b0d8a4d3-00a7-4d36-a13a-6ec58613a032",
   "metadata": {},
   "outputs": [],
   "source": [
    "# Select records based on a list of condtions using the AND operator\n"
   ]
  },
  {
   "cell_type": "markdown",
   "id": "8673d08e",
   "metadata": {},
   "source": [
    "If only one of the conditions needs to be true, not both of them, we can replace that with the `OR` operator as follows:"
   ]
  },
  {
   "cell_type": "code",
   "execution_count": 8,
   "id": "ebc074a4",
   "metadata": {},
   "outputs": [],
   "source": [
    "# Select records based on a list of condtions using the OR operator\n"
   ]
  },
  {
   "cell_type": "markdown",
   "id": "357cc800",
   "metadata": {},
   "source": [
    "<br>"
   ]
  },
  {
   "cell_type": "markdown",
   "id": "0c5465c3-7f09-4bb0-ac74-083255023214",
   "metadata": {
    "tags": []
   },
   "source": [
    "### Aggregating and Sorting Data <a class=\"anchor\" id=\"section_3\"></a>\n",
    "\n",
    "We can also use the Pandas to sort values and query specific numerical values per group of records. The Pandas library provides us with a built-in function called [`sort_values()`](https://pandas.pydata.org/docs/reference/api/pandas.DataFrame.sort_values.html) and this function can take multiple parameters, and one of the main parameters you need to specify is the sorting column. \n",
    "\n",
    "If the sorting column is a numerical one, then it can be sorted from the smallest value to the largest value or the other way around; if it's a date column then it can be sorted from earliest to latest, and if it's a text column, it can be sorted alphabetically. \n",
    "\n",
    "Let's see an example how we can sort based on the \"population\" column."
   ]
  },
  {
   "cell_type": "code",
   "execution_count": 9,
   "id": "a51f306e-2115-4eb2-90e6-0e6a746bfc34",
   "metadata": {},
   "outputs": [],
   "source": [
    "# Sort all records that have `English` as `main_language` and `region` as `Oceania` by `population`\n"
   ]
  },
  {
   "cell_type": "markdown",
   "id": "87d3b484",
   "metadata": {},
   "source": [
    "Keep in mind that the [`sort_values()`](https://pandas.pydata.org/docs/reference/api/pandas.DataFrame.sort_values.html) function can be applied either to a query like (the example we just had) or to the entire dataframe. \n",
    "\n",
    "For example, if we put [`sort_values()`](https://pandas.pydata.org/docs/reference/api/pandas.DataFrame.sort_values.html) after the data frame name, this will give us the entire data frame sorted by the population column. "
   ]
  },
  {
   "cell_type": "code",
   "execution_count": 10,
   "id": "2e05987d-a94c-480f-a6b4-85ac42d7d4b7",
   "metadata": {},
   "outputs": [],
   "source": [
    "# Sort the entire dataFrame by population\n"
   ]
  },
  {
   "cell_type": "markdown",
   "id": "88564a37",
   "metadata": {},
   "source": [
    "Finally, we will learn about another technique which shows us how we can calculate a numerical value that is assigned to a specific group of records.\n",
    "\n",
    "For example, sometimes you may want to do a sum-up, say, the total population or the average population per a group of records. \n",
    "\n",
    "In order to do that, the Pandas library provides us with a [`group_by()`](https://pandas.pydata.org/docs/reference/api/pandas.DataFrame.groupby.html) function which can be used to target a specific group of records and calculate a summary value for that group.\n",
    "\n",
    "Let's make a query to summarize the total \"population\" per \"main_language\". "
   ]
  },
  {
   "cell_type": "code",
   "execution_count": 13,
   "id": "3499a394-2e68-4289-aaed-66e54d187a75",
   "metadata": {},
   "outputs": [],
   "source": [
    "# Summarize population by main_language\n"
   ]
  },
  {
   "cell_type": "markdown",
   "id": "7344250c",
   "metadata": {},
   "source": [
    "We can also calculate the population per region."
   ]
  },
  {
   "cell_type": "code",
   "execution_count": 14,
   "id": "dea3a713-40b1-4f4b-84a1-466949648963",
   "metadata": {},
   "outputs": [],
   "source": [
    "# Summarize population by region\n"
   ]
  },
  {
   "cell_type": "markdown",
   "id": "e1a8c55f",
   "metadata": {},
   "source": [
    "In this lesson, we have learned about all the different techniques that allow us to explore and query data from our DataFrames. \n",
    "\n",
    "We have learned how to select a subset of records based on their index value or column name, and how to add one or multiple conditions to filter results. And how to sort these results based on specific column names and how to group them together using the group by functions.\n",
    "\n",
    "Want to learn more cool stuff about the Pandas library? Keep learning!"
   ]
  }
 ],
 "metadata": {
  "kernelspec": {
   "display_name": "Python 3 (ipykernel)",
   "language": "python",
   "name": "python3"
  },
  "language_info": {
   "codemirror_mode": {
    "name": "ipython",
    "version": 3
   },
   "file_extension": ".py",
   "mimetype": "text/x-python",
   "name": "python",
   "nbconvert_exporter": "python",
   "pygments_lexer": "ipython3",
   "version": "3.9.7"
  }
 },
 "nbformat": 4,
 "nbformat_minor": 5
}
