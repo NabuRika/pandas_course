{
 "cells": [
  {
   "cell_type": "markdown",
   "id": "6269d4c7-84d1-4430-a13c-5724aac61f7d",
   "metadata": {},
   "source": [
    "# <center> Pandas Data Visualization </center>\n",
    "\n",
    "- [Data Visualization with Pandas](#section_1)\n",
    "- [Chart Visualization](#section_2)\n",
    "- [Table Visualization](#section_3)\n",
    "\n",
    "<hr>"
   ]
  },
  {
   "cell_type": "markdown",
   "id": "41726824-486b-41ab-bf95-50eca770c2bd",
   "metadata": {},
   "source": [
    "### Data Visualization with Pandas <a class=\"anchor\" id=\"section_1\"></a>"
   ]
  },
  {
   "cell_type": "markdown",
   "id": "60912271-e5c6-4922-ba63-80ef4c444382",
   "metadata": {},
   "source": [
    "Data visualization is the graphical representation of information and data. By using visual elements like charts, graphs, and maps, data visualization provides an accessible way to see and understand trends, outliers, and patterns in data. \n",
    "\n",
    "In this lesson, we will be focusing on two data visualization methods using Pandas library:\n",
    "\n",
    "- `chart` such as histogram, pie chart, and time series\n",
    "\n",
    "- `table` visualization with HTML styling to highlight specific parts of your DataFrame based on predefined conditions"
   ]
  },
  {
   "cell_type": "markdown",
   "id": "74ea63c9-5d47-4d33-aeb5-c967d60a7014",
   "metadata": {},
   "source": [
    "### Chart Visualization <a class=\"anchor\" id=\"section_2\"></a>\n",
    "\n",
    "Graphical representation of data using graphs such as histograms, pie charts, box plots, and so on."
   ]
  },
  {
   "cell_type": "markdown",
   "id": "c98cbdb4",
   "metadata": {},
   "source": [
    "The main tool to create data charts is the [`plot()`](https://pandas.pydata.org/docs/reference/api/pandas.DataFrame.plot.html) method which can be applied to a pandas series and dataframe objects. This method has a lot of built-in parameters. We will need to identify the name of the dataframe, the x and y variable and most importantly, the `kind` parameter, which includes many different chart types.\n",
    "\n",
    "Let’s see how we can create some popular data visualization graphs using this function. "
   ]
  },
  {
   "cell_type": "markdown",
   "id": "38ecbc2b",
   "metadata": {},
   "source": [
    "### Time series plot\n",
    "\n",
    "Our first plot is called a `time series` plot. \n",
    "\n",
    "Time series is a very popular visualization method to show how value moves through time. We will use it to plot this [airline-passengers](https://raw.githubusercontent.com/jbrownlee/Datasets/master/airline-passengers.csv) dataset."
   ]
  },
  {
   "cell_type": "code",
   "execution_count": 1,
   "id": "eb3ddf73-a548-4a6f-8eee-8d3a2e109975",
   "metadata": {},
   "outputs": [],
   "source": [
    "# Import pandas\n"
   ]
  },
  {
   "cell_type": "code",
   "execution_count": 1,
   "id": "99b0851c-6120-424d-bd87-da49f22237c4",
   "metadata": {},
   "outputs": [],
   "source": [
    "# Import the dataset as a CSV file using this linke: https://raw.githubusercontent.com/jbrownlee/Datasets/master/airline-passengers.csv\n",
    "\n",
    "# Display DataFrame\n"
   ]
  },
  {
   "cell_type": "markdown",
   "id": "2ec4a563",
   "metadata": {},
   "source": [
    "We can see this dataset has two columns, the first column represents the date which is basically one month intervals starting from 1949 forward. The other column represents the number of passengers aggregated by thousands.\n",
    "\n",
    "In order to make a time series plot for this dataframe, we need to move the \"month\" column to be our index value. "
   ]
  },
  {
   "cell_type": "code",
   "execution_count": 2,
   "id": "0dd58d8f",
   "metadata": {},
   "outputs": [],
   "source": [
    "# Set the Month values as the DataFrame index\n"
   ]
  },
  {
   "cell_type": "markdown",
   "id": "6df88a6f",
   "metadata": {},
   "source": [
    "Now the column \"month\" was assigned as the index value. Let’s start to plot this dataframe."
   ]
  },
  {
   "cell_type": "code",
   "execution_count": 3,
   "id": "3811e630-f832-4497-9b7b-cdd81b1dae1b",
   "metadata": {},
   "outputs": [],
   "source": [
    "# Plot the DataFrame\n"
   ]
  },
  {
   "cell_type": "markdown",
   "id": "793d8504",
   "metadata": {},
   "source": [
    "The function generated a time series plot or what is also known as the line chart, which is the default behavior of the plot function. \n",
    "\n",
    "Notice how we used the `figsize` parameter to change the size of this plot which takes the height and width in inches.\n",
    "\n",
    "This example shows you how easy it is to apply the plot function once you have your dataframe ready and all the data are in the correct shape."
   ]
  },
  {
   "cell_type": "markdown",
   "id": "4554ba8d",
   "metadata": {},
   "source": [
    "<br>"
   ]
  },
  {
   "cell_type": "markdown",
   "id": "f0d0d402",
   "metadata": {},
   "source": [
    "### Scatter plot\n",
    "\n",
    "Another common data visualization scenario for data analysts is to explore the relationship between two different variables, to see if there's any kind of positive or negative relationship or if they have any impact on each other. \n",
    "\n",
    "The most common type of plots to visualize relationships between variables is something called the `scatter plot`.\n",
    "\n",
    "In the example below, we will use a dataset called the [IRIS dataset](https://gist.githubusercontent.com/curran/a08a1080b88344b0c8a7/raw/0e7a9b0a5d22642a06d3d5b9bcbad9890c8ee534/iris.csv). This dataset is basically about three different types of flowers and we will try to explore the relationship between some of its variables."
   ]
  },
  {
   "cell_type": "code",
   "execution_count": 8,
   "id": "918103d2-586d-42d5-b5a4-cf3734002632",
   "metadata": {},
   "outputs": [],
   "source": [
    "# Import the Iris dataset as a CSV file \n",
    "\n",
    "\n",
    "# Display DataFrame\n"
   ]
  },
  {
   "cell_type": "markdown",
   "id": "febdb63b",
   "metadata": {},
   "source": [
    "After we display the data, we see there are five different columns, four of them are numerical values for Sepal Length and Width, and Petal Length and Width. The last column is the species of the flower. Let's explore the relationship between two of these variables using a scatter plot."
   ]
  },
  {
   "cell_type": "code",
   "execution_count": 4,
   "id": "4f747258-5432-446b-a125-ab2f6f749253",
   "metadata": {},
   "outputs": [],
   "source": [
    "# Apply a scatter plot to examine the relationship between variables\n"
   ]
  },
  {
   "cell_type": "markdown",
   "id": "d8242e2a",
   "metadata": {},
   "source": [
    "We assigned a few parameters for the [`plot()`](https://pandas.pydata.org/docs/reference/api/pandas.DataFrame.plot.html) function to make the visualization. The first parameter is `kind`, which is basically to identify this figure as a scatter plot, and then it needs to identify the values that represent the x-axis and the y-axis. We also added the size of the figure. \n",
    "\n",
    "After running the cell, we see there is some sort of positive relationship between the two variables. The higher one value goes, the other value will also go higher. \n",
    "\n",
    "Data professionals can also apply some coloring scheme to highlight different data dimensions. By using different colors for different values, the plot function can give us another dimension and depth to our data visualization.\n",
    "\n",
    "How about we color different groups of data points based on their species value?"
   ]
  },
  {
   "cell_type": "code",
   "execution_count": 6,
   "id": "8f957043-6b4b-43e1-90a9-3c468da8365f",
   "metadata": {},
   "outputs": [],
   "source": [
    "# Map species to different color values\n",
    "\n",
    "\n",
    "# Apply a scatter plot to examine the relationship between variables\n"
   ]
  },
  {
   "cell_type": "markdown",
   "id": "48a77499",
   "metadata": {},
   "source": [
    "In the example above, we assigned 3 color values to represent each flower species value type. Then we applied that color scheme as a parameter to our [`plot()`](https://pandas.pydata.org/docs/reference/api/pandas.DataFrame.plot.html) function.\n",
    "\n",
    "After running the cell, we see our changes replaced each follower species with its corresponding color scheme. \n",
    "\n",
    "This flexibility gives data analysts much more depth and information as well as understanding about their data."
   ]
  },
  {
   "cell_type": "markdown",
   "id": "6985febd-3ba9-4b3e-965d-be7e7d317b43",
   "metadata": {},
   "source": [
    "### Table Visualization <a class=\"anchor\" id=\"section_3\"></a>\n",
    "\n",
    "The other type of visualization we can also do with the Pandas library is to apply some sort of styling on our DataFrame objects. Pandas table visualization can be achieved by adding styling instructions to DataFrame objects in order to be rendered as CSS styles. "
   ]
  },
  {
   "cell_type": "code",
   "execution_count": 7,
   "id": "640456e4-50e0-4157-b3eb-0e6dadaf29e9",
   "metadata": {},
   "outputs": [],
   "source": [
    "# Add bar style to sepal_width variable\n"
   ]
  },
  {
   "cell_type": "markdown",
   "id": "4b6bf3f8",
   "metadata": {},
   "source": [
    "In the example above, we applied the horizontal bar style to the variable \"sepal_width\" while the data is sorted in descending order. We notice in the top row, the bar line covers the entire cell and its size continue to get smaller for the rest of the DataFrame."
   ]
  },
  {
   "cell_type": "markdown",
   "id": "17fbf2af",
   "metadata": {},
   "source": [
    "In this lesson, we have learned two main techniques available in Pandas library to visualize data either as graphs such as pie charts, bar charts, time series charts or scatter plots, or as a styling option on the data frame object.\n",
    "\n",
    "To learn more about Pandas, stay tuned!"
   ]
  }
 ],
 "metadata": {
  "kernelspec": {
   "display_name": "Python 3 (ipykernel)",
   "language": "python",
   "name": "python3"
  },
  "language_info": {
   "codemirror_mode": {
    "name": "ipython",
    "version": 3
   },
   "file_extension": ".py",
   "mimetype": "text/x-python",
   "name": "python",
   "nbconvert_exporter": "python",
   "pygments_lexer": "ipython3",
   "version": "3.9.7"
  }
 },
 "nbformat": 4,
 "nbformat_minor": 5
}
