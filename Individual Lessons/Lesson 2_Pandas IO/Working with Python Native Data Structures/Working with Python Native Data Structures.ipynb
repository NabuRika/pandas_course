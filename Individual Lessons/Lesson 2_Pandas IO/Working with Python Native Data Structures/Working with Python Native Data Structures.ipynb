{
 "cells": [
  {
   "cell_type": "markdown",
   "id": "a6ccb5a7-83e4-4a35-93ad-28a846919eab",
   "metadata": {},
   "source": [
    "# <center> Working with Python Native Data Structures </center>\n",
    "\n",
    "- [What are Python Native Data Structures](#section_1)\n",
    "- [Pandas DataFrame() Function](#section_2)\n",
    "- [Pandas from_dict() Function](#section_3)\n",
    "\n",
    "<hr>"
   ]
  },
  {
   "cell_type": "markdown",
   "id": "2086cbf4-9d8f-4ff6-9c67-970c94bb28ad",
   "metadata": {},
   "source": [
    "### What are Python Native Data Structures <a class=\"anchor\" id=\"section_1\"></a>\n",
    "\n",
    "The Python programming language has a variety of built-in data structures such as `lists`, `tuples`, `dictionaries`, `strings`, and `sets`.\n",
    "\n",
    "Python developers will use these data structures to store data during coding and program execution. "
   ]
  },
  {
   "cell_type": "markdown",
   "id": "e594a7fd",
   "metadata": {},
   "source": [
    "<br>"
   ]
  },
  {
   "cell_type": "markdown",
   "id": "3806beea",
   "metadata": {},
   "source": [
    "First, let's look at a dictionary example.\n",
    "\n",
    "We create a typical Python dictionary to save `country` information. This dictionary has five key:value pairs. \n",
    "\n",
    "When converted into a Python DataFrame, the dictionary keys will represent labels while the dictionary values represent the corresponding values or data."
   ]
  },
  {
   "cell_type": "code",
   "execution_count": 13,
   "id": "56061433-97dd-441c-b7c2-9c8dc25b32d4",
   "metadata": {},
   "outputs": [
    {
     "data": {
      "text/plain": [
       "{'country_name': 'New Zealand',\n",
       " 'capital_city': 'Wellington',\n",
       " 'country_code': 'NZ',\n",
       " 'population': 4783063,\n",
       " 'area_km2': 270467}"
      ]
     },
     "execution_count": 13,
     "metadata": {},
     "output_type": "execute_result"
    }
   ],
   "source": [
    "# Create a Python dictionary. Refer to lesson video for details\n",
    "country_info = {'country_name':'New Zealand',\n",
    "               'capital_city':'Wellington',\n",
    "               'country_code':'NZ',\n",
    "               'population':4783063,\n",
    "               'area_km2':270467}\n",
    "\n",
    "# Display dataset\n",
    "country_info"
   ]
  },
  {
   "cell_type": "markdown",
   "id": "80459df8",
   "metadata": {},
   "source": [
    "<br>"
   ]
  },
  {
   "cell_type": "markdown",
   "id": "47b56452",
   "metadata": {},
   "source": [
    "Another commonly used Python data structure is `List` which is used to store multiple values in a single variable.\n",
    "\n",
    "Let's have a look at another example below:"
   ]
  },
  {
   "cell_type": "code",
   "execution_count": 1,
   "id": "33252977-1c20-4e9f-a532-d0c15659f27f",
   "metadata": {},
   "outputs": [
    {
     "data": {
      "text/plain": [
       "['CN', 'NZ', 'ZA', 'GB', 'US']"
      ]
     },
     "execution_count": 1,
     "metadata": {},
     "output_type": "execute_result"
    }
   ],
   "source": [
    "# Create a Python list\n",
    "list_of_country_codes = ['CN','NZ','ZA','GB','US']\n",
    "list_of_country_codes"
   ]
  },
  {
   "cell_type": "markdown",
   "id": "0bb390bd",
   "metadata": {},
   "source": [
    "<br>"
   ]
  },
  {
   "cell_type": "markdown",
   "id": "7226f42a",
   "metadata": {},
   "source": [
    "Imagine if we have a large number of dictionaries, each one has information about a different country.\n",
    "\n",
    "The Pandas library can convert this list of similar dictionaries into a DataFrame object. \n",
    "\n",
    "Let’s look at this example where we create a variable called `list_of_countries` as a Python list where each item is a Python dictionary with information about a different country."
   ]
  },
  {
   "cell_type": "code",
   "execution_count": 2,
   "id": "bf63e0b2-efa5-4d94-920b-117b60490347",
   "metadata": {},
   "outputs": [
    {
     "data": {
      "text/plain": [
       "[{'country_name': 'China',\n",
       "  'capital_city': 'Beijing',\n",
       "  'population': 1433783686,\n",
       "  'area_km2': 9596961},\n",
       " {'country_name': 'New Zealand',\n",
       "  'capital_city': 'Wellington',\n",
       "  'population': 4783063,\n",
       "  'area_km2': 270467},\n",
       " {'country_name': 'South Africa',\n",
       "  'capital_city': 'Pretoria',\n",
       "  'population': 58558270,\n",
       "  'area_km2': 1221037},\n",
       " {'country_name': 'United Kingdom',\n",
       "  'capital_city': 'London',\n",
       "  'population': 67530172,\n",
       "  'area_km2': 242495},\n",
       " {'country_name': 'United States',\n",
       "  'capital_city': 'Washington DC',\n",
       "  'population': 329064917,\n",
       "  'area_km2': 9525067}]"
      ]
     },
     "execution_count": 2,
     "metadata": {},
     "output_type": "execute_result"
    }
   ],
   "source": [
    "# Create a list of dictionaries. Refer to lesson video for details\n",
    "list_of_countries = [\n",
    "    {'country_name':'China', 'capital_city':'Beijing','population':1433783686, 'area_km2':9596961},\n",
    "    {'country_name':'New Zealand','capital_city':'Wellington', 'population':4783063, 'area_km2':270467},\n",
    "    {'country_name':'South Africa','capital_city':'Pretoria', 'population':58558270, 'area_km2':1221037},\n",
    "    {'country_name':'United Kingdom','capital_city':'London', 'population':67530172, 'area_km2':242495},\n",
    "    {'country_name':'United States','capital_city':'Washington DC', 'population':329064917, 'area_km2':9525067}\n",
    "]\n",
    "\n",
    "# Display the dictionary\n",
    "list_of_countries"
   ]
  },
  {
   "cell_type": "markdown",
   "id": "b02c4648",
   "metadata": {},
   "source": [
    "However, this  method can not be effectively used to perform analytical tasks such as exploratory analyses or even data visualization.\n",
    "<br>\n",
    "<br>\n",
    "<br>"
   ]
  },
  {
   "cell_type": "markdown",
   "id": "d5843d50-d829-43c8-983b-33c6cffb1f36",
   "metadata": {},
   "source": [
    "### Pandas DataFrame() Function <a class=\"anchor\" id=\"section_2\"></a>\n",
    "\n",
    "Luckily, Pandas library can convert Python data structures into DataFrame objects to allow users to easily perform data manipulation and analysis. This function is called Pandas [DataFrame()](https://pandas.pydata.org/docs/reference/api/pandas.DataFrame.html)."
   ]
  },
  {
   "cell_type": "code",
   "execution_count": 16,
   "id": "b5a41fb7-568d-4061-947b-c426d27bde6a",
   "metadata": {},
   "outputs": [],
   "source": [
    "# Import Pandas library\n",
    "import pandas as pd"
   ]
  },
  {
   "cell_type": "code",
   "execution_count": null,
   "id": "7b31c9aa-7508-4373-85f6-e34a346e90d1",
   "metadata": {},
   "outputs": [
    {
     "data": {
      "text/html": [
       "<div>\n",
       "<style scoped>\n",
       "    .dataframe tbody tr th:only-of-type {\n",
       "        vertical-align: middle;\n",
       "    }\n",
       "\n",
       "    .dataframe tbody tr th {\n",
       "        vertical-align: top;\n",
       "    }\n",
       "\n",
       "    .dataframe thead th {\n",
       "        text-align: right;\n",
       "    }\n",
       "</style>\n",
       "<table border=\"1\" class=\"dataframe\">\n",
       "  <thead>\n",
       "    <tr style=\"text-align: right;\">\n",
       "      <th></th>\n",
       "      <th>country_name</th>\n",
       "      <th>capital_city</th>\n",
       "      <th>population</th>\n",
       "      <th>area_km2</th>\n",
       "    </tr>\n",
       "  </thead>\n",
       "  <tbody>\n",
       "    <tr>\n",
       "      <th>0</th>\n",
       "      <td>China</td>\n",
       "      <td>Beijing</td>\n",
       "      <td>1433783686</td>\n",
       "      <td>9596961</td>\n",
       "    </tr>\n",
       "    <tr>\n",
       "      <th>1</th>\n",
       "      <td>New Zealand</td>\n",
       "      <td>Wellington</td>\n",
       "      <td>4783063</td>\n",
       "      <td>270467</td>\n",
       "    </tr>\n",
       "    <tr>\n",
       "      <th>2</th>\n",
       "      <td>South Africa</td>\n",
       "      <td>Pretoria</td>\n",
       "      <td>58558270</td>\n",
       "      <td>1221037</td>\n",
       "    </tr>\n",
       "    <tr>\n",
       "      <th>3</th>\n",
       "      <td>United Kingdom</td>\n",
       "      <td>London</td>\n",
       "      <td>67530172</td>\n",
       "      <td>242495</td>\n",
       "    </tr>\n",
       "    <tr>\n",
       "      <th>4</th>\n",
       "      <td>United States</td>\n",
       "      <td>Washington DC</td>\n",
       "      <td>329064917</td>\n",
       "      <td>9525067</td>\n",
       "    </tr>\n",
       "  </tbody>\n",
       "</table>\n",
       "</div>"
      ],
      "text/plain": [
       "     country_name   capital_city  population  area_km2\n",
       "0           China        Beijing  1433783686   9596961\n",
       "1     New Zealand     Wellington     4783063    270467\n",
       "2    South Africa       Pretoria    58558270   1221037\n",
       "3  United Kingdom         London    67530172    242495\n",
       "4   United States  Washington DC   329064917   9525067"
      ]
     },
     "execution_count": 17,
     "metadata": {},
     "output_type": "execute_result"
    }
   ],
   "source": [
    "# Create a Pandas DataFrame from a list of dictionaries\n",
    "df_countries = pd.DataFrame(list_of_countries)\n",
    "\n",
    "# Display the DataFrame\n",
    "df_countries"
   ]
  },
  {
   "cell_type": "markdown",
   "id": "26238493",
   "metadata": {},
   "source": [
    "<br>"
   ]
  },
  {
   "cell_type": "markdown",
   "id": "7b0e1c87",
   "metadata": {},
   "source": [
    "In the following example, we apply the same function but we also make use of one of the optional parameters `index`. \n",
    "\n",
    "For this parameter, we pass our list variable `list_of_country_codes` to be assigned as the DataFrame index. "
   ]
  },
  {
   "cell_type": "code",
   "execution_count": 20,
   "id": "de57a606-da40-44b0-bbdf-d34100e8b576",
   "metadata": {},
   "outputs": [
    {
     "data": {
      "text/html": [
       "<div>\n",
       "<style scoped>\n",
       "    .dataframe tbody tr th:only-of-type {\n",
       "        vertical-align: middle;\n",
       "    }\n",
       "\n",
       "    .dataframe tbody tr th {\n",
       "        vertical-align: top;\n",
       "    }\n",
       "\n",
       "    .dataframe thead th {\n",
       "        text-align: right;\n",
       "    }\n",
       "</style>\n",
       "<table border=\"1\" class=\"dataframe\">\n",
       "  <thead>\n",
       "    <tr style=\"text-align: right;\">\n",
       "      <th></th>\n",
       "      <th>country_name</th>\n",
       "      <th>capital_city</th>\n",
       "      <th>population</th>\n",
       "      <th>area_km2</th>\n",
       "    </tr>\n",
       "  </thead>\n",
       "  <tbody>\n",
       "    <tr>\n",
       "      <th>CN</th>\n",
       "      <td>China</td>\n",
       "      <td>Beijing</td>\n",
       "      <td>1433783686</td>\n",
       "      <td>9596961</td>\n",
       "    </tr>\n",
       "    <tr>\n",
       "      <th>NZ</th>\n",
       "      <td>New Zealand</td>\n",
       "      <td>Wellington</td>\n",
       "      <td>4783063</td>\n",
       "      <td>270467</td>\n",
       "    </tr>\n",
       "    <tr>\n",
       "      <th>ZA</th>\n",
       "      <td>South Africa</td>\n",
       "      <td>Pretoria</td>\n",
       "      <td>58558270</td>\n",
       "      <td>1221037</td>\n",
       "    </tr>\n",
       "    <tr>\n",
       "      <th>GB</th>\n",
       "      <td>United Kingdom</td>\n",
       "      <td>London</td>\n",
       "      <td>67530172</td>\n",
       "      <td>242495</td>\n",
       "    </tr>\n",
       "    <tr>\n",
       "      <th>US</th>\n",
       "      <td>United States</td>\n",
       "      <td>Washington DC</td>\n",
       "      <td>329064917</td>\n",
       "      <td>9525067</td>\n",
       "    </tr>\n",
       "  </tbody>\n",
       "</table>\n",
       "</div>"
      ],
      "text/plain": [
       "      country_name   capital_city  population  area_km2\n",
       "CN           China        Beijing  1433783686   9596961\n",
       "NZ     New Zealand     Wellington     4783063    270467\n",
       "ZA    South Africa       Pretoria    58558270   1221037\n",
       "GB  United Kingdom         London    67530172    242495\n",
       "US   United States  Washington DC   329064917   9525067"
      ]
     },
     "execution_count": 20,
     "metadata": {},
     "output_type": "execute_result"
    }
   ],
   "source": [
    "# Create a Pandas DataFrame from a list of dictionaries\n",
    "df_countries = pd.DataFrame(list_of_countries,\n",
    "                           index = list_of_country_codes)\n",
    "\n",
    "# Display the DataFrame\n",
    "df_countries"
   ]
  },
  {
   "cell_type": "markdown",
   "id": "e4e0a650",
   "metadata": {},
   "source": [
    "We can easily see the similarities and differences in these 2 examples above. Both DataFrames have the same content of 5 different countries. \n",
    "\n",
    "However, we assigned the dataFrame index by using the `index_col` parameter.\n",
    "\n",
    "This is an optional parameter. The function will automatically create a numerical index value if we skip it."
   ]
  },
  {
   "cell_type": "markdown",
   "id": "64c111f9",
   "metadata": {},
   "source": [
    "<br>"
   ]
  },
  {
   "cell_type": "markdown",
   "id": "13a836b1-7cbf-42c0-b9e9-911bb593d48f",
   "metadata": {},
   "source": [
    "### Pandas DataFrame.from_dict() Function <a class=\"anchor\" id=\"section_3\"></a>\n",
    "\n",
    "The Pandas [from_dict()](https://pandas.pydata.org/docs/reference/api/pandas.DataFrame.from_dict.html) function can be used to convert a single dictionary into a DataFrame object"
   ]
  },
  {
   "cell_type": "code",
   "execution_count": 23,
   "id": "31d6f11a-03d1-4cb6-b4d6-7fd983c7d150",
   "metadata": {},
   "outputs": [
    {
     "data": {
      "text/plain": [
       "{'country_name': ['China',\n",
       "  'New Zealand',\n",
       "  'South Africa',\n",
       "  'United Kingdom',\n",
       "  'United States'],\n",
       " 'country_code': ['CN', 'NZ', 'ZA', 'GB', 'US'],\n",
       " 'capital_city': ['Beijing',\n",
       "  'Wellington',\n",
       "  'Pretoria',\n",
       "  'London',\n",
       "  'Washington DC'],\n",
       " 'population': [1433783686, 4783063, 58558270, 67530172, 329064917],\n",
       " 'area_km2': [9596961, 270467, 1221037, 242495, 9525067]}"
      ]
     },
     "execution_count": 23,
     "metadata": {},
     "output_type": "execute_result"
    }
   ],
   "source": [
    "# Create a Python dictionary with multiple values. Refer to lesson video for details\n",
    "dictionary_of_countries = {\n",
    "    'country_name':['China', 'New Zealand', 'South Africa', 'United Kingdom', 'United States'],\n",
    "    'country_code':['CN','NZ','ZA','GB','US'],\n",
    "    'capital_city':['Beijing','Wellington','Pretoria','London','Washington DC'],\n",
    "    'population':[1433783686, 4783063, 58558270, 67530172, 329064917],\n",
    "    'area_km2':[9596961, 270467, 1221037, 242495, 9525067]}\n",
    "\n",
    "# Display the dictionary\n",
    "dictionary_of_countries"
   ]
  },
  {
   "cell_type": "code",
   "execution_count": 24,
   "id": "53d48537-9f52-4df2-b875-74e438bab166",
   "metadata": {},
   "outputs": [
    {
     "data": {
      "text/html": [
       "<div>\n",
       "<style scoped>\n",
       "    .dataframe tbody tr th:only-of-type {\n",
       "        vertical-align: middle;\n",
       "    }\n",
       "\n",
       "    .dataframe tbody tr th {\n",
       "        vertical-align: top;\n",
       "    }\n",
       "\n",
       "    .dataframe thead th {\n",
       "        text-align: right;\n",
       "    }\n",
       "</style>\n",
       "<table border=\"1\" class=\"dataframe\">\n",
       "  <thead>\n",
       "    <tr style=\"text-align: right;\">\n",
       "      <th></th>\n",
       "      <th>country_name</th>\n",
       "      <th>country_code</th>\n",
       "      <th>capital_city</th>\n",
       "      <th>population</th>\n",
       "      <th>area_km2</th>\n",
       "    </tr>\n",
       "  </thead>\n",
       "  <tbody>\n",
       "    <tr>\n",
       "      <th>0</th>\n",
       "      <td>China</td>\n",
       "      <td>CN</td>\n",
       "      <td>Beijing</td>\n",
       "      <td>1433783686</td>\n",
       "      <td>9596961</td>\n",
       "    </tr>\n",
       "    <tr>\n",
       "      <th>1</th>\n",
       "      <td>New Zealand</td>\n",
       "      <td>NZ</td>\n",
       "      <td>Wellington</td>\n",
       "      <td>4783063</td>\n",
       "      <td>270467</td>\n",
       "    </tr>\n",
       "    <tr>\n",
       "      <th>2</th>\n",
       "      <td>South Africa</td>\n",
       "      <td>ZA</td>\n",
       "      <td>Pretoria</td>\n",
       "      <td>58558270</td>\n",
       "      <td>1221037</td>\n",
       "    </tr>\n",
       "    <tr>\n",
       "      <th>3</th>\n",
       "      <td>United Kingdom</td>\n",
       "      <td>GB</td>\n",
       "      <td>London</td>\n",
       "      <td>67530172</td>\n",
       "      <td>242495</td>\n",
       "    </tr>\n",
       "    <tr>\n",
       "      <th>4</th>\n",
       "      <td>United States</td>\n",
       "      <td>US</td>\n",
       "      <td>Washington DC</td>\n",
       "      <td>329064917</td>\n",
       "      <td>9525067</td>\n",
       "    </tr>\n",
       "  </tbody>\n",
       "</table>\n",
       "</div>"
      ],
      "text/plain": [
       "     country_name country_code   capital_city  population  area_km2\n",
       "0           China           CN        Beijing  1433783686   9596961\n",
       "1     New Zealand           NZ     Wellington     4783063    270467\n",
       "2    South Africa           ZA       Pretoria    58558270   1221037\n",
       "3  United Kingdom           GB         London    67530172    242495\n",
       "4   United States           US  Washington DC   329064917   9525067"
      ]
     },
     "execution_count": 24,
     "metadata": {},
     "output_type": "execute_result"
    }
   ],
   "source": [
    "# Convert a dictionary into a DataFrame using from_dict() function\n",
    "df_countries = pd.DataFrame.from_dict(dictionary_of_countries)\n",
    "\n",
    "# Display the DataFrame\n",
    "df_countries"
   ]
  },
  {
   "cell_type": "markdown",
   "id": "baa8ab21",
   "metadata": {},
   "source": [
    "From these examples, we see how Pandas library gave us multiple ways to convert Python native data structures into DataFrame objects. "
   ]
  }
 ],
 "metadata": {
  "kernelspec": {
   "display_name": "Python 3 (ipykernel)",
   "language": "python",
   "name": "python3"
  },
  "language_info": {
   "codemirror_mode": {
    "name": "ipython",
    "version": 3
   },
   "file_extension": ".py",
   "mimetype": "text/x-python",
   "name": "python",
   "nbconvert_exporter": "python",
   "pygments_lexer": "ipython3",
   "version": "3.9.7"
  }
 },
 "nbformat": 4,
 "nbformat_minor": 5
}
