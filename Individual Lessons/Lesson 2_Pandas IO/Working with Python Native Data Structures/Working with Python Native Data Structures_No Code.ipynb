{
 "cells": [
  {
   "cell_type": "markdown",
   "id": "a6ccb5a7-83e4-4a35-93ad-28a846919eab",
   "metadata": {},
   "source": [
    "# <center> Working with Python Native Data Structures </center>\n",
    "\n",
    "- [What are Python Native Data Structures](#section_1)\n",
    "- [Pandas DataFrame() Function](#section_2)\n",
    "- [Pandas from_dict() Function](#section_3)\n",
    "\n",
    "<hr>"
   ]
  },
  {
   "cell_type": "markdown",
   "id": "2086cbf4-9d8f-4ff6-9c67-970c94bb28ad",
   "metadata": {},
   "source": [
    "### What are Python Native Data Structures <a class=\"anchor\" id=\"section_1\"></a>\n",
    "\n",
    "The Python programming language has a variety of built-in data structures such as `lists`, `tuples`, `dictionaries`, `strings`, and `sets`.\n",
    "\n",
    "Python developers will use these data structures to store data during coding and program execution. "
   ]
  },
  {
   "cell_type": "markdown",
   "id": "69ceecd7",
   "metadata": {},
   "source": [
    "First, let's look at a dictionary example.\n",
    "\n",
    "We create a typical Python dictionary to save `country` information. This dictionary has five key:value pairs. \n",
    "\n",
    "When converted into a Python DataFrame, the dictionary keys will represent labels while the dictionary values represent the corresponding values or data."
   ]
  },
  {
   "cell_type": "code",
   "execution_count": 4,
   "id": "56061433-97dd-441c-b7c2-9c8dc25b32d4",
   "metadata": {},
   "outputs": [],
   "source": [
    "# Create a Python dictionary. Refer to lesson video for details\n",
    "\n",
    "\n",
    "# Display dataset"
   ]
  },
  {
   "cell_type": "markdown",
   "id": "80459df8",
   "metadata": {},
   "source": [
    "<br>"
   ]
  },
  {
   "cell_type": "markdown",
   "id": "47b56452",
   "metadata": {},
   "source": [
    "Another commonly used Python data structure is `List` which is used to store multiple values in a single variable.\n",
    "\n",
    "Let's have a look at another example below:"
   ]
  },
  {
   "cell_type": "code",
   "execution_count": 8,
   "id": "33252977-1c20-4e9f-a532-d0c15659f27f",
   "metadata": {},
   "outputs": [],
   "source": [
    "# Create a Python list"
   ]
  },
  {
   "cell_type": "markdown",
   "id": "0bb390bd",
   "metadata": {},
   "source": [
    "<br>"
   ]
  },
  {
   "cell_type": "markdown",
   "id": "58cfff82",
   "metadata": {},
   "source": [
    "Imagine if we have a large number of dictionaries, each one has information about a different country.\n",
    "\n",
    "The Pandas library can convert this list of similar dictionaries into a DataFrame object. \n",
    "\n",
    "Let’s look at this example where we create a variable called `list_of_countries` as a Python list where each item is a Python dictionary with information about a different country."
   ]
  },
  {
   "cell_type": "code",
   "execution_count": 6,
   "id": "bf63e0b2-efa5-4d94-920b-117b60490347",
   "metadata": {},
   "outputs": [],
   "source": [
    "# Create a list of dictionaries. Refer to lesson video for details\n",
    "\n",
    "\n",
    "\n",
    "# Display the dataframe"
   ]
  },
  {
   "cell_type": "markdown",
   "id": "b02c4648",
   "metadata": {},
   "source": [
    "However, this  method can not be effectively used to perform analytical tasks such as exploratory analyses or even data visualization.\n",
    "<br>\n",
    "<br>\n",
    "<br>"
   ]
  },
  {
   "cell_type": "markdown",
   "id": "d5843d50-d829-43c8-983b-33c6cffb1f36",
   "metadata": {},
   "source": [
    "### Pandas DataFrame() Function <a class=\"anchor\" id=\"section_2\"></a>\n",
    "\n",
    "Luckily, Pandas library can convert Python data structures into DataFrame objects to allow users to easily perform data manipulation and analysis. This function is called Pandas [DataFrame()](https://pandas.pydata.org/docs/reference/api/pandas.DataFrame.html)."
   ]
  },
  {
   "cell_type": "code",
   "execution_count": 16,
   "id": "b5a41fb7-568d-4061-947b-c426d27bde6a",
   "metadata": {},
   "outputs": [],
   "source": [
    "# Import Pandas library\n"
   ]
  },
  {
   "cell_type": "code",
   "execution_count": 9,
   "id": "7b31c9aa-7508-4373-85f6-e34a346e90d1",
   "metadata": {},
   "outputs": [],
   "source": [
    "# Create a Pandas DataFrame from a list of dictionaries\n",
    "\n",
    "\n",
    "# Display the DataFrame\n"
   ]
  },
  {
   "cell_type": "markdown",
   "id": "26238493",
   "metadata": {},
   "source": [
    "<br>"
   ]
  },
  {
   "cell_type": "markdown",
   "id": "8bc21303",
   "metadata": {},
   "source": [
    "In the following example, we apply the same function but we also make use of one of the optional parameters `index`. \n",
    "\n",
    "For this parameter, we pass our list variable `list_of_country_codes` to be assigned as the DataFrame index. "
   ]
  },
  {
   "cell_type": "code",
   "execution_count": 4,
   "id": "de57a606-da40-44b0-bbdf-d34100e8b576",
   "metadata": {},
   "outputs": [],
   "source": [
    "# Create a Pandas DataFrame from a list of dictionaries\n",
    "\n",
    "\n",
    "# Display the DataFrame\n"
   ]
  },
  {
   "cell_type": "markdown",
   "id": "46ad5c80",
   "metadata": {},
   "source": [
    "We can easily see the similarities and differences in these 2 examples above. Both DataFrames have the same content of 5 different countries. \n",
    "\n",
    "However, we assigned the dataFrame index by using the `index_col` parameter.\n",
    "\n",
    "This is an optional parameter. The function will automatically create a numerical index value if we skip it."
   ]
  },
  {
   "cell_type": "markdown",
   "id": "64c111f9",
   "metadata": {},
   "source": [
    "<br>"
   ]
  },
  {
   "cell_type": "markdown",
   "id": "13a836b1-7cbf-42c0-b9e9-911bb593d48f",
   "metadata": {},
   "source": [
    "### Pandas DataFrame.from_dict() Function <a class=\"anchor\" id=\"section_3\"></a>\n",
    "\n",
    "The Pandas [from_dict()](https://pandas.pydata.org/docs/reference/api/pandas.DataFrame.from_dict.html) function can be used to convert a single dictionary into a DataFrame object"
   ]
  },
  {
   "cell_type": "code",
   "execution_count": 10,
   "id": "31d6f11a-03d1-4cb6-b4d6-7fd983c7d150",
   "metadata": {},
   "outputs": [],
   "source": [
    "# Create a Python dictionary with multiple values. Refer to lesson video for details\n",
    "\n",
    "\n",
    "# Display the dictionary\n"
   ]
  },
  {
   "cell_type": "code",
   "execution_count": 3,
   "id": "53d48537-9f52-4df2-b875-74e438bab166",
   "metadata": {},
   "outputs": [],
   "source": [
    "# Convert a dictionary into a DataFrame using from_dict() function\n",
    "\n",
    "\n",
    "# Display the dataframe\n"
   ]
  },
  {
   "cell_type": "markdown",
   "id": "baa8ab21",
   "metadata": {},
   "source": [
    "From these examples, we see how Pandas library gave us multiple ways to convert Python native data structures into DataFrame objects. "
   ]
  }
 ],
 "metadata": {
  "kernelspec": {
   "display_name": "Python 3 (ipykernel)",
   "language": "python",
   "name": "python3"
  },
  "language_info": {
   "codemirror_mode": {
    "name": "ipython",
    "version": 3
   },
   "file_extension": ".py",
   "mimetype": "text/x-python",
   "name": "python",
   "nbconvert_exporter": "python",
   "pygments_lexer": "ipython3",
   "version": "3.9.7"
  }
 },
 "nbformat": 4,
 "nbformat_minor": 5
}
