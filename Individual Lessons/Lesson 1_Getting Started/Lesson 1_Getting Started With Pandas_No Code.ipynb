{
 "cells": [
  {
   "cell_type": "markdown",
   "id": "f1330f70-5657-49aa-96ad-1f4354ba12c7",
   "metadata": {
    "tags": []
   },
   "source": [
    "# <center> Getting Started - No Code </center>\n",
    "\n",
    "- [Import Pandas Library](#section_1)\n",
    "- [Check Library Version](#section_2)\n",
    "- [Anatomy of Pandas Data Structures](#section_3)\n",
    "- [Understand Pandas Data Types](#section_4)\n",
    "- [Pandas Syntax Structure](#section_5)\n",
    "\n",
    "<hr>"
   ]
  },
  {
   "cell_type": "markdown",
   "id": "1a638fae-ef10-4819-9593-6f53a30ebc31",
   "metadata": {},
   "source": [
    "### How to Import Pandas Library <a class=\"anchor\" id=\"section_1\"></a>\n",
    "\n",
    "The easiest way to start using Pandas library is to get the Python Anaconda distribution, a cross-platform distribution for data analysis and scientific computing. The distribution has more than 250 of the most commonly used data science packages and tools such as Pandas, Scikit Learn, Jupyter, and so on. \n",
    "\n",
    "\n",
    "To start using Pandas in your analysis environment, you need to run the `import` command."
   ]
  },
  {
   "cell_type": "code",
   "execution_count": 2,
   "id": "0903bf70-bd51-486e-b959-eb6e08e27974",
   "metadata": {},
   "outputs": [],
   "source": [
    "# Import Pandas library\n"
   ]
  },
  {
   "cell_type": "markdown",
   "id": "bd781ffc-5a2f-4ae0-b602-8de27e7a6069",
   "metadata": {},
   "source": [
    "### Check Current Version of Pandas library\n",
    "To check your current version of Pandas library, you can run the `version` command."
   ]
  },
  {
   "cell_type": "code",
   "execution_count": 1,
   "id": "c8967e0f-6b76-4461-9df1-8fc1a3841b2f",
   "metadata": {},
   "outputs": [],
   "source": [
    "# Check Pandas version\n"
   ]
  },
  {
   "cell_type": "markdown",
   "id": "39dedc07-26c5-4349-8c75-c3d6eacabe39",
   "metadata": {
    "tags": []
   },
   "source": [
    "### Anatomy of Pandas Data Structures\n",
    "The three main Pandas data structure objects are:\n",
    "\n",
    "\n",
    "- **DataFrame** object is a two-dimensional labeled structure that can hold data in rows and columns. \n",
    "- **Series** object is a one-dimensional labeled structure with a descriptive name and unique data type\n",
    "- **Index** object used for storing axis labels for all Pandas objects.\n",
    "\n",
    "\n",
    "In the example below, we see a Pandas DataFrame object about countries. The DataFrame consists of five different Series objects (\"country_code\", \"country_name\", \"capital_city\", \"population_size\", \"national_day\") with index values from 0 to 4. Later on, you will learn how you can use the DataFrame index to select specific data values."
   ]
  },
  {
   "cell_type": "markdown",
   "id": "12b1c67d",
   "metadata": {},
   "source": [
    "### Pandas Data Types\n",
    "\n",
    "In our countries DataFrame example, notice we have five different columns or series objects. Some of them have text data, some numerical data, and some datetime data type. \n",
    "\n",
    "The pandas library can support seven different data types, and it's really important for data professionals to understand the usability of each data type. \n",
    "\n",
    "In this table, we highlight these seven data types and the main use case for each one. "
   ]
  },
  {
   "cell_type": "markdown",
   "id": "44d74e5f",
   "metadata": {},
   "source": [
    "<br>"
   ]
  },
  {
   "cell_type": "markdown",
   "id": "88e56a93",
   "metadata": {},
   "source": [
    "<img src='Images/data type.jpg' class=\"center\"/>"
   ]
  },
  {
   "cell_type": "markdown",
   "id": "29850fd5",
   "metadata": {},
   "source": [
    "### Pandas Functions, Methods, and Attributes\n",
    "\n",
    "In this part, we explain some syntax and vocabulary concepts in Pandas library. Mainly, we clarify the concepts of **Pandas Functions, Methods** and **Attributes**."
   ]
  },
  {
   "cell_type": "markdown",
   "id": "93f66173",
   "metadata": {},
   "source": [
    "**Pandas Functions**\n",
    "\n",
    "The Pandas library has a list of built-in functions that are designed to do a variety of operations such as reading datasets and merging data objects. \n",
    "\n",
    "These functions usually have the prefix pandas or pd.\n",
    "\n",
    "In the example below, notice we used the built-in function [`read_csv()`](https://pandas.pydata.org/docs/reference/api/pandas.read_csv.html) to read a csv dataset file into a DataFrame object and assign it to a variable called `df_countries`."
   ]
  },
  {
   "cell_type": "code",
   "execution_count": 7,
   "id": "6cb0ad42-ae9b-45c0-af48-3d6770c2ae7d",
   "metadata": {},
   "outputs": [],
   "source": [
    "# Import Sample DataFrame\n"
   ]
  },
  {
   "cell_type": "code",
   "execution_count": 1,
   "id": "277b584a-9775-41b8-b6b7-31ef98962b32",
   "metadata": {},
   "outputs": [],
   "source": [
    "# Display the dataframe\n"
   ]
  },
  {
   "cell_type": "markdown",
   "id": "1f5e72b8",
   "metadata": {},
   "source": [
    "**Pandas Methods**\n",
    "\n",
    "Pandas Methods are “**Action Oriented**” and mostly used to do something to the data object. \n",
    "\n",
    "In this example below, we use the [`set_index()`](https://pandas.pydata.org/docs/reference/api/pandas.DataFrame.set_index.html) method to assign the country code column to be the DataFrame index. \n",
    "Notice we needed to pass the column name as a parameter to the method."
   ]
  },
  {
   "cell_type": "code",
   "execution_count": null,
   "id": "5a444c35-d27e-482d-b236-e6e2a8947873",
   "metadata": {},
   "outputs": [],
   "source": [
    "# Assign the \"country code\" as DataFrame index\n"
   ]
  },
  {
   "cell_type": "markdown",
   "id": "2a810d54",
   "metadata": {},
   "source": [
    "**Pandas Attributes**\n",
    "\n",
    "Attributes are used to describe and find information about a given data object.\n",
    "\n",
    "Notice how attributes don’t need to have parentheses since they don’t usually take any parameters.\n",
    "\n",
    "In the examples below, notice how we used the attribute [`shape`](https://pandas.pydata.org/pandas-docs/version/0.23/generated/pandas.DataFrame.shape.html) to find out the dimensions of our DataFrame object. The dimension basically tells us how many rows and records there are in our dataframe."
   ]
  },
  {
   "cell_type": "code",
   "execution_count": 2,
   "id": "1520f3d2-8059-49c0-954b-e08e7daed93c",
   "metadata": {},
   "outputs": [],
   "source": [
    "# Display the dimensions of countries DataFrame\n"
   ]
  }
 ],
 "metadata": {
  "kernelspec": {
   "display_name": "Python 3 (ipykernel)",
   "language": "python",
   "name": "python3"
  },
  "language_info": {
   "codemirror_mode": {
    "name": "ipython",
    "version": 3
   },
   "file_extension": ".py",
   "mimetype": "text/x-python",
   "name": "python",
   "nbconvert_exporter": "python",
   "pygments_lexer": "ipython3",
   "version": "3.9.7"
  }
 },
 "nbformat": 4,
 "nbformat_minor": 5
}
