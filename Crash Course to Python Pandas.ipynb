{
 "cells": [
  {
   "cell_type": "markdown",
   "metadata": {},
   "source": [
    "# Essential Guide to Python Pandas\n",
    "\n",
    "Pandas library has emerged as one of the most popular data processing tools for data professionals and software developers. It enables users to quickly apply data manipulation tasks such as handling missing data, merging multiple datasets and removing duplicate records. It is often used on a daily basis by data professionals and is considered an essential part of the data science toolkit. This course is for aspiring data professionals and Python developers who want to learn how to process data in Pandas. To take the best out of this course, you will need a minimum working knowledge about Python and are comfortable running data science documents using Jupyter notebook."
   ]
  },
  {
   "cell_type": "markdown",
   "metadata": {},
   "source": [
    "## Table of Contents\n",
    "\n",
    "0. [ Jupyter Notebook Commands and Shortcuts](#section_0)\n",
    "1. [ How to Import Pandas Library](#section_1)\n",
    "2. [ Anatomy of Pandas Data Structures](#section_2)\n",
    "3. [ Get Data into and from Pandas](#section_3)\n",
    "    * [Python Native Data Structures](#section_3_1)\n",
    "    * [Tabular Data Files](#)\n",
    "    * [API Query and JSON Format](#)\n",
    "    * [Web Pages Data](#)\n",
    "4. [Describe Information in DataFrames](#)\n",
    "5. [Understand Data Types](#)\n",
    "6. [Data Cleaning in Pandas](#)\n",
    "    * [Split & Merge Columns](#)\n",
    "    * [Change Columns DataType](#)\n",
    "    * [Rename Columns](#)\n",
    "    * [Drop Rows and Columns](#)\n",
    "    * [Manipulate text content](#)\n",
    "7. [Pandas Merging & Joining Data](#)\n",
    "8. [Data Summarization & Aggregation](#)\n",
    "    * [Select Data by Column, Row, Index & Conditions](#)\n",
    "    * [roup & Sort data](#)\n",
    "9. [Pandas Data Visualization](#)\n",
    "10. [Pandas Styling Settings](#)\n",
    "11. [Pandas Analysis Project](#)\n",
    "    * [Collect Data From Multiple Sources](#)\n",
    "    * [Clean Data](#)\n",
    "    * [Join DataFrames](#)\n",
    "    * [Perform Basic Analysis](#)"
   ]
  },
  {
   "cell_type": "markdown",
   "metadata": {},
   "source": [
    "### 0. Jupyter Notebook Commands and Shortcuts <a class=\"anchor\" id=\"section_0\"></a>"
   ]
  },
  {
   "cell_type": "markdown",
   "metadata": {},
   "source": [
    "Jupyter Notebooks have two different keyboard input modes:\n",
    "\n",
    "- Edit mode - that's the mode for you to type in a cell. Indicated by a green cell border\n",
    "- Command mode - binds the keyboard to notebook level actions. Indicated by a grey cell border with a blue left margin\"\n",
    "\n",
    "Some of the most commonly used shortcuts include:\n",
    "\n",
    "**Command Mode**\n",
    "\n",
    "* shift + enter run cell, select below\n",
    "* ctrl + enter run cell\n",
    "* option + enter run cell, insert below\n",
    "* A insert cell above\n",
    "* B insert cell below\n",
    "* C copy cell\n",
    "* V paste cell\n",
    "* D , D delete selected cell\n",
    "* shift + M merge selected cells, or current cell with cell below if only one cell selected\n",
    "* I , I interrupt kernel\n",
    "* 0 , 0 restart kernel (with dialog)\n",
    "* Y change cell to code mode\n",
    "* M change cell to markdown mode (good for documentation)\n",
    "\n",
    "**Edit Mode**\n",
    "\n",
    "* cmd + click for multi-cursor editing\n",
    "* option + scrolling click for column editing\n",
    "* cmd + / toggle comment lines\n",
    "* tab code completion or indent\n",
    "* shift + tab tooltip\n",
    "* ctrl + shift + - split cell\n",
    "\n",
    "**Command Palette** \n",
    "\n",
    "* cmd + shift + p\n",
    "If you want quick access to all the commands in Jupyter Notebooks, you can simply open the command palette with cmd + shift + p."
   ]
  },
  {
   "cell_type": "markdown",
   "metadata": {},
   "source": [
    "### 1. How to Import Pandas Library <a class=\"anchor\" id=\"section_1\"></a>"
   ]
  },
  {
   "cell_type": "code",
   "execution_count": 1,
   "metadata": {
    "collapsed": true,
    "jupyter": {
     "outputs_hidden": true,
     "source_hidden": true
    }
   },
   "outputs": [],
   "source": [
    "import pandas as pd\n",
    "import numpy as np"
   ]
  },
  {
   "cell_type": "code",
   "execution_count": 2,
   "metadata": {
    "collapsed": true,
    "jupyter": {
     "outputs_hidden": true,
     "source_hidden": true
    }
   },
   "outputs": [
    {
     "name": "stdout",
     "output_type": "stream",
     "text": [
      "Requirement already satisfied: pandas in /home/ali/anaconda3/lib/python3.7/site-packages (1.2.3)\n",
      "Requirement already satisfied: python-dateutil>=2.7.3 in /home/ali/anaconda3/lib/python3.7/site-packages (from pandas) (2.8.1)\n",
      "Requirement already satisfied: pytz>=2017.3 in /home/ali/anaconda3/lib/python3.7/site-packages (from pandas) (2021.1)\n",
      "Requirement already satisfied: numpy>=1.16.5 in /home/ali/anaconda3/lib/python3.7/site-packages (from pandas) (1.19.2)\n",
      "Requirement already satisfied: six>=1.5 in /home/ali/anaconda3/lib/python3.7/site-packages (from python-dateutil>=2.7.3->pandas) (1.15.0)\n"
     ]
    }
   ],
   "source": [
    "# Install pandas\n",
    "!pip install pandas"
   ]
  },
  {
   "cell_type": "code",
   "execution_count": 3,
   "metadata": {
    "collapsed": true,
    "jupyter": {
     "outputs_hidden": true,
     "source_hidden": true
    }
   },
   "outputs": [
    {
     "data": {
      "text/plain": [
       "'1.2.3'"
      ]
     },
     "execution_count": 3,
     "metadata": {},
     "output_type": "execute_result"
    }
   ],
   "source": [
    "# Check Pandas Version\n",
    "pd.__version__"
   ]
  },
  {
   "cell_type": "markdown",
   "metadata": {},
   "source": [
    "### 2. Anatomy of Pandas Data Structures <a class=\"anchor\" id=\"section_2\"></a>\n",
    "\n",
    "The two main Pandas data structure objects are **DataFrames** and **Series**. Pandas `Dataframe` object is a two-dimensional labelled structure that can hold data in rows and columns, similar to a spreadsheet file or relational database table. Each DataFrame column (also called Pandas `Series` Object) is a one-dimensional labelled structure with a descriptive name and unique data type that applies to all values in that column. ***In other words, you can think of a DataFrame as a collection of Series.***"
   ]
  },
  {
   "cell_type": "markdown",
   "metadata": {},
   "source": [
    "### 3. Get Data into and from Pandas <a class=\"anchor\" id=\"section_3\"></a>\n",
    "\n",
    "Pandas library is designed to access data from a wide variety of sources and formats. Some popular data sources include tabular files, database tables, third party APIs and even using Python native data structures. This flexibility is what makes Pandas library useful for many user groups such as developers and data professionals."
   ]
  },
  {
   "cell_type": "markdown",
   "metadata": {},
   "source": [
    "#### 3.1 Python Native Data Structures <a class=\"anchor\" id=\"section_3_1\"></a>"
   ]
  },
  {
   "cell_type": "markdown",
   "metadata": {},
   "source": [
    "Python programming language has a variety of built-in data structures such as `lists`, `tuples`, `dictionaries`, `strings`, `sets` and `frozensets`. These data structures are ideal for storing data during program execution, however, they can not be efficiently used to perform analytical tasks such as exploratory analysis and data visualization. Pandas library can transfer Python data structures into `DataFrame` objects to allow users to easily perform data manipulation and analytics. "
   ]
  },
  {
   "cell_type": "code",
   "execution_count": 1,
   "metadata": {
    "tags": []
   },
   "outputs": [
    {
     "data": {
      "text/plain": [
       "{'country_name': 'New Zealand',\n",
       " 'capital_city': 'Wellington',\n",
       " 'country_code': 'NZ',\n",
       " 'population': 4783063,\n",
       " 'area_km2': 270467}"
      ]
     },
     "execution_count": 1,
     "metadata": {},
     "output_type": "execute_result"
    }
   ],
   "source": [
    "new_zealand = {'country_name':'New Zealand',\n",
    "               'capital_city':'Wellington',\n",
    "               'country_code':'NZ',\n",
    "               'population':4783063,\n",
    "               'area_km2':270467}\n",
    "new_zealand"
   ]
  },
  {
   "cell_type": "code",
   "execution_count": 2,
   "metadata": {},
   "outputs": [
    {
     "data": {
      "text/plain": [
       "dict"
      ]
     },
     "execution_count": 2,
     "metadata": {},
     "output_type": "execute_result"
    }
   ],
   "source": [
    "type(new_zealand)"
   ]
  },
  {
   "cell_type": "code",
   "execution_count": 4,
   "metadata": {
    "collapsed": true,
    "jupyter": {
     "outputs_hidden": true
    },
    "tags": []
   },
   "outputs": [
    {
     "data": {
      "text/html": [
       "<div>\n",
       "<style scoped>\n",
       "    .dataframe tbody tr th:only-of-type {\n",
       "        vertical-align: middle;\n",
       "    }\n",
       "\n",
       "    .dataframe tbody tr th {\n",
       "        vertical-align: top;\n",
       "    }\n",
       "\n",
       "    .dataframe thead th {\n",
       "        text-align: right;\n",
       "    }\n",
       "</style>\n",
       "<table border=\"1\" class=\"dataframe\">\n",
       "  <thead>\n",
       "    <tr style=\"text-align: right;\">\n",
       "      <th></th>\n",
       "      <th>country_name</th>\n",
       "      <th>capital_city</th>\n",
       "      <th>population</th>\n",
       "      <th>area_km2</th>\n",
       "    </tr>\n",
       "  </thead>\n",
       "  <tbody>\n",
       "    <tr>\n",
       "      <th>CN</th>\n",
       "      <td>China</td>\n",
       "      <td>Beijing</td>\n",
       "      <td>1433783686</td>\n",
       "      <td>9596961</td>\n",
       "    </tr>\n",
       "    <tr>\n",
       "      <th>NZ</th>\n",
       "      <td>New Zealand</td>\n",
       "      <td>Wellington</td>\n",
       "      <td>4783063</td>\n",
       "      <td>270467</td>\n",
       "    </tr>\n",
       "    <tr>\n",
       "      <th>ZA</th>\n",
       "      <td>South Africa</td>\n",
       "      <td>Pretoria</td>\n",
       "      <td>58558270</td>\n",
       "      <td>1221037</td>\n",
       "    </tr>\n",
       "    <tr>\n",
       "      <th>GB</th>\n",
       "      <td>United Kingdom</td>\n",
       "      <td>London</td>\n",
       "      <td>67530172</td>\n",
       "      <td>242495</td>\n",
       "    </tr>\n",
       "    <tr>\n",
       "      <th>US</th>\n",
       "      <td>United States</td>\n",
       "      <td>Washington DC</td>\n",
       "      <td>329064917</td>\n",
       "      <td>9525067</td>\n",
       "    </tr>\n",
       "  </tbody>\n",
       "</table>\n",
       "</div>"
      ],
      "text/plain": [
       "      country_name   capital_city  population  area_km2\n",
       "CN           China        Beijing  1433783686   9596961\n",
       "NZ     New Zealand     Wellington     4783063    270467\n",
       "ZA    South Africa       Pretoria    58558270   1221037\n",
       "GB  United Kingdom         London    67530172    242495\n",
       "US   United States  Washington DC   329064917   9525067"
      ]
     },
     "execution_count": 4,
     "metadata": {},
     "output_type": "execute_result"
    }
   ],
   "source": [
    "# Create DataFrame from a list of dictionaries\n",
    "import pandas as pd\n",
    "\n",
    "list_of_countries = [\n",
    "{'country_name':'China','capital_city':'Beijing','population':1433783686,'area_km2':9596961},\n",
    "{'country_name':'New Zealand','capital_city':'Wellington','population':4783063,'area_km2':270467},\n",
    "{'country_name':'South Africa','capital_city':'Pretoria','population':58558270,'area_km2':1221037},\n",
    "{'country_name':'United Kingdom','capital_city':'London','population':67530172,'area_km2':242495},\n",
    "{'country_name':'United States','capital_city':'Washington DC','population':329064917,'area_km2':9525067}]\n",
    "\n",
    "countries = pd.DataFrame(list_of_countries, index = ['CN','NZ','ZA','GB','US'])\n",
    "\n",
    "\n",
    "countries #.head()"
   ]
  },
  {
   "cell_type": "code",
   "execution_count": 6,
   "metadata": {
    "collapsed": true,
    "jupyter": {
     "outputs_hidden": true,
     "source_hidden": true
    }
   },
   "outputs": [
    {
     "data": {
      "text/plain": [
       "['Beijing', 'Wellington', 'Pretoria', 'London', 'Washington DC']"
      ]
     },
     "execution_count": 6,
     "metadata": {},
     "output_type": "execute_result"
    }
   ],
   "source": [
    "countries['capital_city'].tolist()"
   ]
  },
  {
   "cell_type": "code",
   "execution_count": 7,
   "metadata": {
    "collapsed": true,
    "jupyter": {
     "outputs_hidden": true,
     "source_hidden": true
    }
   },
   "outputs": [],
   "source": [
    "dictionary_of_countries = {'country_name': ['China', 'New Zealand', 'South Africa', 'United Kingdom', 'United States'],\n",
    "                           'country_code': ['CN', 'NZ', 'ZA', 'GB', 'US'],\n",
    "                           'Capital_city': ['Beijing', 'Wellington', 'Pretoria', 'London', 'Washington DC'],\n",
    "                           'population': [1433783686, 4783063, 58558270, 67530172, 329064917],\n",
    "                           'area_km2': [9596961, 270467, 1221037, 242495, 9525067]}"
   ]
  },
  {
   "cell_type": "code",
   "execution_count": 8,
   "metadata": {
    "collapsed": true,
    "jupyter": {
     "outputs_hidden": true,
     "source_hidden": true
    }
   },
   "outputs": [
    {
     "data": {
      "text/html": [
       "<div>\n",
       "<style scoped>\n",
       "    .dataframe tbody tr th:only-of-type {\n",
       "        vertical-align: middle;\n",
       "    }\n",
       "\n",
       "    .dataframe tbody tr th {\n",
       "        vertical-align: top;\n",
       "    }\n",
       "\n",
       "    .dataframe thead th {\n",
       "        text-align: right;\n",
       "    }\n",
       "</style>\n",
       "<table border=\"1\" class=\"dataframe\">\n",
       "  <thead>\n",
       "    <tr style=\"text-align: right;\">\n",
       "      <th></th>\n",
       "      <th>country_name</th>\n",
       "      <th>country_code</th>\n",
       "      <th>Capital_city</th>\n",
       "      <th>population</th>\n",
       "      <th>area_km2</th>\n",
       "    </tr>\n",
       "  </thead>\n",
       "  <tbody>\n",
       "    <tr>\n",
       "      <th>0</th>\n",
       "      <td>China</td>\n",
       "      <td>CN</td>\n",
       "      <td>Beijing</td>\n",
       "      <td>1433783686</td>\n",
       "      <td>9596961</td>\n",
       "    </tr>\n",
       "    <tr>\n",
       "      <th>1</th>\n",
       "      <td>New Zealand</td>\n",
       "      <td>NZ</td>\n",
       "      <td>Wellington</td>\n",
       "      <td>4783063</td>\n",
       "      <td>270467</td>\n",
       "    </tr>\n",
       "    <tr>\n",
       "      <th>2</th>\n",
       "      <td>South Africa</td>\n",
       "      <td>ZA</td>\n",
       "      <td>Pretoria</td>\n",
       "      <td>58558270</td>\n",
       "      <td>1221037</td>\n",
       "    </tr>\n",
       "    <tr>\n",
       "      <th>3</th>\n",
       "      <td>United Kingdom</td>\n",
       "      <td>GB</td>\n",
       "      <td>London</td>\n",
       "      <td>67530172</td>\n",
       "      <td>242495</td>\n",
       "    </tr>\n",
       "    <tr>\n",
       "      <th>4</th>\n",
       "      <td>United States</td>\n",
       "      <td>US</td>\n",
       "      <td>Washington DC</td>\n",
       "      <td>329064917</td>\n",
       "      <td>9525067</td>\n",
       "    </tr>\n",
       "  </tbody>\n",
       "</table>\n",
       "</div>"
      ],
      "text/plain": [
       "     country_name country_code   Capital_city  population  area_km2\n",
       "0           China           CN        Beijing  1433783686   9596961\n",
       "1     New Zealand           NZ     Wellington     4783063    270467\n",
       "2    South Africa           ZA       Pretoria    58558270   1221037\n",
       "3  United Kingdom           GB         London    67530172    242495\n",
       "4   United States           US  Washington DC   329064917   9525067"
      ]
     },
     "execution_count": 8,
     "metadata": {},
     "output_type": "execute_result"
    }
   ],
   "source": [
    "countries = pd.DataFrame.from_dict(dictionary_of_countries)\n",
    "countries.head()"
   ]
  },
  {
   "cell_type": "code",
   "execution_count": 8,
   "metadata": {
    "collapsed": true,
    "jupyter": {
     "outputs_hidden": true,
     "source_hidden": true
    }
   },
   "outputs": [
    {
     "data": {
      "text/plain": [
       "20"
      ]
     },
     "execution_count": 8,
     "metadata": {},
     "output_type": "execute_result"
    }
   ],
   "source": [
    "countries.size"
   ]
  },
  {
   "cell_type": "code",
   "execution_count": 9,
   "metadata": {
    "collapsed": true,
    "jupyter": {
     "outputs_hidden": true,
     "source_hidden": true
    }
   },
   "outputs": [
    {
     "name": "stdout",
     "output_type": "stream",
     "text": [
      "<class 'pandas.core.frame.DataFrame'>\n",
      "RangeIndex: 5 entries, 0 to 4\n",
      "Data columns (total 4 columns):\n",
      " #   Column        Non-Null Count  Dtype  \n",
      "---  ------        --------------  -----  \n",
      " 0   country_name  5 non-null      object \n",
      " 1   country_code  5 non-null      object \n",
      " 2   population    5 non-null      int64  \n",
      " 3   area_km2      4 non-null      float64\n",
      "dtypes: float64(1), int64(1), object(2)\n",
      "memory usage: 288.0+ bytes\n"
     ]
    }
   ],
   "source": [
    "countries.info()"
   ]
  },
  {
   "cell_type": "markdown",
   "metadata": {},
   "source": [
    "#### 3.2 Tabular Data Files <a class=\"anchor\" id=\"section_3_2\"></a>"
   ]
  },
  {
   "cell_type": "code",
   "execution_count": 11,
   "metadata": {
    "collapsed": true,
    "jupyter": {
     "outputs_hidden": true,
     "source_hidden": true
    }
   },
   "outputs": [
    {
     "data": {
      "text/html": [
       "<div>\n",
       "<style scoped>\n",
       "    .dataframe tbody tr th:only-of-type {\n",
       "        vertical-align: middle;\n",
       "    }\n",
       "\n",
       "    .dataframe tbody tr th {\n",
       "        vertical-align: top;\n",
       "    }\n",
       "\n",
       "    .dataframe thead th {\n",
       "        text-align: right;\n",
       "    }\n",
       "</style>\n",
       "<table border=\"1\" class=\"dataframe\">\n",
       "  <thead>\n",
       "    <tr style=\"text-align: right;\">\n",
       "      <th></th>\n",
       "      <th>country</th>\n",
       "      <th>beer_servings</th>\n",
       "      <th>spirit_servings</th>\n",
       "      <th>wine_servings</th>\n",
       "      <th>total_litres_of_pure_alcohol</th>\n",
       "    </tr>\n",
       "  </thead>\n",
       "  <tbody>\n",
       "    <tr>\n",
       "      <th>0</th>\n",
       "      <td>Afghanistan</td>\n",
       "      <td>0</td>\n",
       "      <td>0</td>\n",
       "      <td>0</td>\n",
       "      <td>0.0</td>\n",
       "    </tr>\n",
       "    <tr>\n",
       "      <th>1</th>\n",
       "      <td>Albania</td>\n",
       "      <td>89</td>\n",
       "      <td>132</td>\n",
       "      <td>54</td>\n",
       "      <td>4.9</td>\n",
       "    </tr>\n",
       "    <tr>\n",
       "      <th>2</th>\n",
       "      <td>Algeria</td>\n",
       "      <td>25</td>\n",
       "      <td>0</td>\n",
       "      <td>14</td>\n",
       "      <td>0.7</td>\n",
       "    </tr>\n",
       "    <tr>\n",
       "      <th>3</th>\n",
       "      <td>Andorra</td>\n",
       "      <td>245</td>\n",
       "      <td>138</td>\n",
       "      <td>312</td>\n",
       "      <td>12.4</td>\n",
       "    </tr>\n",
       "    <tr>\n",
       "      <th>4</th>\n",
       "      <td>Angola</td>\n",
       "      <td>217</td>\n",
       "      <td>57</td>\n",
       "      <td>45</td>\n",
       "      <td>5.9</td>\n",
       "    </tr>\n",
       "  </tbody>\n",
       "</table>\n",
       "</div>"
      ],
      "text/plain": [
       "       country  beer_servings  spirit_servings  wine_servings  \\\n",
       "0  Afghanistan              0                0              0   \n",
       "1      Albania             89              132             54   \n",
       "2      Algeria             25                0             14   \n",
       "3      Andorra            245              138            312   \n",
       "4       Angola            217               57             45   \n",
       "\n",
       "   total_litres_of_pure_alcohol  \n",
       "0                           0.0  \n",
       "1                           4.9  \n",
       "2                           0.7  \n",
       "3                          12.4  \n",
       "4                           5.9  "
      ]
     },
     "execution_count": 11,
     "metadata": {},
     "output_type": "execute_result"
    }
   ],
   "source": [
    "alcohol_data = pd.read_csv('https://raw.githubusercontent.com/fivethirtyeight/data/master/alcohol-consumption/drinks.csv')\n",
    "\n",
    "alcohol_data.head()\n"
   ]
  },
  {
   "cell_type": "code",
   "execution_count": 10,
   "metadata": {
    "collapsed": true,
    "jupyter": {
     "outputs_hidden": true,
     "source_hidden": true
    }
   },
   "outputs": [
    {
     "data": {
      "text/html": [
       "<div>\n",
       "<style scoped>\n",
       "    .dataframe tbody tr th:only-of-type {\n",
       "        vertical-align: middle;\n",
       "    }\n",
       "\n",
       "    .dataframe tbody tr th {\n",
       "        vertical-align: top;\n",
       "    }\n",
       "\n",
       "    .dataframe thead th {\n",
       "        text-align: right;\n",
       "    }\n",
       "</style>\n",
       "<table border=\"1\" class=\"dataframe\">\n",
       "  <thead>\n",
       "    <tr style=\"text-align: right;\">\n",
       "      <th></th>\n",
       "      <th>sepal_length</th>\n",
       "      <th>sepal_width</th>\n",
       "      <th>petal_length</th>\n",
       "      <th>petal_width</th>\n",
       "      <th>species</th>\n",
       "    </tr>\n",
       "  </thead>\n",
       "  <tbody>\n",
       "    <tr>\n",
       "      <th>0</th>\n",
       "      <td>5.1</td>\n",
       "      <td>3.5</td>\n",
       "      <td>1.4</td>\n",
       "      <td>0.2</td>\n",
       "      <td>setosa</td>\n",
       "    </tr>\n",
       "    <tr>\n",
       "      <th>1</th>\n",
       "      <td>4.9</td>\n",
       "      <td>3.0</td>\n",
       "      <td>1.4</td>\n",
       "      <td>0.2</td>\n",
       "      <td>setosa</td>\n",
       "    </tr>\n",
       "    <tr>\n",
       "      <th>2</th>\n",
       "      <td>4.7</td>\n",
       "      <td>3.2</td>\n",
       "      <td>1.3</td>\n",
       "      <td>0.2</td>\n",
       "      <td>setosa</td>\n",
       "    </tr>\n",
       "    <tr>\n",
       "      <th>3</th>\n",
       "      <td>4.6</td>\n",
       "      <td>3.1</td>\n",
       "      <td>1.5</td>\n",
       "      <td>0.2</td>\n",
       "      <td>setosa</td>\n",
       "    </tr>\n",
       "    <tr>\n",
       "      <th>4</th>\n",
       "      <td>5.0</td>\n",
       "      <td>3.6</td>\n",
       "      <td>1.4</td>\n",
       "      <td>0.2</td>\n",
       "      <td>setosa</td>\n",
       "    </tr>\n",
       "  </tbody>\n",
       "</table>\n",
       "</div>"
      ],
      "text/plain": [
       "   sepal_length  sepal_width  petal_length  petal_width species\n",
       "0           5.1          3.5           1.4          0.2  setosa\n",
       "1           4.9          3.0           1.4          0.2  setosa\n",
       "2           4.7          3.2           1.3          0.2  setosa\n",
       "3           4.6          3.1           1.5          0.2  setosa\n",
       "4           5.0          3.6           1.4          0.2  setosa"
      ]
     },
     "execution_count": 10,
     "metadata": {},
     "output_type": "execute_result"
    }
   ],
   "source": [
    "# Read data from a csv file\n",
    "iris_data = pd.read_csv('https://gist.githubusercontent.com/curran/a08a1080b88344b0c8a7/raw/0e7a9b0a5d22642a06d3d5b9bcbad9890c8ee534/iris.csv', )\n",
    "iris_data.head()"
   ]
  },
  {
   "cell_type": "code",
   "execution_count": 11,
   "metadata": {
    "collapsed": true,
    "jupyter": {
     "outputs_hidden": true,
     "source_hidden": true
    }
   },
   "outputs": [
    {
     "data": {
      "text/html": [
       "<div>\n",
       "<style scoped>\n",
       "    .dataframe tbody tr th:only-of-type {\n",
       "        vertical-align: middle;\n",
       "    }\n",
       "\n",
       "    .dataframe tbody tr th {\n",
       "        vertical-align: top;\n",
       "    }\n",
       "\n",
       "    .dataframe thead th {\n",
       "        text-align: right;\n",
       "    }\n",
       "</style>\n",
       "<table border=\"1\" class=\"dataframe\">\n",
       "  <thead>\n",
       "    <tr style=\"text-align: right;\">\n",
       "      <th></th>\n",
       "      <th>FIFA</th>\n",
       "      <th>Dial</th>\n",
       "      <th>ISO3166-1-Alpha-3</th>\n",
       "      <th>MARC</th>\n",
       "      <th>is_independent</th>\n",
       "      <th>ISO3166-1-numeric</th>\n",
       "      <th>GAUL</th>\n",
       "      <th>FIPS</th>\n",
       "      <th>WMO</th>\n",
       "      <th>ISO3166-1-Alpha-2</th>\n",
       "      <th>...</th>\n",
       "      <th>UNTERM Arabic Short</th>\n",
       "      <th>Sub-region Name</th>\n",
       "      <th>official_name_ru</th>\n",
       "      <th>Global Name</th>\n",
       "      <th>Capital</th>\n",
       "      <th>Continent</th>\n",
       "      <th>TLD</th>\n",
       "      <th>Languages</th>\n",
       "      <th>Geoname ID</th>\n",
       "      <th>EDGAR</th>\n",
       "    </tr>\n",
       "    <tr>\n",
       "      <th>CLDR display name</th>\n",
       "      <th></th>\n",
       "      <th></th>\n",
       "      <th></th>\n",
       "      <th></th>\n",
       "      <th></th>\n",
       "      <th></th>\n",
       "      <th></th>\n",
       "      <th></th>\n",
       "      <th></th>\n",
       "      <th></th>\n",
       "      <th></th>\n",
       "      <th></th>\n",
       "      <th></th>\n",
       "      <th></th>\n",
       "      <th></th>\n",
       "      <th></th>\n",
       "      <th></th>\n",
       "      <th></th>\n",
       "      <th></th>\n",
       "      <th></th>\n",
       "      <th></th>\n",
       "    </tr>\n",
       "  </thead>\n",
       "  <tbody>\n",
       "    <tr>\n",
       "      <th>Taiwan</th>\n",
       "      <td>TPE</td>\n",
       "      <td>886</td>\n",
       "      <td>TWN</td>\n",
       "      <td>ch</td>\n",
       "      <td>Yes</td>\n",
       "      <td>158.0</td>\n",
       "      <td>925</td>\n",
       "      <td>TW</td>\n",
       "      <td></td>\n",
       "      <td>TW</td>\n",
       "      <td>...</td>\n",
       "      <td>NaN</td>\n",
       "      <td>NaN</td>\n",
       "      <td>NaN</td>\n",
       "      <td>NaN</td>\n",
       "      <td>Taipei</td>\n",
       "      <td>AS</td>\n",
       "      <td>.tw</td>\n",
       "      <td>zh-TW,zh,nan,hak</td>\n",
       "      <td>1668284.0</td>\n",
       "      <td>NaN</td>\n",
       "    </tr>\n",
       "    <tr>\n",
       "      <th>Afghanistan</th>\n",
       "      <td>AFG</td>\n",
       "      <td>93</td>\n",
       "      <td>AFG</td>\n",
       "      <td>af</td>\n",
       "      <td>Yes</td>\n",
       "      <td>4.0</td>\n",
       "      <td>1</td>\n",
       "      <td>AF</td>\n",
       "      <td>AF</td>\n",
       "      <td>AF</td>\n",
       "      <td>...</td>\n",
       "      <td>أفغانستان</td>\n",
       "      <td>Southern Asia</td>\n",
       "      <td>Афганистан</td>\n",
       "      <td>World</td>\n",
       "      <td>Kabul</td>\n",
       "      <td>AS</td>\n",
       "      <td>.af</td>\n",
       "      <td>fa-AF,ps,uz-AF,tk</td>\n",
       "      <td>1149361.0</td>\n",
       "      <td>B2</td>\n",
       "    </tr>\n",
       "    <tr>\n",
       "      <th>Albania</th>\n",
       "      <td>ALB</td>\n",
       "      <td>355</td>\n",
       "      <td>ALB</td>\n",
       "      <td>aa</td>\n",
       "      <td>Yes</td>\n",
       "      <td>8.0</td>\n",
       "      <td>3</td>\n",
       "      <td>AL</td>\n",
       "      <td>AB</td>\n",
       "      <td>AL</td>\n",
       "      <td>...</td>\n",
       "      <td>ألبانيا</td>\n",
       "      <td>Southern Europe</td>\n",
       "      <td>Албания</td>\n",
       "      <td>World</td>\n",
       "      <td>Tirana</td>\n",
       "      <td>EU</td>\n",
       "      <td>.al</td>\n",
       "      <td>sq,el</td>\n",
       "      <td>783754.0</td>\n",
       "      <td>B3</td>\n",
       "    </tr>\n",
       "    <tr>\n",
       "      <th>Algeria</th>\n",
       "      <td>ALG</td>\n",
       "      <td>213</td>\n",
       "      <td>DZA</td>\n",
       "      <td>ae</td>\n",
       "      <td>Yes</td>\n",
       "      <td>12.0</td>\n",
       "      <td>4</td>\n",
       "      <td>AG</td>\n",
       "      <td>AL</td>\n",
       "      <td>DZ</td>\n",
       "      <td>...</td>\n",
       "      <td>الجزائر</td>\n",
       "      <td>Northern Africa</td>\n",
       "      <td>Алжир</td>\n",
       "      <td>World</td>\n",
       "      <td>Algiers</td>\n",
       "      <td>AF</td>\n",
       "      <td>.dz</td>\n",
       "      <td>ar-DZ</td>\n",
       "      <td>2589581.0</td>\n",
       "      <td>B4</td>\n",
       "    </tr>\n",
       "    <tr>\n",
       "      <th>American Samoa</th>\n",
       "      <td>ASA</td>\n",
       "      <td>1-684</td>\n",
       "      <td>ASM</td>\n",
       "      <td>as</td>\n",
       "      <td>Territory of US</td>\n",
       "      <td>16.0</td>\n",
       "      <td>5</td>\n",
       "      <td>AQ</td>\n",
       "      <td></td>\n",
       "      <td>AS</td>\n",
       "      <td>...</td>\n",
       "      <td>NaN</td>\n",
       "      <td>Polynesia</td>\n",
       "      <td>Американское Самоа</td>\n",
       "      <td>World</td>\n",
       "      <td>Pago Pago</td>\n",
       "      <td>OC</td>\n",
       "      <td>.as</td>\n",
       "      <td>en-AS,sm,to</td>\n",
       "      <td>5880801.0</td>\n",
       "      <td>B5</td>\n",
       "    </tr>\n",
       "  </tbody>\n",
       "</table>\n",
       "<p>5 rows × 55 columns</p>\n",
       "</div>"
      ],
      "text/plain": [
       "                  FIFA   Dial ISO3166-1-Alpha-3 MARC   is_independent  \\\n",
       "CLDR display name                                                       \n",
       "Taiwan             TPE    886               TWN   ch              Yes   \n",
       "Afghanistan        AFG     93               AFG   af              Yes   \n",
       "Albania            ALB    355               ALB   aa              Yes   \n",
       "Algeria            ALG    213               DZA   ae              Yes   \n",
       "American Samoa     ASA  1-684               ASM   as  Territory of US   \n",
       "\n",
       "                   ISO3166-1-numeric GAUL FIPS WMO ISO3166-1-Alpha-2  ...  \\\n",
       "CLDR display name                                                     ...   \n",
       "Taiwan                         158.0  925   TW                    TW  ...   \n",
       "Afghanistan                      4.0    1   AF  AF                AF  ...   \n",
       "Albania                          8.0    3   AL  AB                AL  ...   \n",
       "Algeria                         12.0    4   AG  AL                DZ  ...   \n",
       "American Samoa                  16.0    5   AQ                    AS  ...   \n",
       "\n",
       "                  UNTERM Arabic Short  Sub-region Name    official_name_ru  \\\n",
       "CLDR display name                                                            \n",
       "Taiwan                            NaN              NaN                 NaN   \n",
       "Afghanistan                 أفغانستان    Southern Asia          Афганистан   \n",
       "Albania                       ألبانيا  Southern Europe             Албания   \n",
       "Algeria                       الجزائر  Northern Africa               Алжир   \n",
       "American Samoa                    NaN        Polynesia  Американское Самоа   \n",
       "\n",
       "                  Global Name    Capital  Continent  TLD          Languages  \\\n",
       "CLDR display name                                                             \n",
       "Taiwan                    NaN     Taipei         AS  .tw   zh-TW,zh,nan,hak   \n",
       "Afghanistan             World      Kabul         AS  .af  fa-AF,ps,uz-AF,tk   \n",
       "Albania                 World     Tirana         EU  .al              sq,el   \n",
       "Algeria                 World    Algiers         AF  .dz              ar-DZ   \n",
       "American Samoa          World  Pago Pago         OC  .as        en-AS,sm,to   \n",
       "\n",
       "                  Geoname ID EDGAR  \n",
       "CLDR display name                   \n",
       "Taiwan             1668284.0   NaN  \n",
       "Afghanistan        1149361.0    B2  \n",
       "Albania             783754.0    B3  \n",
       "Algeria            2589581.0    B4  \n",
       "American Samoa     5880801.0    B5  \n",
       "\n",
       "[5 rows x 55 columns]"
      ]
     },
     "execution_count": 11,
     "metadata": {},
     "output_type": "execute_result"
    }
   ],
   "source": [
    "# Read data from a csv file\n",
    "countries_data = pd.read_csv('https://raw.githubusercontent.com/datasets/country-codes/master/data/country-codes.csv', index_col = 'CLDR display name')\n",
    "countries_data.head()\n",
    "\n",
    "# Dataset Referance \n",
    "#https://github.com/datasets/country-codes\n"
   ]
  },
  {
   "cell_type": "markdown",
   "metadata": {},
   "source": [
    "#### 3.3 API Query and JSON Format <a class=\"anchor\" id=\"section_3_3\"></a>"
   ]
  },
  {
   "cell_type": "code",
   "execution_count": 28,
   "metadata": {
    "collapsed": true,
    "jupyter": {
     "outputs_hidden": true,
     "source_hidden": true
    }
   },
   "outputs": [],
   "source": [
    "# Import requests library to handle API connection\n",
    "import requests\n",
    "# Import and initialize Data pretty printer library\n",
    "import pprint\n",
    "pp = pprint.PrettyPrinter(indent=4)"
   ]
  },
  {
   "cell_type": "code",
   "execution_count": 18,
   "metadata": {
    "collapsed": true,
    "jupyter": {
     "outputs_hidden": true,
     "source_hidden": true
    }
   },
   "outputs": [
    {
     "name": "stdout",
     "output_type": "stream",
     "text": [
      "200\n"
     ]
    }
   ],
   "source": [
    "# Pass the API query using requests library\n",
    "response = requests.get(\"http://api.open-notify.org/astros.json\")\n",
    "# print(response.status_code)\n",
    "\n",
    "# Convert response data into JSON format\n",
    "response_data = response.json()"
   ]
  },
  {
   "cell_type": "code",
   "execution_count": 19,
   "metadata": {
    "collapsed": true,
    "jupyter": {
     "outputs_hidden": true,
     "source_hidden": true
    }
   },
   "outputs": [
    {
     "data": {
      "text/plain": [
       "dict"
      ]
     },
     "execution_count": 19,
     "metadata": {},
     "output_type": "execute_result"
    }
   ],
   "source": [
    "type(response_data)"
   ]
  },
  {
   "cell_type": "code",
   "execution_count": 29,
   "metadata": {
    "collapsed": true,
    "jupyter": {
     "outputs_hidden": true,
     "source_hidden": true
    }
   },
   "outputs": [
    {
     "name": "stdout",
     "output_type": "stream",
     "text": [
      "{   'message': 'success',\n",
      "    'number': 7,\n",
      "    'people': [   {'craft': 'ISS', 'name': 'Sergey Ryzhikov'},\n",
      "                  {'craft': 'ISS', 'name': 'Kate Rubins'},\n",
      "                  {'craft': 'ISS', 'name': 'Sergey Kud-Sverchkov'},\n",
      "                  {'craft': 'ISS', 'name': 'Mike Hopkins'},\n",
      "                  {'craft': 'ISS', 'name': 'Victor Glover'},\n",
      "                  {'craft': 'ISS', 'name': 'Shannon Walker'},\n",
      "                  {'craft': 'ISS', 'name': 'Soichi Noguchi'}]}\n"
     ]
    }
   ],
   "source": [
    "# Examine the response data\n",
    "pp.pprint(response_data)"
   ]
  },
  {
   "cell_type": "code",
   "execution_count": 31,
   "metadata": {
    "collapsed": true,
    "jupyter": {
     "outputs_hidden": true,
     "source_hidden": true
    }
   },
   "outputs": [
    {
     "data": {
      "text/html": [
       "<div>\n",
       "<style scoped>\n",
       "    .dataframe tbody tr th:only-of-type {\n",
       "        vertical-align: middle;\n",
       "    }\n",
       "\n",
       "    .dataframe tbody tr th {\n",
       "        vertical-align: top;\n",
       "    }\n",
       "\n",
       "    .dataframe thead th {\n",
       "        text-align: right;\n",
       "    }\n",
       "</style>\n",
       "<table border=\"1\" class=\"dataframe\">\n",
       "  <thead>\n",
       "    <tr style=\"text-align: right;\">\n",
       "      <th></th>\n",
       "      <th>craft</th>\n",
       "      <th>name</th>\n",
       "    </tr>\n",
       "  </thead>\n",
       "  <tbody>\n",
       "    <tr>\n",
       "      <th>0</th>\n",
       "      <td>ISS</td>\n",
       "      <td>Sergey Ryzhikov</td>\n",
       "    </tr>\n",
       "    <tr>\n",
       "      <th>1</th>\n",
       "      <td>ISS</td>\n",
       "      <td>Kate Rubins</td>\n",
       "    </tr>\n",
       "    <tr>\n",
       "      <th>2</th>\n",
       "      <td>ISS</td>\n",
       "      <td>Sergey Kud-Sverchkov</td>\n",
       "    </tr>\n",
       "    <tr>\n",
       "      <th>3</th>\n",
       "      <td>ISS</td>\n",
       "      <td>Mike Hopkins</td>\n",
       "    </tr>\n",
       "    <tr>\n",
       "      <th>4</th>\n",
       "      <td>ISS</td>\n",
       "      <td>Victor Glover</td>\n",
       "    </tr>\n",
       "    <tr>\n",
       "      <th>5</th>\n",
       "      <td>ISS</td>\n",
       "      <td>Shannon Walker</td>\n",
       "    </tr>\n",
       "    <tr>\n",
       "      <th>6</th>\n",
       "      <td>ISS</td>\n",
       "      <td>Soichi Noguchi</td>\n",
       "    </tr>\n",
       "  </tbody>\n",
       "</table>\n",
       "</div>"
      ],
      "text/plain": [
       "  craft                  name\n",
       "0   ISS       Sergey Ryzhikov\n",
       "1   ISS           Kate Rubins\n",
       "2   ISS  Sergey Kud-Sverchkov\n",
       "3   ISS          Mike Hopkins\n",
       "4   ISS         Victor Glover\n",
       "5   ISS        Shannon Walker\n",
       "6   ISS        Soichi Noguchi"
      ]
     },
     "execution_count": 31,
     "metadata": {},
     "output_type": "execute_result"
    }
   ],
   "source": [
    "# Create a DataFrame of astronauts currently onbord the ISS\n",
    "astronauts = pd.DataFrame(response_data['people'])\n",
    "astronauts"
   ]
  },
  {
   "cell_type": "code",
   "execution_count": 17,
   "metadata": {
    "collapsed": true,
    "jupyter": {
     "outputs_hidden": true,
     "source_hidden": true
    }
   },
   "outputs": [],
   "source": [
    "# For more informatiopn about APIs, see this tutorial\n",
    "# https://www.dataquest.io/blog/python-api-tutorial/"
   ]
  },
  {
   "cell_type": "markdown",
   "metadata": {},
   "source": [
    "### Query Data From SQL Table"
   ]
  },
  {
   "cell_type": "code",
   "execution_count": null,
   "metadata": {
    "collapsed": true,
    "jupyter": {
     "outputs_hidden": true,
     "source_hidden": true
    }
   },
   "outputs": [],
   "source": []
  },
  {
   "cell_type": "code",
   "execution_count": 12,
   "metadata": {
    "collapsed": true,
    "jupyter": {
     "outputs_hidden": true,
     "source_hidden": true
    }
   },
   "outputs": [],
   "source": [
    "# Import SQLite library\n",
    "import sqlite3\n",
    "\n",
    " # Assign the database name\n",
    "db_path = r'local_db_example.db'\n",
    "\n",
    "# Create the database file\n",
    "conn = sqlite3.connect(db_path) \n",
    "\n",
    "# Establish a connection with the database file\n",
    "c = conn.cursor() "
   ]
  },
  {
   "cell_type": "code",
   "execution_count": 13,
   "metadata": {
    "collapsed": true,
    "jupyter": {
     "outputs_hidden": true,
     "source_hidden": true
    }
   },
   "outputs": [
    {
     "data": {
      "text/plain": [
       "<sqlite3.Cursor at 0x7f15881ca960>"
      ]
     },
     "execution_count": 13,
     "metadata": {},
     "output_type": "execute_result"
    }
   ],
   "source": [
    "# Create a database table\n",
    "c.execute(\"\"\"CREATE TABLE mytable\n",
    "         (id, name, position)\"\"\")"
   ]
  },
  {
   "cell_type": "code",
   "execution_count": 14,
   "metadata": {
    "collapsed": true,
    "jupyter": {
     "outputs_hidden": true,
     "source_hidden": true
    }
   },
   "outputs": [
    {
     "data": {
      "text/plain": [
       "<sqlite3.Cursor at 0x7f15881ca960>"
      ]
     },
     "execution_count": 14,
     "metadata": {},
     "output_type": "execute_result"
    }
   ],
   "source": [
    "# Add some data\n",
    "c.execute(\"\"\"INSERT INTO mytable (id, name, position)\n",
    "          values(1, 'James', 'Data Scientist')\"\"\")\n",
    "\n",
    "c.execute(\"\"\"INSERT INTO mytable (id, name, position)\n",
    "          values(2, 'Mary', 'Software Developer')\"\"\")\n",
    "\n",
    "c.execute(\"\"\"INSERT INTO mytable (id, name, position)\n",
    "          values(3, 'Max', 'Data Engineer')\"\"\")"
   ]
  },
  {
   "cell_type": "code",
   "execution_count": 15,
   "metadata": {
    "collapsed": true,
    "jupyter": {
     "outputs_hidden": true,
     "source_hidden": true
    }
   },
   "outputs": [],
   "source": [
    "# Commit changes and close the connection\n",
    "conn.commit()\n",
    "c.close()"
   ]
  },
  {
   "cell_type": "code",
   "execution_count": 16,
   "metadata": {
    "collapsed": true,
    "jupyter": {
     "outputs_hidden": true,
     "source_hidden": true
    }
   },
   "outputs": [
    {
     "name": "stdout",
     "output_type": "stream",
     "text": [
      "   id   name            position\n",
      "0   1  James      Data Scientist\n",
      "1   2   Mary  Software Developer\n",
      "2   3    Max       Data Engineer\n"
     ]
    }
   ],
   "source": [
    "# Query the data into a Pandas DataFrame object\n",
    "\n",
    "# Identify the database name\n",
    "database = \"local_db_example.db\"\n",
    "\n",
    "# Establish a connection with the database file\n",
    "conn = sqlite3.connect(database)\n",
    "\n",
    "# Use Pandas function to pass SQL query and create a DataFrame object\n",
    "people = pd.read_sql(\"select * from mytable\", con=conn)\n",
    "\n",
    "# Print the generated DataFrame\n",
    "print(people)\n",
    "\n",
    "# Close the connection\n",
    "conn.close()"
   ]
  },
  {
   "cell_type": "code",
   "execution_count": null,
   "metadata": {
    "collapsed": true,
    "jupyter": {
     "outputs_hidden": true,
     "source_hidden": true
    }
   },
   "outputs": [],
   "source": []
  },
  {
   "cell_type": "markdown",
   "metadata": {},
   "source": [
    "#### 3.4 Web Pages Data <a class=\"anchor\" id=\"section_3_4\"></a>"
   ]
  },
  {
   "cell_type": "code",
   "execution_count": null,
   "metadata": {
    "collapsed": true,
    "jupyter": {
     "outputs_hidden": true,
     "source_hidden": true
    }
   },
   "outputs": [],
   "source": []
  },
  {
   "cell_type": "code",
   "execution_count": 32,
   "metadata": {
    "collapsed": true,
    "jupyter": {
     "outputs_hidden": true,
     "source_hidden": true
    }
   },
   "outputs": [
    {
     "data": {
      "text/plain": [
       "<class 'list'>"
      ]
     },
     "execution_count": 32,
     "metadata": {},
     "output_type": "execute_result"
    }
   ],
   "source": [
    "web_data = pd.read_html('https://en.wikipedia.org/wiki/List_of_countries_by_population_(United_Nations)')\n",
    "type(web_data)"
   ]
  },
  {
   "cell_type": "code",
   "execution_count": 23,
   "metadata": {
    "collapsed": true,
    "jupyter": {
     "outputs_hidden": true,
     "source_hidden": true
    }
   },
   "outputs": [
    {
     "data": {
      "text/plain": [
       "list"
      ]
     },
     "execution_count": 23,
     "metadata": {},
     "output_type": "execute_result"
    }
   ],
   "source": [
    "type(web_data)"
   ]
  },
  {
   "cell_type": "code",
   "execution_count": 24,
   "metadata": {
    "collapsed": true,
    "jupyter": {
     "outputs_hidden": true,
     "source_hidden": true
    }
   },
   "outputs": [
    {
     "data": {
      "text/plain": [
       "5"
      ]
     },
     "execution_count": 24,
     "metadata": {},
     "output_type": "execute_result"
    }
   ],
   "source": [
    "len(web_data)"
   ]
  },
  {
   "cell_type": "code",
   "execution_count": 33,
   "metadata": {
    "collapsed": true,
    "jupyter": {
     "outputs_hidden": true,
     "source_hidden": true
    }
   },
   "outputs": [],
   "source": [
    "web_countries_table = web_data[3]"
   ]
  },
  {
   "cell_type": "code",
   "execution_count": 35,
   "metadata": {
    "collapsed": true,
    "jupyter": {
     "outputs_hidden": true,
     "source_hidden": true
    }
   },
   "outputs": [
    {
     "data": {
      "text/html": [
       "<div>\n",
       "<style scoped>\n",
       "    .dataframe tbody tr th:only-of-type {\n",
       "        vertical-align: middle;\n",
       "    }\n",
       "\n",
       "    .dataframe tbody tr th {\n",
       "        vertical-align: top;\n",
       "    }\n",
       "\n",
       "    .dataframe thead th {\n",
       "        text-align: right;\n",
       "    }\n",
       "</style>\n",
       "<table border=\"1\" class=\"dataframe\">\n",
       "  <thead>\n",
       "    <tr style=\"text-align: right;\">\n",
       "      <th></th>\n",
       "      <th>Country/Territory</th>\n",
       "      <th>UN continentalregion[4]</th>\n",
       "      <th>UN statisticalsubregion[4]</th>\n",
       "      <th>Population(1 July 2018)</th>\n",
       "      <th>Population(1 July 2019)</th>\n",
       "      <th>Change</th>\n",
       "    </tr>\n",
       "  </thead>\n",
       "  <tbody>\n",
       "    <tr>\n",
       "      <th>0</th>\n",
       "      <td>China[a]</td>\n",
       "      <td>Asia</td>\n",
       "      <td>Eastern Asia</td>\n",
       "      <td>1427647786</td>\n",
       "      <td>1433783686</td>\n",
       "      <td>+0.43%</td>\n",
       "    </tr>\n",
       "    <tr>\n",
       "      <th>1</th>\n",
       "      <td>India</td>\n",
       "      <td>Asia</td>\n",
       "      <td>Southern Asia</td>\n",
       "      <td>1352642280</td>\n",
       "      <td>1366417754</td>\n",
       "      <td>+1.02%</td>\n",
       "    </tr>\n",
       "    <tr>\n",
       "      <th>2</th>\n",
       "      <td>United States</td>\n",
       "      <td>Americas</td>\n",
       "      <td>Northern America</td>\n",
       "      <td>327096265</td>\n",
       "      <td>329064917</td>\n",
       "      <td>+0.60%</td>\n",
       "    </tr>\n",
       "    <tr>\n",
       "      <th>3</th>\n",
       "      <td>Indonesia</td>\n",
       "      <td>Asia</td>\n",
       "      <td>South-eastern Asia</td>\n",
       "      <td>267670543</td>\n",
       "      <td>270625568</td>\n",
       "      <td>+1.10%</td>\n",
       "    </tr>\n",
       "    <tr>\n",
       "      <th>4</th>\n",
       "      <td>Pakistan</td>\n",
       "      <td>Asia</td>\n",
       "      <td>Southern Asia</td>\n",
       "      <td>212228286</td>\n",
       "      <td>216565318</td>\n",
       "      <td>+2.04%</td>\n",
       "    </tr>\n",
       "  </tbody>\n",
       "</table>\n",
       "</div>"
      ],
      "text/plain": [
       "  Country/Territory UN continentalregion[4] UN statisticalsubregion[4]  \\\n",
       "0          China[a]                    Asia               Eastern Asia   \n",
       "1             India                    Asia              Southern Asia   \n",
       "2     United States                Americas           Northern America   \n",
       "3         Indonesia                    Asia         South-eastern Asia   \n",
       "4          Pakistan                    Asia              Southern Asia   \n",
       "\n",
       "   Population(1 July 2018)  Population(1 July 2019)  Change  \n",
       "0               1427647786               1433783686  +0.43%  \n",
       "1               1352642280               1366417754  +1.02%  \n",
       "2                327096265                329064917  +0.60%  \n",
       "3                267670543                270625568  +1.10%  \n",
       "4                212228286                216565318  +2.04%  "
      ]
     },
     "execution_count": 35,
     "metadata": {},
     "output_type": "execute_result"
    }
   ],
   "source": [
    "web_countries_table.head()"
   ]
  },
  {
   "cell_type": "code",
   "execution_count": 36,
   "metadata": {
    "collapsed": true,
    "jupyter": {
     "outputs_hidden": true,
     "source_hidden": true
    }
   },
   "outputs": [
    {
     "name": "stdout",
     "output_type": "stream",
     "text": [
      "                     Country/Territory UN continentalregion[4]  \\\n",
      "0                             China[a]                    Asia   \n",
      "1                                India                    Asia   \n",
      "2                        United States                Americas   \n",
      "3                            Indonesia                    Asia   \n",
      "4                             Pakistan                    Asia   \n",
      "..                                 ...                     ...   \n",
      "229  Falkland Islands (United Kingdom)                Americas   \n",
      "230                 Niue (New Zealand)                 Oceania   \n",
      "231              Tokelau (New Zealand)                 Oceania   \n",
      "232                    Vatican City[z]                  Europe   \n",
      "233                              World                     NaN   \n",
      "\n",
      "    UN statisticalsubregion[4]  Population(1 July 2018)  \\\n",
      "0                 Eastern Asia               1427647786   \n",
      "1                Southern Asia               1352642280   \n",
      "2             Northern America                327096265   \n",
      "3           South-eastern Asia                267670543   \n",
      "4                Southern Asia                212228286   \n",
      "..                         ...                      ...   \n",
      "229              South America                     3234   \n",
      "230                  Polynesia                     1620   \n",
      "231                  Polynesia                     1319   \n",
      "232            Southern Europe                      801   \n",
      "233                        NaN               7631091040   \n",
      "\n",
      "     Population(1 July 2019)  Change  \n",
      "0                 1433783686  +0.43%  \n",
      "1                 1366417754  +1.02%  \n",
      "2                  329064917  +0.60%  \n",
      "3                  270625568  +1.10%  \n",
      "4                  216565318  +2.04%  \n",
      "..                       ...     ...  \n",
      "229                     3377  +4.42%  \n",
      "230                     1615  −0.31%  \n",
      "231                     1340  +1.59%  \n",
      "232                      799  −0.25%  \n",
      "233               7713468100  +1.08%  \n",
      "\n",
      "[234 rows x 6 columns]\n"
     ]
    }
   ],
   "source": [
    "print (web_countries_table)"
   ]
  },
  {
   "cell_type": "markdown",
   "metadata": {},
   "source": [
    "### 4. Describe Information in Dataframes <a class=\"anchor\" id=\"section_4\"></a>"
   ]
  },
  {
   "cell_type": "code",
   "execution_count": 27,
   "metadata": {
    "collapsed": true,
    "jupyter": {
     "outputs_hidden": true,
     "source_hidden": true
    }
   },
   "outputs": [
    {
     "data": {
      "text/plain": [
       "1404"
      ]
     },
     "execution_count": 27,
     "metadata": {},
     "output_type": "execute_result"
    }
   ],
   "source": [
    "web_countries_list.size"
   ]
  },
  {
   "cell_type": "code",
   "execution_count": 28,
   "metadata": {
    "collapsed": true,
    "jupyter": {
     "outputs_hidden": true,
     "source_hidden": true
    }
   },
   "outputs": [
    {
     "name": "stdout",
     "output_type": "stream",
     "text": [
      "<class 'pandas.core.frame.DataFrame'>\n",
      "Index: 250 entries, Taiwan to Åland Islands\n",
      "Data columns (total 55 columns):\n",
      " #   Column                                   Non-Null Count  Dtype  \n",
      "---  ------                                   --------------  -----  \n",
      " 0   FIFA                                     239 non-null    object \n",
      " 1   Dial                                     249 non-null    object \n",
      " 2   ISO3166-1-Alpha-3                        249 non-null    object \n",
      " 3   MARC                                     249 non-null    object \n",
      " 4   is_independent                           249 non-null    object \n",
      " 5   ISO3166-1-numeric                        249 non-null    float64\n",
      " 6   GAUL                                     243 non-null    object \n",
      " 7   FIPS                                     249 non-null    object \n",
      " 8   WMO                                      246 non-null    object \n",
      " 9   ISO3166-1-Alpha-2                        248 non-null    object \n",
      " 10  ITU                                      247 non-null    object \n",
      " 11  IOC                                      246 non-null    object \n",
      " 12  DS                                       245 non-null    object \n",
      " 13  UNTERM Spanish Formal                    196 non-null    object \n",
      " 14  Global Code                              249 non-null    object \n",
      " 15  Intermediate Region Code                 108 non-null    float64\n",
      " 16  official_name_fr                         249 non-null    object \n",
      " 17  UNTERM French Short                      196 non-null    object \n",
      " 18  ISO4217-currency_name                    247 non-null    object \n",
      " 19  Developed / Developing Countries         248 non-null    object \n",
      " 20  UNTERM Russian Formal                    196 non-null    object \n",
      " 21  UNTERM English Short                     196 non-null    object \n",
      " 22  ISO4217-currency_alphabetic_code         244 non-null    object \n",
      " 23  Small Island Developing States (SIDS)    53 non-null     object \n",
      " 24  UNTERM Spanish Short                     196 non-null    object \n",
      " 25  ISO4217-currency_numeric_code            244 non-null    object \n",
      " 26  UNTERM Chinese Formal                    196 non-null    object \n",
      " 27  UNTERM French Formal                     196 non-null    object \n",
      " 28  UNTERM Russian Short                     196 non-null    object \n",
      " 29  M49                                      249 non-null    float64\n",
      " 30  Sub-region Code                          248 non-null    float64\n",
      " 31  Region Code                              248 non-null    float64\n",
      " 32  official_name_ar                         249 non-null    object \n",
      " 33  ISO4217-currency_minor_unit              244 non-null    object \n",
      " 34  UNTERM Arabic Formal                     196 non-null    object \n",
      " 35  UNTERM Chinese Short                     196 non-null    object \n",
      " 36  Land Locked Developing Countries (LLDC)  32 non-null     object \n",
      " 37  Intermediate Region Name                 108 non-null    object \n",
      " 38  official_name_es                         249 non-null    object \n",
      " 39  UNTERM English Formal                    196 non-null    object \n",
      " 40  official_name_cn                         249 non-null    object \n",
      " 41  official_name_en                         249 non-null    object \n",
      " 42  ISO4217-currency_country_name            247 non-null    object \n",
      " 43  Least Developed Countries (LDC)          47 non-null     object \n",
      " 44  Region Name                              248 non-null    object \n",
      " 45  UNTERM Arabic Short                      196 non-null    object \n",
      " 46  Sub-region Name                          248 non-null    object \n",
      " 47  official_name_ru                         249 non-null    object \n",
      " 48  Global Name                              249 non-null    object \n",
      " 49  Capital                                  243 non-null    object \n",
      " 50  Continent                                208 non-null    object \n",
      " 51  TLD                                      248 non-null    object \n",
      " 52  Languages                                246 non-null    object \n",
      " 53  Geoname ID                               249 non-null    float64\n",
      " 54  EDGAR                                    214 non-null    object \n",
      "dtypes: float64(6), object(49)\n",
      "memory usage: 109.4+ KB\n"
     ]
    }
   ],
   "source": [
    "countries_data.info()"
   ]
  },
  {
   "cell_type": "code",
   "execution_count": null,
   "metadata": {
    "collapsed": true,
    "jupyter": {
     "outputs_hidden": true,
     "source_hidden": true
    }
   },
   "outputs": [],
   "source": []
  },
  {
   "cell_type": "code",
   "execution_count": 29,
   "metadata": {
    "collapsed": true,
    "jupyter": {
     "outputs_hidden": true,
     "source_hidden": true
    }
   },
   "outputs": [],
   "source": [
    "population_data = pd.read_csv('https://raw.githubusercontent.com/datasets/population/master/data/population.csv')"
   ]
  },
  {
   "cell_type": "code",
   "execution_count": 30,
   "metadata": {
    "collapsed": true,
    "jupyter": {
     "outputs_hidden": true,
     "source_hidden": true
    }
   },
   "outputs": [
    {
     "data": {
      "text/plain": [
       "(15409, 4)"
      ]
     },
     "execution_count": 30,
     "metadata": {},
     "output_type": "execute_result"
    }
   ],
   "source": [
    "population_data.shape"
   ]
  },
  {
   "cell_type": "code",
   "execution_count": 31,
   "metadata": {
    "collapsed": true,
    "jupyter": {
     "outputs_hidden": true,
     "source_hidden": true
    }
   },
   "outputs": [
    {
     "data": {
      "text/plain": [
       "61636"
      ]
     },
     "execution_count": 31,
     "metadata": {},
     "output_type": "execute_result"
    }
   ],
   "source": [
    "population_data.size"
   ]
  },
  {
   "cell_type": "code",
   "execution_count": 32,
   "metadata": {
    "collapsed": true,
    "jupyter": {
     "outputs_hidden": true,
     "source_hidden": true
    }
   },
   "outputs": [
    {
     "name": "stdout",
     "output_type": "stream",
     "text": [
      "<class 'pandas.core.frame.DataFrame'>\n",
      "RangeIndex: 15409 entries, 0 to 15408\n",
      "Data columns (total 4 columns):\n",
      " #   Column        Non-Null Count  Dtype \n",
      "---  ------        --------------  ----- \n",
      " 0   Country Name  15409 non-null  object\n",
      " 1   Country Code  15409 non-null  object\n",
      " 2   Year          15409 non-null  int64 \n",
      " 3   Value         15409 non-null  int64 \n",
      "dtypes: int64(2), object(2)\n",
      "memory usage: 481.7+ KB\n"
     ]
    }
   ],
   "source": [
    "population_data.info()"
   ]
  },
  {
   "cell_type": "code",
   "execution_count": 2,
   "metadata": {
    "collapsed": true,
    "jupyter": {
     "outputs_hidden": true,
     "source_hidden": true
    }
   },
   "outputs": [],
   "source": [
    "alcohol_data = pd.read_csv('https://raw.githubusercontent.com/fivethirtyeight/data/master/alcohol-consumption/drinks.csv')"
   ]
  },
  {
   "cell_type": "code",
   "execution_count": 34,
   "metadata": {
    "collapsed": true,
    "jupyter": {
     "outputs_hidden": true,
     "source_hidden": true
    }
   },
   "outputs": [
    {
     "data": {
      "text/plain": [
       "(193, 5)"
      ]
     },
     "execution_count": 34,
     "metadata": {},
     "output_type": "execute_result"
    }
   ],
   "source": [
    "alcohol_data.shape"
   ]
  },
  {
   "cell_type": "code",
   "execution_count": 35,
   "metadata": {
    "collapsed": true,
    "jupyter": {
     "outputs_hidden": true,
     "source_hidden": true
    }
   },
   "outputs": [
    {
     "data": {
      "text/plain": [
       "965"
      ]
     },
     "execution_count": 35,
     "metadata": {},
     "output_type": "execute_result"
    }
   ],
   "source": [
    "alcohol_data.size"
   ]
  },
  {
   "cell_type": "code",
   "execution_count": 37,
   "metadata": {
    "collapsed": true,
    "jupyter": {
     "outputs_hidden": true,
     "source_hidden": true
    }
   },
   "outputs": [
    {
     "data": {
      "text/plain": [
       "193"
      ]
     },
     "execution_count": 37,
     "metadata": {},
     "output_type": "execute_result"
    }
   ],
   "source": [
    "alcohol_data['country'].size"
   ]
  },
  {
   "cell_type": "code",
   "execution_count": 40,
   "metadata": {
    "collapsed": true,
    "jupyter": {
     "outputs_hidden": true,
     "source_hidden": true
    }
   },
   "outputs": [
    {
     "data": {
      "text/plain": [
       "193"
      ]
     },
     "execution_count": 40,
     "metadata": {},
     "output_type": "execute_result"
    }
   ],
   "source": [
    "len(alcohol_data['country'])"
   ]
  },
  {
   "cell_type": "code",
   "execution_count": 3,
   "metadata": {
    "collapsed": true,
    "jupyter": {
     "outputs_hidden": true,
     "source_hidden": true
    }
   },
   "outputs": [
    {
     "name": "stdout",
     "output_type": "stream",
     "text": [
      "<class 'pandas.core.frame.DataFrame'>\n",
      "RangeIndex: 193 entries, 0 to 192\n",
      "Data columns (total 5 columns):\n",
      " #   Column                        Non-Null Count  Dtype  \n",
      "---  ------                        --------------  -----  \n",
      " 0   country                       193 non-null    object \n",
      " 1   beer_servings                 193 non-null    int64  \n",
      " 2   spirit_servings               193 non-null    int64  \n",
      " 3   wine_servings                 193 non-null    int64  \n",
      " 4   total_litres_of_pure_alcohol  193 non-null    float64\n",
      "dtypes: float64(1), int64(3), object(1)\n",
      "memory usage: 7.7+ KB\n"
     ]
    }
   ],
   "source": [
    "alcohol_data.info()"
   ]
  },
  {
   "cell_type": "code",
   "execution_count": 4,
   "metadata": {
    "collapsed": true,
    "jupyter": {
     "outputs_hidden": true,
     "source_hidden": true
    }
   },
   "outputs": [
    {
     "data": {
      "text/html": [
       "<div>\n",
       "<style scoped>\n",
       "    .dataframe tbody tr th:only-of-type {\n",
       "        vertical-align: middle;\n",
       "    }\n",
       "\n",
       "    .dataframe tbody tr th {\n",
       "        vertical-align: top;\n",
       "    }\n",
       "\n",
       "    .dataframe thead th {\n",
       "        text-align: right;\n",
       "    }\n",
       "</style>\n",
       "<table border=\"1\" class=\"dataframe\">\n",
       "  <thead>\n",
       "    <tr style=\"text-align: right;\">\n",
       "      <th></th>\n",
       "      <th>beer_servings</th>\n",
       "      <th>spirit_servings</th>\n",
       "      <th>wine_servings</th>\n",
       "      <th>total_litres_of_pure_alcohol</th>\n",
       "    </tr>\n",
       "  </thead>\n",
       "  <tbody>\n",
       "    <tr>\n",
       "      <th>count</th>\n",
       "      <td>193.000000</td>\n",
       "      <td>193.000000</td>\n",
       "      <td>193.000000</td>\n",
       "      <td>193.000000</td>\n",
       "    </tr>\n",
       "    <tr>\n",
       "      <th>mean</th>\n",
       "      <td>106.160622</td>\n",
       "      <td>80.994819</td>\n",
       "      <td>49.450777</td>\n",
       "      <td>4.717098</td>\n",
       "    </tr>\n",
       "    <tr>\n",
       "      <th>std</th>\n",
       "      <td>101.143103</td>\n",
       "      <td>88.284312</td>\n",
       "      <td>79.697598</td>\n",
       "      <td>3.773298</td>\n",
       "    </tr>\n",
       "    <tr>\n",
       "      <th>min</th>\n",
       "      <td>0.000000</td>\n",
       "      <td>0.000000</td>\n",
       "      <td>0.000000</td>\n",
       "      <td>0.000000</td>\n",
       "    </tr>\n",
       "    <tr>\n",
       "      <th>25%</th>\n",
       "      <td>20.000000</td>\n",
       "      <td>4.000000</td>\n",
       "      <td>1.000000</td>\n",
       "      <td>1.300000</td>\n",
       "    </tr>\n",
       "    <tr>\n",
       "      <th>50%</th>\n",
       "      <td>76.000000</td>\n",
       "      <td>56.000000</td>\n",
       "      <td>8.000000</td>\n",
       "      <td>4.200000</td>\n",
       "    </tr>\n",
       "    <tr>\n",
       "      <th>75%</th>\n",
       "      <td>188.000000</td>\n",
       "      <td>128.000000</td>\n",
       "      <td>59.000000</td>\n",
       "      <td>7.200000</td>\n",
       "    </tr>\n",
       "    <tr>\n",
       "      <th>max</th>\n",
       "      <td>376.000000</td>\n",
       "      <td>438.000000</td>\n",
       "      <td>370.000000</td>\n",
       "      <td>14.400000</td>\n",
       "    </tr>\n",
       "  </tbody>\n",
       "</table>\n",
       "</div>"
      ],
      "text/plain": [
       "       beer_servings  spirit_servings  wine_servings  \\\n",
       "count     193.000000       193.000000     193.000000   \n",
       "mean      106.160622        80.994819      49.450777   \n",
       "std       101.143103        88.284312      79.697598   \n",
       "min         0.000000         0.000000       0.000000   \n",
       "25%        20.000000         4.000000       1.000000   \n",
       "50%        76.000000        56.000000       8.000000   \n",
       "75%       188.000000       128.000000      59.000000   \n",
       "max       376.000000       438.000000     370.000000   \n",
       "\n",
       "       total_litres_of_pure_alcohol  \n",
       "count                    193.000000  \n",
       "mean                       4.717098  \n",
       "std                        3.773298  \n",
       "min                        0.000000  \n",
       "25%                        1.300000  \n",
       "50%                        4.200000  \n",
       "75%                        7.200000  \n",
       "max                       14.400000  "
      ]
     },
     "execution_count": 4,
     "metadata": {},
     "output_type": "execute_result"
    }
   ],
   "source": [
    "alcohol_data.describe()"
   ]
  },
  {
   "cell_type": "code",
   "execution_count": 6,
   "metadata": {
    "collapsed": true,
    "jupyter": {
     "outputs_hidden": true,
     "source_hidden": true
    }
   },
   "outputs": [
    {
     "data": {
      "text/html": [
       "<div>\n",
       "<style scoped>\n",
       "    .dataframe tbody tr th:only-of-type {\n",
       "        vertical-align: middle;\n",
       "    }\n",
       "\n",
       "    .dataframe tbody tr th {\n",
       "        vertical-align: top;\n",
       "    }\n",
       "\n",
       "    .dataframe thead th {\n",
       "        text-align: right;\n",
       "    }\n",
       "</style>\n",
       "<table border=\"1\" class=\"dataframe\">\n",
       "  <thead>\n",
       "    <tr style=\"text-align: right;\">\n",
       "      <th></th>\n",
       "      <th>FIFA</th>\n",
       "      <th>Dial</th>\n",
       "      <th>ISO3166-1-Alpha-3</th>\n",
       "      <th>MARC</th>\n",
       "      <th>is_independent</th>\n",
       "      <th>ISO3166-1-numeric</th>\n",
       "      <th>GAUL</th>\n",
       "      <th>FIPS</th>\n",
       "      <th>WMO</th>\n",
       "      <th>ISO3166-1-Alpha-2</th>\n",
       "      <th>...</th>\n",
       "      <th>Sub-region Name</th>\n",
       "      <th>official_name_ru</th>\n",
       "      <th>Global Name</th>\n",
       "      <th>Capital</th>\n",
       "      <th>Continent</th>\n",
       "      <th>TLD</th>\n",
       "      <th>Languages</th>\n",
       "      <th>Geoname ID</th>\n",
       "      <th>CLDR display name</th>\n",
       "      <th>EDGAR</th>\n",
       "    </tr>\n",
       "  </thead>\n",
       "  <tbody>\n",
       "    <tr>\n",
       "      <th>0</th>\n",
       "      <td>TPE</td>\n",
       "      <td>886</td>\n",
       "      <td>TWN</td>\n",
       "      <td>ch</td>\n",
       "      <td>Yes</td>\n",
       "      <td>158.0</td>\n",
       "      <td>925</td>\n",
       "      <td>TW</td>\n",
       "      <td></td>\n",
       "      <td>TW</td>\n",
       "      <td>...</td>\n",
       "      <td>NaN</td>\n",
       "      <td>NaN</td>\n",
       "      <td>NaN</td>\n",
       "      <td>Taipei</td>\n",
       "      <td>AS</td>\n",
       "      <td>.tw</td>\n",
       "      <td>zh-TW,zh,nan,hak</td>\n",
       "      <td>1668284.0</td>\n",
       "      <td>Taiwan</td>\n",
       "      <td>NaN</td>\n",
       "    </tr>\n",
       "    <tr>\n",
       "      <th>1</th>\n",
       "      <td>AFG</td>\n",
       "      <td>93</td>\n",
       "      <td>AFG</td>\n",
       "      <td>af</td>\n",
       "      <td>Yes</td>\n",
       "      <td>4.0</td>\n",
       "      <td>1</td>\n",
       "      <td>AF</td>\n",
       "      <td>AF</td>\n",
       "      <td>AF</td>\n",
       "      <td>...</td>\n",
       "      <td>Southern Asia</td>\n",
       "      <td>Афганистан</td>\n",
       "      <td>World</td>\n",
       "      <td>Kabul</td>\n",
       "      <td>AS</td>\n",
       "      <td>.af</td>\n",
       "      <td>fa-AF,ps,uz-AF,tk</td>\n",
       "      <td>1149361.0</td>\n",
       "      <td>Afghanistan</td>\n",
       "      <td>B2</td>\n",
       "    </tr>\n",
       "    <tr>\n",
       "      <th>2</th>\n",
       "      <td>ALB</td>\n",
       "      <td>355</td>\n",
       "      <td>ALB</td>\n",
       "      <td>aa</td>\n",
       "      <td>Yes</td>\n",
       "      <td>8.0</td>\n",
       "      <td>3</td>\n",
       "      <td>AL</td>\n",
       "      <td>AB</td>\n",
       "      <td>AL</td>\n",
       "      <td>...</td>\n",
       "      <td>Southern Europe</td>\n",
       "      <td>Албания</td>\n",
       "      <td>World</td>\n",
       "      <td>Tirana</td>\n",
       "      <td>EU</td>\n",
       "      <td>.al</td>\n",
       "      <td>sq,el</td>\n",
       "      <td>783754.0</td>\n",
       "      <td>Albania</td>\n",
       "      <td>B3</td>\n",
       "    </tr>\n",
       "    <tr>\n",
       "      <th>3</th>\n",
       "      <td>ALG</td>\n",
       "      <td>213</td>\n",
       "      <td>DZA</td>\n",
       "      <td>ae</td>\n",
       "      <td>Yes</td>\n",
       "      <td>12.0</td>\n",
       "      <td>4</td>\n",
       "      <td>AG</td>\n",
       "      <td>AL</td>\n",
       "      <td>DZ</td>\n",
       "      <td>...</td>\n",
       "      <td>Northern Africa</td>\n",
       "      <td>Алжир</td>\n",
       "      <td>World</td>\n",
       "      <td>Algiers</td>\n",
       "      <td>AF</td>\n",
       "      <td>.dz</td>\n",
       "      <td>ar-DZ</td>\n",
       "      <td>2589581.0</td>\n",
       "      <td>Algeria</td>\n",
       "      <td>B4</td>\n",
       "    </tr>\n",
       "    <tr>\n",
       "      <th>4</th>\n",
       "      <td>ASA</td>\n",
       "      <td>1-684</td>\n",
       "      <td>ASM</td>\n",
       "      <td>as</td>\n",
       "      <td>Territory of US</td>\n",
       "      <td>16.0</td>\n",
       "      <td>5</td>\n",
       "      <td>AQ</td>\n",
       "      <td></td>\n",
       "      <td>AS</td>\n",
       "      <td>...</td>\n",
       "      <td>Polynesia</td>\n",
       "      <td>Американское Самоа</td>\n",
       "      <td>World</td>\n",
       "      <td>Pago Pago</td>\n",
       "      <td>OC</td>\n",
       "      <td>.as</td>\n",
       "      <td>en-AS,sm,to</td>\n",
       "      <td>5880801.0</td>\n",
       "      <td>American Samoa</td>\n",
       "      <td>B5</td>\n",
       "    </tr>\n",
       "  </tbody>\n",
       "</table>\n",
       "<p>5 rows × 56 columns</p>\n",
       "</div>"
      ],
      "text/plain": [
       "  FIFA   Dial ISO3166-1-Alpha-3 MARC   is_independent  ISO3166-1-numeric GAUL  \\\n",
       "0  TPE    886               TWN   ch              Yes              158.0  925   \n",
       "1  AFG     93               AFG   af              Yes                4.0    1   \n",
       "2  ALB    355               ALB   aa              Yes                8.0    3   \n",
       "3  ALG    213               DZA   ae              Yes               12.0    4   \n",
       "4  ASA  1-684               ASM   as  Territory of US               16.0    5   \n",
       "\n",
       "  FIPS WMO ISO3166-1-Alpha-2  ...  Sub-region Name    official_name_ru  \\\n",
       "0   TW                    TW  ...              NaN                 NaN   \n",
       "1   AF  AF                AF  ...    Southern Asia          Афганистан   \n",
       "2   AL  AB                AL  ...  Southern Europe             Албания   \n",
       "3   AG  AL                DZ  ...  Northern Africa               Алжир   \n",
       "4   AQ                    AS  ...        Polynesia  Американское Самоа   \n",
       "\n",
       "  Global Name    Capital Continent  TLD          Languages Geoname ID  \\\n",
       "0         NaN     Taipei        AS  .tw   zh-TW,zh,nan,hak  1668284.0   \n",
       "1       World      Kabul        AS  .af  fa-AF,ps,uz-AF,tk  1149361.0   \n",
       "2       World     Tirana        EU  .al              sq,el   783754.0   \n",
       "3       World    Algiers        AF  .dz              ar-DZ  2589581.0   \n",
       "4       World  Pago Pago        OC  .as        en-AS,sm,to  5880801.0   \n",
       "\n",
       "  CLDR display name EDGAR  \n",
       "0            Taiwan   NaN  \n",
       "1       Afghanistan    B2  \n",
       "2           Albania    B3  \n",
       "3           Algeria    B4  \n",
       "4    American Samoa    B5  \n",
       "\n",
       "[5 rows x 56 columns]"
      ]
     },
     "execution_count": 6,
     "metadata": {},
     "output_type": "execute_result"
    }
   ],
   "source": [
    "countries_data = pd.read_csv('https://raw.githubusercontent.com/datasets/country-codes/master/data/country-codes.csv')\n",
    "countries_data.head()"
   ]
  },
  {
   "cell_type": "code",
   "execution_count": 7,
   "metadata": {
    "collapsed": true,
    "jupyter": {
     "outputs_hidden": true,
     "source_hidden": true
    }
   },
   "outputs": [
    {
     "name": "stdout",
     "output_type": "stream",
     "text": [
      "<class 'pandas.core.frame.DataFrame'>\n",
      "RangeIndex: 250 entries, 0 to 249\n",
      "Data columns (total 56 columns):\n",
      " #   Column                                   Non-Null Count  Dtype  \n",
      "---  ------                                   --------------  -----  \n",
      " 0   FIFA                                     239 non-null    object \n",
      " 1   Dial                                     249 non-null    object \n",
      " 2   ISO3166-1-Alpha-3                        249 non-null    object \n",
      " 3   MARC                                     249 non-null    object \n",
      " 4   is_independent                           249 non-null    object \n",
      " 5   ISO3166-1-numeric                        249 non-null    float64\n",
      " 6   GAUL                                     243 non-null    object \n",
      " 7   FIPS                                     249 non-null    object \n",
      " 8   WMO                                      246 non-null    object \n",
      " 9   ISO3166-1-Alpha-2                        248 non-null    object \n",
      " 10  ITU                                      247 non-null    object \n",
      " 11  IOC                                      246 non-null    object \n",
      " 12  DS                                       245 non-null    object \n",
      " 13  UNTERM Spanish Formal                    196 non-null    object \n",
      " 14  Global Code                              249 non-null    object \n",
      " 15  Intermediate Region Code                 108 non-null    float64\n",
      " 16  official_name_fr                         249 non-null    object \n",
      " 17  UNTERM French Short                      196 non-null    object \n",
      " 18  ISO4217-currency_name                    247 non-null    object \n",
      " 19  Developed / Developing Countries         248 non-null    object \n",
      " 20  UNTERM Russian Formal                    196 non-null    object \n",
      " 21  UNTERM English Short                     196 non-null    object \n",
      " 22  ISO4217-currency_alphabetic_code         244 non-null    object \n",
      " 23  Small Island Developing States (SIDS)    53 non-null     object \n",
      " 24  UNTERM Spanish Short                     196 non-null    object \n",
      " 25  ISO4217-currency_numeric_code            244 non-null    object \n",
      " 26  UNTERM Chinese Formal                    196 non-null    object \n",
      " 27  UNTERM French Formal                     196 non-null    object \n",
      " 28  UNTERM Russian Short                     196 non-null    object \n",
      " 29  M49                                      249 non-null    float64\n",
      " 30  Sub-region Code                          248 non-null    float64\n",
      " 31  Region Code                              248 non-null    float64\n",
      " 32  official_name_ar                         249 non-null    object \n",
      " 33  ISO4217-currency_minor_unit              244 non-null    object \n",
      " 34  UNTERM Arabic Formal                     196 non-null    object \n",
      " 35  UNTERM Chinese Short                     196 non-null    object \n",
      " 36  Land Locked Developing Countries (LLDC)  32 non-null     object \n",
      " 37  Intermediate Region Name                 108 non-null    object \n",
      " 38  official_name_es                         249 non-null    object \n",
      " 39  UNTERM English Formal                    196 non-null    object \n",
      " 40  official_name_cn                         249 non-null    object \n",
      " 41  official_name_en                         249 non-null    object \n",
      " 42  ISO4217-currency_country_name            247 non-null    object \n",
      " 43  Least Developed Countries (LDC)          47 non-null     object \n",
      " 44  Region Name                              248 non-null    object \n",
      " 45  UNTERM Arabic Short                      196 non-null    object \n",
      " 46  Sub-region Name                          248 non-null    object \n",
      " 47  official_name_ru                         249 non-null    object \n",
      " 48  Global Name                              249 non-null    object \n",
      " 49  Capital                                  243 non-null    object \n",
      " 50  Continent                                208 non-null    object \n",
      " 51  TLD                                      248 non-null    object \n",
      " 52  Languages                                246 non-null    object \n",
      " 53  Geoname ID                               249 non-null    float64\n",
      " 54  CLDR display name                        249 non-null    object \n",
      " 55  EDGAR                                    214 non-null    object \n",
      "dtypes: float64(6), object(50)\n",
      "memory usage: 109.5+ KB\n"
     ]
    }
   ],
   "source": [
    "countries_data.info()"
   ]
  },
  {
   "cell_type": "code",
   "execution_count": 8,
   "metadata": {
    "collapsed": true,
    "jupyter": {
     "outputs_hidden": true,
     "source_hidden": true
    }
   },
   "outputs": [
    {
     "data": {
      "text/plain": [
       "Africa      60\n",
       "Americas    57\n",
       "Europe      52\n",
       "Asia        50\n",
       "Oceania     29\n",
       "Name: Region Name, dtype: int64"
      ]
     },
     "execution_count": 8,
     "metadata": {},
     "output_type": "execute_result"
    }
   ],
   "source": [
    "countries_data['Region Name'].value_counts()"
   ]
  },
  {
   "cell_type": "code",
   "execution_count": 9,
   "metadata": {
    "collapsed": true,
    "jupyter": {
     "outputs_hidden": true,
     "source_hidden": true
    }
   },
   "outputs": [
    {
     "data": {
      "text/plain": [
       "array([nan, 'Asia', 'Europe', 'Africa', 'Oceania', 'Americas'],\n",
       "      dtype=object)"
      ]
     },
     "execution_count": 9,
     "metadata": {},
     "output_type": "execute_result"
    }
   ],
   "source": [
    "countries_data['Region Name'].unique()"
   ]
  },
  {
   "cell_type": "code",
   "execution_count": 42,
   "metadata": {
    "collapsed": true,
    "jupyter": {
     "outputs_hidden": true,
     "source_hidden": true
    }
   },
   "outputs": [
    {
     "data": {
      "text/plain": [
       "2"
      ]
     },
     "execution_count": 42,
     "metadata": {},
     "output_type": "execute_result"
    }
   ],
   "source": [
    "countries_data['Region Name'].isnull().sum()"
   ]
  },
  {
   "cell_type": "markdown",
   "metadata": {},
   "source": [
    "## Cleaning Data"
   ]
  },
  {
   "cell_type": "code",
   "execution_count": 26,
   "metadata": {
    "collapsed": true,
    "jupyter": {
     "outputs_hidden": true,
     "source_hidden": true
    },
    "tags": []
   },
   "outputs": [],
   "source": [
    "import pandas as pd"
   ]
  },
  {
   "cell_type": "code",
   "execution_count": 27,
   "metadata": {
    "collapsed": true,
    "jupyter": {
     "outputs_hidden": true,
     "source_hidden": true
    },
    "tags": []
   },
   "outputs": [],
   "source": [
    "list_of_countries = [\n",
    "{'Country Name':'China','ISO Code':'CN','Country Population':1433783686,'Country Area km2 (mi2)':'9,596,961 (3,705,407)','Independence Day':'1 October 1949'},\n",
    "{'Country Name':'New Zealand','ISO Code':'NZ','Country Population':4783063,'Country Area km2 (mi2)':'270,467 (104,428)','Independence Day':'26 September 1907'},\n",
    "{'Country Name':'South Africa','ISO Code':'ZA','Country Population':58558270,'Country Area km2 (mi2)':'1,221,037 (471,445)','Independence Day':'31 May 1910'},\n",
    "{'Country Name':'Australia','ISO Code':'AU','Country Population':25763300,'Country Area km2 (mi2)':'7,692,024 (2,969,907)', 'Independence Day':'1 January 1901'},\n",
    "{'Country Name':'United States','ISO Code':'US','Country Population':329064917,'Country Area km2 (mi2)':'9,525,067 (3,677,649)','Independence Day':'4 July 1776'},\n",
    "{'Country Name':'New Zealand','ISO Code':'NZ','Country Population':4783063,'Country Area km2 (mi2)':'270,467 (104,428)','Independence Day':'26 September 1907'}]"
   ]
  },
  {
   "cell_type": "code",
   "execution_count": 28,
   "metadata": {
    "collapsed": true,
    "jupyter": {
     "outputs_hidden": true,
     "source_hidden": true
    },
    "tags": []
   },
   "outputs": [
    {
     "data": {
      "text/html": [
       "<div>\n",
       "<style scoped>\n",
       "    .dataframe tbody tr th:only-of-type {\n",
       "        vertical-align: middle;\n",
       "    }\n",
       "\n",
       "    .dataframe tbody tr th {\n",
       "        vertical-align: top;\n",
       "    }\n",
       "\n",
       "    .dataframe thead th {\n",
       "        text-align: right;\n",
       "    }\n",
       "</style>\n",
       "<table border=\"1\" class=\"dataframe\">\n",
       "  <thead>\n",
       "    <tr style=\"text-align: right;\">\n",
       "      <th></th>\n",
       "      <th>Country Name</th>\n",
       "      <th>ISO Code</th>\n",
       "      <th>Country Population</th>\n",
       "      <th>Country Area km2 (mi2)</th>\n",
       "      <th>Independence Day</th>\n",
       "    </tr>\n",
       "  </thead>\n",
       "  <tbody>\n",
       "    <tr>\n",
       "      <th>0</th>\n",
       "      <td>China</td>\n",
       "      <td>CN</td>\n",
       "      <td>1433783686</td>\n",
       "      <td>9,596,961 (3,705,407)</td>\n",
       "      <td>1 October 1949</td>\n",
       "    </tr>\n",
       "    <tr>\n",
       "      <th>1</th>\n",
       "      <td>New Zealand</td>\n",
       "      <td>NZ</td>\n",
       "      <td>4783063</td>\n",
       "      <td>270,467 (104,428)</td>\n",
       "      <td>26 September 1907</td>\n",
       "    </tr>\n",
       "    <tr>\n",
       "      <th>2</th>\n",
       "      <td>South Africa</td>\n",
       "      <td>ZA</td>\n",
       "      <td>58558270</td>\n",
       "      <td>1,221,037 (471,445)</td>\n",
       "      <td>31 May 1910</td>\n",
       "    </tr>\n",
       "    <tr>\n",
       "      <th>3</th>\n",
       "      <td>Australia</td>\n",
       "      <td>AU</td>\n",
       "      <td>25763300</td>\n",
       "      <td>7,692,024 (2,969,907)</td>\n",
       "      <td>1 January 1901</td>\n",
       "    </tr>\n",
       "    <tr>\n",
       "      <th>4</th>\n",
       "      <td>United States</td>\n",
       "      <td>US</td>\n",
       "      <td>329064917</td>\n",
       "      <td>9,525,067 (3,677,649)</td>\n",
       "      <td>4 July 1776</td>\n",
       "    </tr>\n",
       "    <tr>\n",
       "      <th>5</th>\n",
       "      <td>New Zealand</td>\n",
       "      <td>NZ</td>\n",
       "      <td>4783063</td>\n",
       "      <td>270,467 (104,428)</td>\n",
       "      <td>26 September 1907</td>\n",
       "    </tr>\n",
       "  </tbody>\n",
       "</table>\n",
       "</div>"
      ],
      "text/plain": [
       "    Country Name ISO Code  Country Population Country Area km2 (mi2)  \\\n",
       "0          China       CN          1433783686  9,596,961 (3,705,407)   \n",
       "1    New Zealand       NZ             4783063      270,467 (104,428)   \n",
       "2   South Africa       ZA            58558270    1,221,037 (471,445)   \n",
       "3      Australia       AU            25763300  7,692,024 (2,969,907)   \n",
       "4  United States       US           329064917  9,525,067 (3,677,649)   \n",
       "5    New Zealand       NZ             4783063      270,467 (104,428)   \n",
       "\n",
       "    Independence Day  \n",
       "0     1 October 1949  \n",
       "1  26 September 1907  \n",
       "2        31 May 1910  \n",
       "3     1 January 1901  \n",
       "4        4 July 1776  \n",
       "5  26 September 1907  "
      ]
     },
     "execution_count": 28,
     "metadata": {},
     "output_type": "execute_result"
    }
   ],
   "source": [
    "countries = pd.DataFrame(list_of_countries)\n",
    "countries"
   ]
  },
  {
   "cell_type": "code",
   "execution_count": 29,
   "metadata": {
    "collapsed": true,
    "jupyter": {
     "outputs_hidden": true,
     "source_hidden": true
    },
    "tags": []
   },
   "outputs": [
    {
     "name": "stdout",
     "output_type": "stream",
     "text": [
      "<class 'pandas.core.frame.DataFrame'>\n",
      "RangeIndex: 6 entries, 0 to 5\n",
      "Data columns (total 5 columns):\n",
      " #   Column                  Non-Null Count  Dtype \n",
      "---  ------                  --------------  ----- \n",
      " 0   Country Name            6 non-null      object\n",
      " 1   ISO Code                6 non-null      object\n",
      " 2   Country Population      6 non-null      int64 \n",
      " 3   Country Area km2 (mi2)  6 non-null      object\n",
      " 4   Independence Day        6 non-null      object\n",
      "dtypes: int64(1), object(4)\n",
      "memory usage: 368.0+ bytes\n"
     ]
    }
   ],
   "source": [
    "countries.info()"
   ]
  },
  {
   "cell_type": "markdown",
   "metadata": {},
   "source": [
    "## Slit DataFrame Columns"
   ]
  },
  {
   "cell_type": "code",
   "execution_count": 30,
   "metadata": {
    "collapsed": true,
    "jupyter": {
     "outputs_hidden": true,
     "source_hidden": true
    },
    "tags": []
   },
   "outputs": [
    {
     "data": {
      "text/html": [
       "<div>\n",
       "<style scoped>\n",
       "    .dataframe tbody tr th:only-of-type {\n",
       "        vertical-align: middle;\n",
       "    }\n",
       "\n",
       "    .dataframe tbody tr th {\n",
       "        vertical-align: top;\n",
       "    }\n",
       "\n",
       "    .dataframe thead th {\n",
       "        text-align: right;\n",
       "    }\n",
       "</style>\n",
       "<table border=\"1\" class=\"dataframe\">\n",
       "  <thead>\n",
       "    <tr style=\"text-align: right;\">\n",
       "      <th></th>\n",
       "      <th>0</th>\n",
       "      <th>1</th>\n",
       "    </tr>\n",
       "  </thead>\n",
       "  <tbody>\n",
       "    <tr>\n",
       "      <th>0</th>\n",
       "      <td>9,596,961</td>\n",
       "      <td>(3,705,407)</td>\n",
       "    </tr>\n",
       "    <tr>\n",
       "      <th>1</th>\n",
       "      <td>270,467</td>\n",
       "      <td>(104,428)</td>\n",
       "    </tr>\n",
       "    <tr>\n",
       "      <th>2</th>\n",
       "      <td>1,221,037</td>\n",
       "      <td>(471,445)</td>\n",
       "    </tr>\n",
       "    <tr>\n",
       "      <th>3</th>\n",
       "      <td>7,692,024</td>\n",
       "      <td>(2,969,907)</td>\n",
       "    </tr>\n",
       "    <tr>\n",
       "      <th>4</th>\n",
       "      <td>9,525,067</td>\n",
       "      <td>(3,677,649)</td>\n",
       "    </tr>\n",
       "    <tr>\n",
       "      <th>5</th>\n",
       "      <td>270,467</td>\n",
       "      <td>(104,428)</td>\n",
       "    </tr>\n",
       "  </tbody>\n",
       "</table>\n",
       "</div>"
      ],
      "text/plain": [
       "           0            1\n",
       "0  9,596,961  (3,705,407)\n",
       "1    270,467    (104,428)\n",
       "2  1,221,037    (471,445)\n",
       "3  7,692,024  (2,969,907)\n",
       "4  9,525,067  (3,677,649)\n",
       "5    270,467    (104,428)"
      ]
     },
     "execution_count": 30,
     "metadata": {},
     "output_type": "execute_result"
    }
   ],
   "source": [
    "countries['Country Area km2 (mi2)'].str.split(' ', expand = True)"
   ]
  },
  {
   "cell_type": "code",
   "execution_count": 31,
   "metadata": {
    "collapsed": true,
    "jupyter": {
     "outputs_hidden": true,
     "source_hidden": true
    },
    "tags": []
   },
   "outputs": [
    {
     "data": {
      "text/html": [
       "<div>\n",
       "<style scoped>\n",
       "    .dataframe tbody tr th:only-of-type {\n",
       "        vertical-align: middle;\n",
       "    }\n",
       "\n",
       "    .dataframe tbody tr th {\n",
       "        vertical-align: top;\n",
       "    }\n",
       "\n",
       "    .dataframe thead th {\n",
       "        text-align: right;\n",
       "    }\n",
       "</style>\n",
       "<table border=\"1\" class=\"dataframe\">\n",
       "  <thead>\n",
       "    <tr style=\"text-align: right;\">\n",
       "      <th></th>\n",
       "      <th>Country Name</th>\n",
       "      <th>ISO Code</th>\n",
       "      <th>Country Population</th>\n",
       "      <th>Country Area km2 (mi2)</th>\n",
       "      <th>Independence Day</th>\n",
       "      <th>Area km2</th>\n",
       "      <th>Area mi2</th>\n",
       "    </tr>\n",
       "  </thead>\n",
       "  <tbody>\n",
       "    <tr>\n",
       "      <th>0</th>\n",
       "      <td>China</td>\n",
       "      <td>CN</td>\n",
       "      <td>1433783686</td>\n",
       "      <td>9,596,961 (3,705,407)</td>\n",
       "      <td>1 October 1949</td>\n",
       "      <td>9,596,961</td>\n",
       "      <td>(3,705,407)</td>\n",
       "    </tr>\n",
       "    <tr>\n",
       "      <th>1</th>\n",
       "      <td>New Zealand</td>\n",
       "      <td>NZ</td>\n",
       "      <td>4783063</td>\n",
       "      <td>270,467 (104,428)</td>\n",
       "      <td>26 September 1907</td>\n",
       "      <td>270,467</td>\n",
       "      <td>(104,428)</td>\n",
       "    </tr>\n",
       "    <tr>\n",
       "      <th>2</th>\n",
       "      <td>South Africa</td>\n",
       "      <td>ZA</td>\n",
       "      <td>58558270</td>\n",
       "      <td>1,221,037 (471,445)</td>\n",
       "      <td>31 May 1910</td>\n",
       "      <td>1,221,037</td>\n",
       "      <td>(471,445)</td>\n",
       "    </tr>\n",
       "    <tr>\n",
       "      <th>3</th>\n",
       "      <td>Australia</td>\n",
       "      <td>AU</td>\n",
       "      <td>25763300</td>\n",
       "      <td>7,692,024 (2,969,907)</td>\n",
       "      <td>1 January 1901</td>\n",
       "      <td>7,692,024</td>\n",
       "      <td>(2,969,907)</td>\n",
       "    </tr>\n",
       "    <tr>\n",
       "      <th>4</th>\n",
       "      <td>United States</td>\n",
       "      <td>US</td>\n",
       "      <td>329064917</td>\n",
       "      <td>9,525,067 (3,677,649)</td>\n",
       "      <td>4 July 1776</td>\n",
       "      <td>9,525,067</td>\n",
       "      <td>(3,677,649)</td>\n",
       "    </tr>\n",
       "    <tr>\n",
       "      <th>5</th>\n",
       "      <td>New Zealand</td>\n",
       "      <td>NZ</td>\n",
       "      <td>4783063</td>\n",
       "      <td>270,467 (104,428)</td>\n",
       "      <td>26 September 1907</td>\n",
       "      <td>270,467</td>\n",
       "      <td>(104,428)</td>\n",
       "    </tr>\n",
       "  </tbody>\n",
       "</table>\n",
       "</div>"
      ],
      "text/plain": [
       "    Country Name ISO Code  Country Population Country Area km2 (mi2)  \\\n",
       "0          China       CN          1433783686  9,596,961 (3,705,407)   \n",
       "1    New Zealand       NZ             4783063      270,467 (104,428)   \n",
       "2   South Africa       ZA            58558270    1,221,037 (471,445)   \n",
       "3      Australia       AU            25763300  7,692,024 (2,969,907)   \n",
       "4  United States       US           329064917  9,525,067 (3,677,649)   \n",
       "5    New Zealand       NZ             4783063      270,467 (104,428)   \n",
       "\n",
       "    Independence Day   Area km2     Area mi2  \n",
       "0     1 October 1949  9,596,961  (3,705,407)  \n",
       "1  26 September 1907    270,467    (104,428)  \n",
       "2        31 May 1910  1,221,037    (471,445)  \n",
       "3     1 January 1901  7,692,024  (2,969,907)  \n",
       "4        4 July 1776  9,525,067  (3,677,649)  \n",
       "5  26 September 1907    270,467    (104,428)  "
      ]
     },
     "execution_count": 31,
     "metadata": {},
     "output_type": "execute_result"
    }
   ],
   "source": [
    "countries[['Area km2','Area mi2']] = countries['Country Area km2 (mi2)'].str.split(' ', expand = True)\n",
    "countries"
   ]
  },
  {
   "cell_type": "code",
   "execution_count": 32,
   "metadata": {
    "collapsed": true,
    "jupyter": {
     "outputs_hidden": true,
     "source_hidden": true
    },
    "tags": []
   },
   "outputs": [
    {
     "name": "stderr",
     "output_type": "stream",
     "text": [
      "/home/ali/anaconda3/lib/python3.7/site-packages/ipykernel_launcher.py:1: FutureWarning: The default value of regex will change from True to False in a future version.\n",
      "  \"\"\"Entry point for launching an IPython kernel.\n",
      "/home/ali/anaconda3/lib/python3.7/site-packages/ipykernel_launcher.py:2: FutureWarning: The default value of regex will change from True to False in a future version.\n",
      "  \n"
     ]
    },
    {
     "data": {
      "text/html": [
       "<div>\n",
       "<style scoped>\n",
       "    .dataframe tbody tr th:only-of-type {\n",
       "        vertical-align: middle;\n",
       "    }\n",
       "\n",
       "    .dataframe tbody tr th {\n",
       "        vertical-align: top;\n",
       "    }\n",
       "\n",
       "    .dataframe thead th {\n",
       "        text-align: right;\n",
       "    }\n",
       "</style>\n",
       "<table border=\"1\" class=\"dataframe\">\n",
       "  <thead>\n",
       "    <tr style=\"text-align: right;\">\n",
       "      <th></th>\n",
       "      <th>Country Name</th>\n",
       "      <th>ISO Code</th>\n",
       "      <th>Country Population</th>\n",
       "      <th>Country Area km2 (mi2)</th>\n",
       "      <th>Independence Day</th>\n",
       "      <th>Area km2</th>\n",
       "      <th>Area mi2</th>\n",
       "    </tr>\n",
       "  </thead>\n",
       "  <tbody>\n",
       "    <tr>\n",
       "      <th>0</th>\n",
       "      <td>China</td>\n",
       "      <td>CN</td>\n",
       "      <td>1433783686</td>\n",
       "      <td>9,596,961 (3,705,407)</td>\n",
       "      <td>1 October 1949</td>\n",
       "      <td>9596961</td>\n",
       "      <td>3705407</td>\n",
       "    </tr>\n",
       "    <tr>\n",
       "      <th>1</th>\n",
       "      <td>New Zealand</td>\n",
       "      <td>NZ</td>\n",
       "      <td>4783063</td>\n",
       "      <td>270,467 (104,428)</td>\n",
       "      <td>26 September 1907</td>\n",
       "      <td>270467</td>\n",
       "      <td>104428</td>\n",
       "    </tr>\n",
       "    <tr>\n",
       "      <th>2</th>\n",
       "      <td>South Africa</td>\n",
       "      <td>ZA</td>\n",
       "      <td>58558270</td>\n",
       "      <td>1,221,037 (471,445)</td>\n",
       "      <td>31 May 1910</td>\n",
       "      <td>1221037</td>\n",
       "      <td>471445</td>\n",
       "    </tr>\n",
       "    <tr>\n",
       "      <th>3</th>\n",
       "      <td>Australia</td>\n",
       "      <td>AU</td>\n",
       "      <td>25763300</td>\n",
       "      <td>7,692,024 (2,969,907)</td>\n",
       "      <td>1 January 1901</td>\n",
       "      <td>7692024</td>\n",
       "      <td>2969907</td>\n",
       "    </tr>\n",
       "    <tr>\n",
       "      <th>4</th>\n",
       "      <td>United States</td>\n",
       "      <td>US</td>\n",
       "      <td>329064917</td>\n",
       "      <td>9,525,067 (3,677,649)</td>\n",
       "      <td>4 July 1776</td>\n",
       "      <td>9525067</td>\n",
       "      <td>3677649</td>\n",
       "    </tr>\n",
       "    <tr>\n",
       "      <th>5</th>\n",
       "      <td>New Zealand</td>\n",
       "      <td>NZ</td>\n",
       "      <td>4783063</td>\n",
       "      <td>270,467 (104,428)</td>\n",
       "      <td>26 September 1907</td>\n",
       "      <td>270467</td>\n",
       "      <td>104428</td>\n",
       "    </tr>\n",
       "  </tbody>\n",
       "</table>\n",
       "</div>"
      ],
      "text/plain": [
       "    Country Name ISO Code  Country Population Country Area km2 (mi2)  \\\n",
       "0          China       CN          1433783686  9,596,961 (3,705,407)   \n",
       "1    New Zealand       NZ             4783063      270,467 (104,428)   \n",
       "2   South Africa       ZA            58558270    1,221,037 (471,445)   \n",
       "3      Australia       AU            25763300  7,692,024 (2,969,907)   \n",
       "4  United States       US           329064917  9,525,067 (3,677,649)   \n",
       "5    New Zealand       NZ             4783063      270,467 (104,428)   \n",
       "\n",
       "    Independence Day Area km2 Area mi2  \n",
       "0     1 October 1949  9596961  3705407  \n",
       "1  26 September 1907   270467   104428  \n",
       "2        31 May 1910  1221037   471445  \n",
       "3     1 January 1901  7692024  2969907  \n",
       "4        4 July 1776  9525067  3677649  \n",
       "5  26 September 1907   270467   104428  "
      ]
     },
     "execution_count": 32,
     "metadata": {},
     "output_type": "execute_result"
    }
   ],
   "source": [
    "countries['Area km2'] = countries['Area km2'].str.replace('(\\D+)','')\n",
    "countries['Area mi2'] = countries['Area mi2'].str.replace('(\\D+)','')\n",
    "countries"
   ]
  },
  {
   "cell_type": "code",
   "execution_count": 33,
   "metadata": {
    "collapsed": true,
    "jupyter": {
     "outputs_hidden": true,
     "source_hidden": true
    }
   },
   "outputs": [
    {
     "name": "stdout",
     "output_type": "stream",
     "text": [
      "<class 'pandas.core.frame.DataFrame'>\n",
      "RangeIndex: 6 entries, 0 to 5\n",
      "Data columns (total 7 columns):\n",
      " #   Column                  Non-Null Count  Dtype \n",
      "---  ------                  --------------  ----- \n",
      " 0   Country Name            6 non-null      object\n",
      " 1   ISO Code                6 non-null      object\n",
      " 2   Country Population      6 non-null      int64 \n",
      " 3   Country Area km2 (mi2)  6 non-null      object\n",
      " 4   Independence Day        6 non-null      object\n",
      " 5   Area km2                6 non-null      object\n",
      " 6   Area mi2                6 non-null      object\n",
      "dtypes: int64(1), object(6)\n",
      "memory usage: 464.0+ bytes\n"
     ]
    }
   ],
   "source": [
    "countries.info()"
   ]
  },
  {
   "cell_type": "code",
   "execution_count": 34,
   "metadata": {
    "collapsed": true,
    "jupyter": {
     "outputs_hidden": true,
     "source_hidden": true
    }
   },
   "outputs": [
    {
     "name": "stdout",
     "output_type": "stream",
     "text": [
      "<class 'pandas.core.frame.DataFrame'>\n",
      "RangeIndex: 6 entries, 0 to 5\n",
      "Data columns (total 7 columns):\n",
      " #   Column                  Non-Null Count  Dtype         \n",
      "---  ------                  --------------  -----         \n",
      " 0   Country Name            6 non-null      object        \n",
      " 1   ISO Code                6 non-null      object        \n",
      " 2   Country Population      6 non-null      int64         \n",
      " 3   Country Area km2 (mi2)  6 non-null      object        \n",
      " 4   Independence Day        6 non-null      datetime64[ns]\n",
      " 5   Area km2                6 non-null      int64         \n",
      " 6   Area mi2                6 non-null      int64         \n",
      "dtypes: datetime64[ns](1), int64(3), object(3)\n",
      "memory usage: 464.0+ bytes\n"
     ]
    }
   ],
   "source": [
    "countries = countries.astype({'Area km2': 'int64', 'Area mi2':'int64', 'Independence Day':'datetime64'})\n",
    "countries.info()"
   ]
  },
  {
   "cell_type": "code",
   "execution_count": 35,
   "metadata": {
    "collapsed": true,
    "jupyter": {
     "outputs_hidden": true,
     "source_hidden": true
    }
   },
   "outputs": [
    {
     "data": {
      "text/html": [
       "<div>\n",
       "<style scoped>\n",
       "    .dataframe tbody tr th:only-of-type {\n",
       "        vertical-align: middle;\n",
       "    }\n",
       "\n",
       "    .dataframe tbody tr th {\n",
       "        vertical-align: top;\n",
       "    }\n",
       "\n",
       "    .dataframe thead th {\n",
       "        text-align: right;\n",
       "    }\n",
       "</style>\n",
       "<table border=\"1\" class=\"dataframe\">\n",
       "  <thead>\n",
       "    <tr style=\"text-align: right;\">\n",
       "      <th></th>\n",
       "      <th>Country Name</th>\n",
       "      <th>ISO Code</th>\n",
       "      <th>Country Population</th>\n",
       "      <th>Country Area km2 (mi2)</th>\n",
       "      <th>Independence Day</th>\n",
       "      <th>Area km2</th>\n",
       "      <th>Area mi2</th>\n",
       "    </tr>\n",
       "  </thead>\n",
       "  <tbody>\n",
       "    <tr>\n",
       "      <th>0</th>\n",
       "      <td>China</td>\n",
       "      <td>CN</td>\n",
       "      <td>1433783686</td>\n",
       "      <td>9,596,961 (3,705,407)</td>\n",
       "      <td>1949-10-01</td>\n",
       "      <td>9596961</td>\n",
       "      <td>3705407</td>\n",
       "    </tr>\n",
       "    <tr>\n",
       "      <th>1</th>\n",
       "      <td>New Zealand</td>\n",
       "      <td>NZ</td>\n",
       "      <td>4783063</td>\n",
       "      <td>270,467 (104,428)</td>\n",
       "      <td>1907-09-26</td>\n",
       "      <td>270467</td>\n",
       "      <td>104428</td>\n",
       "    </tr>\n",
       "    <tr>\n",
       "      <th>2</th>\n",
       "      <td>South Africa</td>\n",
       "      <td>ZA</td>\n",
       "      <td>58558270</td>\n",
       "      <td>1,221,037 (471,445)</td>\n",
       "      <td>1910-05-31</td>\n",
       "      <td>1221037</td>\n",
       "      <td>471445</td>\n",
       "    </tr>\n",
       "    <tr>\n",
       "      <th>3</th>\n",
       "      <td>Australia</td>\n",
       "      <td>AU</td>\n",
       "      <td>25763300</td>\n",
       "      <td>7,692,024 (2,969,907)</td>\n",
       "      <td>1901-01-01</td>\n",
       "      <td>7692024</td>\n",
       "      <td>2969907</td>\n",
       "    </tr>\n",
       "    <tr>\n",
       "      <th>4</th>\n",
       "      <td>United States</td>\n",
       "      <td>US</td>\n",
       "      <td>329064917</td>\n",
       "      <td>9,525,067 (3,677,649)</td>\n",
       "      <td>1776-07-04</td>\n",
       "      <td>9525067</td>\n",
       "      <td>3677649</td>\n",
       "    </tr>\n",
       "    <tr>\n",
       "      <th>5</th>\n",
       "      <td>New Zealand</td>\n",
       "      <td>NZ</td>\n",
       "      <td>4783063</td>\n",
       "      <td>270,467 (104,428)</td>\n",
       "      <td>1907-09-26</td>\n",
       "      <td>270467</td>\n",
       "      <td>104428</td>\n",
       "    </tr>\n",
       "  </tbody>\n",
       "</table>\n",
       "</div>"
      ],
      "text/plain": [
       "    Country Name ISO Code  Country Population Country Area km2 (mi2)  \\\n",
       "0          China       CN          1433783686  9,596,961 (3,705,407)   \n",
       "1    New Zealand       NZ             4783063      270,467 (104,428)   \n",
       "2   South Africa       ZA            58558270    1,221,037 (471,445)   \n",
       "3      Australia       AU            25763300  7,692,024 (2,969,907)   \n",
       "4  United States       US           329064917  9,525,067 (3,677,649)   \n",
       "5    New Zealand       NZ             4783063      270,467 (104,428)   \n",
       "\n",
       "  Independence Day  Area km2  Area mi2  \n",
       "0       1949-10-01   9596961   3705407  \n",
       "1       1907-09-26    270467    104428  \n",
       "2       1910-05-31   1221037    471445  \n",
       "3       1901-01-01   7692024   2969907  \n",
       "4       1776-07-04   9525067   3677649  \n",
       "5       1907-09-26    270467    104428  "
      ]
     },
     "execution_count": 35,
     "metadata": {},
     "output_type": "execute_result"
    }
   ],
   "source": [
    "#countries = countries.drop_duplicates()\n",
    "countries"
   ]
  },
  {
   "cell_type": "code",
   "execution_count": 36,
   "metadata": {
    "collapsed": true,
    "jupyter": {
     "outputs_hidden": true,
     "source_hidden": true
    }
   },
   "outputs": [],
   "source": [
    "countries.drop('Country Area km2 (mi2)', axis = 1, inplace = True)"
   ]
  },
  {
   "cell_type": "code",
   "execution_count": 37,
   "metadata": {
    "collapsed": true,
    "jupyter": {
     "outputs_hidden": true,
     "source_hidden": true
    }
   },
   "outputs": [],
   "source": [
    "countries.drop(5, axis = 0, inplace = True)"
   ]
  },
  {
   "cell_type": "markdown",
   "metadata": {},
   "source": [
    "## Rename Columns"
   ]
  },
  {
   "cell_type": "code",
   "execution_count": 41,
   "metadata": {
    "collapsed": true,
    "jupyter": {
     "outputs_hidden": true,
     "source_hidden": true
    }
   },
   "outputs": [],
   "source": [
    "countries.rename(columns={'Country Name': 'country_name', 'ISO Code': 'country_code',\n",
    "                          'Country Population': 'country_population', 'Independence Day': 'independence_date',\n",
    "                          'Area km2': 'area_km2', 'Area mi2': 'area_mi2'}, inplace=True)\n"
   ]
  },
  {
   "cell_type": "code",
   "execution_count": 42,
   "metadata": {
    "collapsed": true,
    "jupyter": {
     "outputs_hidden": true,
     "source_hidden": true
    }
   },
   "outputs": [
    {
     "name": "stdout",
     "output_type": "stream",
     "text": [
      "<class 'pandas.core.frame.DataFrame'>\n",
      "Int64Index: 5 entries, 0 to 4\n",
      "Data columns (total 6 columns):\n",
      " #   Column              Non-Null Count  Dtype         \n",
      "---  ------              --------------  -----         \n",
      " 0   country_name        5 non-null      object        \n",
      " 1   country_code        5 non-null      object        \n",
      " 2   country_population  5 non-null      int64         \n",
      " 3   independence_date   5 non-null      datetime64[ns]\n",
      " 4   area_km2            5 non-null      int64         \n",
      " 5   area_mi2            5 non-null      int64         \n",
      "dtypes: datetime64[ns](1), int64(3), object(2)\n",
      "memory usage: 280.0+ bytes\n"
     ]
    }
   ],
   "source": [
    "countries.info()"
   ]
  },
  {
   "cell_type": "code",
   "execution_count": 43,
   "metadata": {
    "collapsed": true,
    "jupyter": {
     "outputs_hidden": true,
     "source_hidden": true
    }
   },
   "outputs": [
    {
     "data": {
      "text/html": [
       "<div>\n",
       "<style scoped>\n",
       "    .dataframe tbody tr th:only-of-type {\n",
       "        vertical-align: middle;\n",
       "    }\n",
       "\n",
       "    .dataframe tbody tr th {\n",
       "        vertical-align: top;\n",
       "    }\n",
       "\n",
       "    .dataframe thead th {\n",
       "        text-align: right;\n",
       "    }\n",
       "</style>\n",
       "<table border=\"1\" class=\"dataframe\">\n",
       "  <thead>\n",
       "    <tr style=\"text-align: right;\">\n",
       "      <th></th>\n",
       "      <th>country_name</th>\n",
       "      <th>country_code</th>\n",
       "      <th>country_population</th>\n",
       "      <th>independence_date</th>\n",
       "      <th>area_km2</th>\n",
       "      <th>area_mi2</th>\n",
       "    </tr>\n",
       "  </thead>\n",
       "  <tbody>\n",
       "    <tr>\n",
       "      <th>0</th>\n",
       "      <td>China</td>\n",
       "      <td>CN</td>\n",
       "      <td>1433783686</td>\n",
       "      <td>1949-10-01</td>\n",
       "      <td>9596961</td>\n",
       "      <td>3705407</td>\n",
       "    </tr>\n",
       "    <tr>\n",
       "      <th>1</th>\n",
       "      <td>New Zealand</td>\n",
       "      <td>NZ</td>\n",
       "      <td>4783063</td>\n",
       "      <td>1907-09-26</td>\n",
       "      <td>270467</td>\n",
       "      <td>104428</td>\n",
       "    </tr>\n",
       "    <tr>\n",
       "      <th>2</th>\n",
       "      <td>South Africa</td>\n",
       "      <td>ZA</td>\n",
       "      <td>58558270</td>\n",
       "      <td>1910-05-31</td>\n",
       "      <td>1221037</td>\n",
       "      <td>471445</td>\n",
       "    </tr>\n",
       "    <tr>\n",
       "      <th>3</th>\n",
       "      <td>Australia</td>\n",
       "      <td>AU</td>\n",
       "      <td>25763300</td>\n",
       "      <td>1901-01-01</td>\n",
       "      <td>7692024</td>\n",
       "      <td>2969907</td>\n",
       "    </tr>\n",
       "    <tr>\n",
       "      <th>4</th>\n",
       "      <td>United States</td>\n",
       "      <td>US</td>\n",
       "      <td>329064917</td>\n",
       "      <td>1776-07-04</td>\n",
       "      <td>9525067</td>\n",
       "      <td>3677649</td>\n",
       "    </tr>\n",
       "  </tbody>\n",
       "</table>\n",
       "</div>"
      ],
      "text/plain": [
       "    country_name country_code  country_population independence_date  area_km2  \\\n",
       "0          China           CN          1433783686        1949-10-01   9596961   \n",
       "1    New Zealand           NZ             4783063        1907-09-26    270467   \n",
       "2   South Africa           ZA            58558270        1910-05-31   1221037   \n",
       "3      Australia           AU            25763300        1901-01-01   7692024   \n",
       "4  United States           US           329064917        1776-07-04   9525067   \n",
       "\n",
       "   area_mi2  \n",
       "0   3705407  \n",
       "1    104428  \n",
       "2    471445  \n",
       "3   2969907  \n",
       "4   3677649  "
      ]
     },
     "execution_count": 43,
     "metadata": {},
     "output_type": "execute_result"
    }
   ],
   "source": [
    "countries"
   ]
  }
 ],
 "metadata": {
  "kernelspec": {
   "display_name": "Python 3",
   "language": "python",
   "name": "python3"
  },
  "language_info": {
   "codemirror_mode": {
    "name": "ipython",
    "version": 3
   },
   "file_extension": ".py",
   "mimetype": "text/x-python",
   "name": "python",
   "nbconvert_exporter": "python",
   "pygments_lexer": "ipython3",
   "version": "3.7.7"
  },
  "toc-autonumbering": false,
  "toc-showcode": true,
  "toc-showmarkdowntxt": false,
  "toc-showtags": false
 },
 "nbformat": 4,
 "nbformat_minor": 4
}
