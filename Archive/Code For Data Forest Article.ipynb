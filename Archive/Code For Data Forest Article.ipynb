{
 "cells": [
  {
   "cell_type": "code",
   "execution_count": 1,
   "metadata": {},
   "outputs": [],
   "source": [
    "import pandas as pd"
   ]
  },
  {
   "cell_type": "code",
   "execution_count": 10,
   "metadata": {},
   "outputs": [],
   "source": [
    "list_of_countries = [\n",
    "{'Country Name':'Argentina','ISO Code':'AR','Country Population':44780677,'Country Area':'2,780,400 (1,073,500)'\t,'Country Date of Independence':'9 July 1816'},\n",
    "{'Country Name':'Australia','ISO Code':'AU','Country Population':25203198,'Country Area':'7,692,024 (2,969,907)'\t,'Country Date of Independence':'1 January 1901'},\n",
    "{'Country Name':'Bahrain','ISO Code':'BH','Country Population':\t1641172\t,'Country Area':'778 (300)'\t,'Country Date of Independence':'15 August 1971'},\n",
    "{'Country Name':'Belgium','ISO Code':'BE','Country Population':\t11539328,'Country Area':'30,528 (11,787)'\t,'Country Date of Independence':'4 October 1830'},\n",
    "{'Country Name':'Brazil','ISO Code':'BR','Country Population':211049527,'Country Area':'8,515,767 (3,287,956)'\t,'Country Date of Independence':'7 September 1822'},\n",
    "{'Country Name':'Canada','ISO Code':'CA','Country Population':37411047,'Country Area':'9,984,670 (3,855,100)'\t,'Country Date of Independence':'1 July 1867'},\n",
    "{'Country Name':'China','ISO Code':'CN','Country Population':1433783686,'Country Area':'9,596,961 (3,705,407)'\t,'Country Date of Independence':'1 October 1949'},\n",
    "{'Country Name':'Denmark','ISO Code':'DK','Country Population':\t5771876\t,'Country Area':'43,094 (16,639)'\t,'Country Date of Independence':'5 June 1849'},\n",
    "{'Country Name':'Egypt','ISO Code':'EG','Country Population':100388073,'Country Area':'1,002,450 (387,050)'\t,'Country Date of Independence':'28 February 1922'},\n",
    "{'Country Name':'Finland','ISO Code':'FI','Country Population':5532156,'Country Area':'338,424 (130,666)'\t,'Country Date of Independence':'6 December 1917'},\n",
    "{'Country Name':'Germany','ISO Code':'DE','Country Population':83517045,'Country Area':'357,114 (137,882)'\t,'Country Date of Independence':'18 January 1871'},\n",
    "{'Country Name':'New Zealand','ISO Code':'NZ','Country Population':4783063,'Country Area':'270,467 (104,428)'\t,'Country Date of Independence':'26 September 1907'},\n",
    "{'Country Name':'Norway','ISO Code':'NO','Country Population':5378857,'Country Area':'385,207 (148,729)'\t,'Country Date of Independence':'7 June 1905'},\n",
    "{'Country Name':'South Africa','ISO Code':'ZA','Country Population':58558270,'Country Area':'1,221,037 (471,445)'\t,'Country Date of Independence':'31 May 1910'},\n",
    "{'Country Name':'Sri Lanka','ISO Code':'LK','Country Population':21323733,'Country Area':'65,610 (25,330)'\t,'Country Date of Independence':'4 February 1948'},\n",
    "{'Country Name':'Thailand','ISO Code':'TH','Country Population':69037513\t,'Country Area':'513,120 (198,120)'},\n",
    "{'Country Name':'Turkey','ISO Code':'TR','Country Population':\t83429615\t,'Country Area':'783,562 (302,535)'\t,'Country Date of Independence':'29 October 1923'},\n",
    "{'Country Name':'United Kingdom','ISO Code':'GB','Country Population':\t67530172\t,'Country Area':'242,495 (93,628)'},\n",
    "{'Country Name':'United States','ISO Code':'US','Country Population':\t329064917\t,'Country Area':'9,525,067 (3,677,649)'\t,'Country Date of Independence':'4 July 1776'},\n",
    "{'Country Name':'Vietnam','ISO Code':'VN','Country Population':\t96462106\t,'Country Area':'331,212 (127,882)'\t,'Country Date of Independence':'2 September 1945'}]"
   ]
  },
  {
   "cell_type": "code",
   "execution_count": 3,
   "metadata": {},
   "outputs": [],
   "source": [
    "import pandas as pd\n",
    "\n",
    "list_of_countries = [\n",
    "{'Country Name':'China','ISO Code':'CN','Country Population':1433783686,'Country Area km2 (mi2)':'9,596,961 (3,705,407)','Country Date of Independence':'1 October 1949'},\n",
    "{'Country Name':'New Zealand','ISO Code':'NZ','Country Population':4783063,'Country Area km2 (mi2)':'270,467 (104,428)','Country Date of Independence':'26 September 1907'},\n",
    "{'Country Name':'South Africa','ISO Code':'ZA','Country Population':58558270,'Country Area km2 (mi2)':'1,221,037 (471,445)','Country Date of Independence':'31 May 1910'},\n",
    "{'Country Name':'United Kingdom','ISO Code':'GB','Country Population':67530172,'Country Area km2 (mi2)':'242,495 (93,628)'},\n",
    "{'Country Name':'United States','ISO Code':'US','Country Population':329064917,'Country Area km2 (mi2)':'9,525,067 (3,677,649)','Country Date of Independence':'4 July 1776'},]\n",
    "\n",
    "countries = pd.DataFrame(list_of_countries)"
   ]
  },
  {
   "cell_type": "code",
   "execution_count": 4,
   "metadata": {},
   "outputs": [
    {
     "data": {
      "text/html": [
       "<div>\n",
       "<style scoped>\n",
       "    .dataframe tbody tr th:only-of-type {\n",
       "        vertical-align: middle;\n",
       "    }\n",
       "\n",
       "    .dataframe tbody tr th {\n",
       "        vertical-align: top;\n",
       "    }\n",
       "\n",
       "    .dataframe thead th {\n",
       "        text-align: right;\n",
       "    }\n",
       "</style>\n",
       "<table border=\"1\" class=\"dataframe\">\n",
       "  <thead>\n",
       "    <tr style=\"text-align: right;\">\n",
       "      <th></th>\n",
       "      <th>Country Name</th>\n",
       "      <th>ISO Code</th>\n",
       "      <th>Country Population</th>\n",
       "      <th>Country Area km2 (mi2)</th>\n",
       "      <th>Country Date of Independence</th>\n",
       "    </tr>\n",
       "  </thead>\n",
       "  <tbody>\n",
       "    <tr>\n",
       "      <th>0</th>\n",
       "      <td>China</td>\n",
       "      <td>CN</td>\n",
       "      <td>1433783686</td>\n",
       "      <td>9,596,961 (3,705,407)</td>\n",
       "      <td>1 October 1949</td>\n",
       "    </tr>\n",
       "    <tr>\n",
       "      <th>1</th>\n",
       "      <td>New Zealand</td>\n",
       "      <td>NZ</td>\n",
       "      <td>4783063</td>\n",
       "      <td>270,467 (104,428)</td>\n",
       "      <td>26 September 1907</td>\n",
       "    </tr>\n",
       "    <tr>\n",
       "      <th>2</th>\n",
       "      <td>South Africa</td>\n",
       "      <td>ZA</td>\n",
       "      <td>58558270</td>\n",
       "      <td>1,221,037 (471,445)</td>\n",
       "      <td>31 May 1910</td>\n",
       "    </tr>\n",
       "    <tr>\n",
       "      <th>3</th>\n",
       "      <td>United Kingdom</td>\n",
       "      <td>GB</td>\n",
       "      <td>67530172</td>\n",
       "      <td>242,495 (93,628)</td>\n",
       "      <td>NaN</td>\n",
       "    </tr>\n",
       "    <tr>\n",
       "      <th>4</th>\n",
       "      <td>United States</td>\n",
       "      <td>US</td>\n",
       "      <td>329064917</td>\n",
       "      <td>9,525,067 (3,677,649)</td>\n",
       "      <td>4 July 1776</td>\n",
       "    </tr>\n",
       "  </tbody>\n",
       "</table>\n",
       "</div>"
      ],
      "text/plain": [
       "     Country Name ISO Code  Country Population Country Area km2 (mi2)  \\\n",
       "0           China       CN          1433783686  9,596,961 (3,705,407)   \n",
       "1     New Zealand       NZ             4783063      270,467 (104,428)   \n",
       "2    South Africa       ZA            58558270    1,221,037 (471,445)   \n",
       "3  United Kingdom       GB            67530172       242,495 (93,628)   \n",
       "4   United States       US           329064917  9,525,067 (3,677,649)   \n",
       "\n",
       "  Country Date of Independence  \n",
       "0               1 October 1949  \n",
       "1            26 September 1907  \n",
       "2                  31 May 1910  \n",
       "3                          NaN  \n",
       "4                  4 July 1776  "
      ]
     },
     "execution_count": 4,
     "metadata": {},
     "output_type": "execute_result"
    }
   ],
   "source": [
    "countries"
   ]
  },
  {
   "cell_type": "code",
   "execution_count": 4,
   "metadata": {},
   "outputs": [
    {
     "name": "stdout",
     "output_type": "stream",
     "text": [
      "<class 'pandas.core.frame.DataFrame'>\n",
      "RangeIndex: 6 entries, 0 to 5\n",
      "Data columns (total 5 columns):\n",
      " #   Column                        Non-Null Count  Dtype \n",
      "---  ------                        --------------  ----- \n",
      " 0   Country Name                  6 non-null      object\n",
      " 1   ISO Code                      6 non-null      object\n",
      " 2   Country Population            6 non-null      int64 \n",
      " 3   Country Area km2 (mi2)        6 non-null      object\n",
      " 4   Country Date of Independence  5 non-null      object\n",
      "dtypes: int64(1), object(4)\n",
      "memory usage: 368.0+ bytes\n"
     ]
    }
   ],
   "source": [
    "countries.info()"
   ]
  },
  {
   "cell_type": "code",
   "execution_count": 5,
   "metadata": {},
   "outputs": [
    {
     "data": {
      "text/plain": [
       "Index(['Country Name', 'ISO Code', 'Country Population',\n",
       "       'Country Area km2 (mi2)', 'Country Date of Independence'],\n",
       "      dtype='object')"
      ]
     },
     "execution_count": 5,
     "metadata": {},
     "output_type": "execute_result"
    }
   ],
   "source": [
    "countries.columns"
   ]
  },
  {
   "cell_type": "code",
   "execution_count": 6,
   "metadata": {},
   "outputs": [
    {
     "data": {
      "text/html": [
       "<div>\n",
       "<style scoped>\n",
       "    .dataframe tbody tr th:only-of-type {\n",
       "        vertical-align: middle;\n",
       "    }\n",
       "\n",
       "    .dataframe tbody tr th {\n",
       "        vertical-align: top;\n",
       "    }\n",
       "\n",
       "    .dataframe thead th {\n",
       "        text-align: right;\n",
       "    }\n",
       "</style>\n",
       "<table border=\"1\" class=\"dataframe\">\n",
       "  <thead>\n",
       "    <tr style=\"text-align: right;\">\n",
       "      <th></th>\n",
       "      <th>0</th>\n",
       "      <th>1</th>\n",
       "    </tr>\n",
       "  </thead>\n",
       "  <tbody>\n",
       "    <tr>\n",
       "      <th>0</th>\n",
       "      <td>9,596,961</td>\n",
       "      <td>(3,705,407)</td>\n",
       "    </tr>\n",
       "    <tr>\n",
       "      <th>1</th>\n",
       "      <td>270,467</td>\n",
       "      <td>(104,428)</td>\n",
       "    </tr>\n",
       "    <tr>\n",
       "      <th>2</th>\n",
       "      <td>1,221,037</td>\n",
       "      <td>(471,445)</td>\n",
       "    </tr>\n",
       "    <tr>\n",
       "      <th>3</th>\n",
       "      <td>242,495</td>\n",
       "      <td>(93,628)</td>\n",
       "    </tr>\n",
       "    <tr>\n",
       "      <th>4</th>\n",
       "      <td>9,525,067</td>\n",
       "      <td>(3,677,649)</td>\n",
       "    </tr>\n",
       "    <tr>\n",
       "      <th>5</th>\n",
       "      <td>270,467</td>\n",
       "      <td>(104,428)</td>\n",
       "    </tr>\n",
       "  </tbody>\n",
       "</table>\n",
       "</div>"
      ],
      "text/plain": [
       "           0            1\n",
       "0  9,596,961  (3,705,407)\n",
       "1    270,467    (104,428)\n",
       "2  1,221,037    (471,445)\n",
       "3    242,495     (93,628)\n",
       "4  9,525,067  (3,677,649)\n",
       "5    270,467    (104,428)"
      ]
     },
     "execution_count": 6,
     "metadata": {},
     "output_type": "execute_result"
    }
   ],
   "source": [
    "countries['Country Area km2 (mi2)'].str.split(' ', expand = True)"
   ]
  },
  {
   "cell_type": "code",
   "execution_count": 7,
   "metadata": {},
   "outputs": [],
   "source": [
    "countries[['Area km2','Area mi2']] = countries['Country Area km2 (mi2)'].str.split(' ', expand = True)"
   ]
  },
  {
   "cell_type": "code",
   "execution_count": 10,
   "metadata": {},
   "outputs": [
    {
     "data": {
      "text/html": [
       "<div>\n",
       "<style scoped>\n",
       "    .dataframe tbody tr th:only-of-type {\n",
       "        vertical-align: middle;\n",
       "    }\n",
       "\n",
       "    .dataframe tbody tr th {\n",
       "        vertical-align: top;\n",
       "    }\n",
       "\n",
       "    .dataframe thead th {\n",
       "        text-align: right;\n",
       "    }\n",
       "</style>\n",
       "<table border=\"1\" class=\"dataframe\">\n",
       "  <thead>\n",
       "    <tr style=\"text-align: right;\">\n",
       "      <th></th>\n",
       "      <th>Country Name</th>\n",
       "      <th>ISO Code</th>\n",
       "      <th>Country Population</th>\n",
       "      <th>Country Area km2 (mi2)</th>\n",
       "      <th>Country Date of Independence</th>\n",
       "      <th>Area km2</th>\n",
       "      <th>Area mi2</th>\n",
       "    </tr>\n",
       "  </thead>\n",
       "  <tbody>\n",
       "    <tr>\n",
       "      <th>0</th>\n",
       "      <td>China</td>\n",
       "      <td>CN</td>\n",
       "      <td>1433783686</td>\n",
       "      <td>9,596,961 (3,705,407)</td>\n",
       "      <td>1 October 1949</td>\n",
       "      <td>9596961</td>\n",
       "      <td>3705407</td>\n",
       "    </tr>\n",
       "    <tr>\n",
       "      <th>1</th>\n",
       "      <td>New Zealand</td>\n",
       "      <td>NZ</td>\n",
       "      <td>4783063</td>\n",
       "      <td>270,467 (104,428)</td>\n",
       "      <td>26 September 1907</td>\n",
       "      <td>270467</td>\n",
       "      <td>104428</td>\n",
       "    </tr>\n",
       "    <tr>\n",
       "      <th>2</th>\n",
       "      <td>South Africa</td>\n",
       "      <td>ZA</td>\n",
       "      <td>58558270</td>\n",
       "      <td>1,221,037 (471,445)</td>\n",
       "      <td>31 May 1910</td>\n",
       "      <td>1221037</td>\n",
       "      <td>471445</td>\n",
       "    </tr>\n",
       "    <tr>\n",
       "      <th>3</th>\n",
       "      <td>United Kingdom</td>\n",
       "      <td>GB</td>\n",
       "      <td>67530172</td>\n",
       "      <td>242,495 (93,628)</td>\n",
       "      <td>NaN</td>\n",
       "      <td>242495</td>\n",
       "      <td>93628</td>\n",
       "    </tr>\n",
       "    <tr>\n",
       "      <th>4</th>\n",
       "      <td>United States</td>\n",
       "      <td>US</td>\n",
       "      <td>329064917</td>\n",
       "      <td>9,525,067 (3,677,649)</td>\n",
       "      <td>4 July 1776</td>\n",
       "      <td>9525067</td>\n",
       "      <td>3677649</td>\n",
       "    </tr>\n",
       "    <tr>\n",
       "      <th>5</th>\n",
       "      <td>New Zealand</td>\n",
       "      <td>NZ</td>\n",
       "      <td>4783063</td>\n",
       "      <td>270,467 (104,428)</td>\n",
       "      <td>26 September 1907</td>\n",
       "      <td>270467</td>\n",
       "      <td>104428</td>\n",
       "    </tr>\n",
       "  </tbody>\n",
       "</table>\n",
       "</div>"
      ],
      "text/plain": [
       "     Country Name ISO Code  Country Population Country Area km2 (mi2)  \\\n",
       "0           China       CN          1433783686  9,596,961 (3,705,407)   \n",
       "1     New Zealand       NZ             4783063      270,467 (104,428)   \n",
       "2    South Africa       ZA            58558270    1,221,037 (471,445)   \n",
       "3  United Kingdom       GB            67530172       242,495 (93,628)   \n",
       "4   United States       US           329064917  9,525,067 (3,677,649)   \n",
       "5     New Zealand       NZ             4783063      270,467 (104,428)   \n",
       "\n",
       "  Country Date of Independence Area km2 Area mi2  \n",
       "0               1 October 1949  9596961  3705407  \n",
       "1            26 September 1907   270467   104428  \n",
       "2                  31 May 1910  1221037   471445  \n",
       "3                          NaN   242495    93628  \n",
       "4                  4 July 1776  9525067  3677649  \n",
       "5            26 September 1907   270467   104428  "
      ]
     },
     "execution_count": 10,
     "metadata": {},
     "output_type": "execute_result"
    }
   ],
   "source": [
    "countries"
   ]
  },
  {
   "cell_type": "code",
   "execution_count": 9,
   "metadata": {},
   "outputs": [],
   "source": [
    "countries['Area km2'] = countries['Area km2'].str.replace('(\\D+)','')\n",
    "countries['Area mi2'] = countries['Area mi2'].str.replace('(\\D+)','')"
   ]
  },
  {
   "cell_type": "code",
   "execution_count": 11,
   "metadata": {},
   "outputs": [
    {
     "name": "stdout",
     "output_type": "stream",
     "text": [
      "<class 'pandas.core.frame.DataFrame'>\n",
      "RangeIndex: 6 entries, 0 to 5\n",
      "Data columns (total 7 columns):\n",
      " #   Column                        Non-Null Count  Dtype \n",
      "---  ------                        --------------  ----- \n",
      " 0   Country Name                  6 non-null      object\n",
      " 1   ISO Code                      6 non-null      object\n",
      " 2   Country Population            6 non-null      int64 \n",
      " 3   Country Area km2 (mi2)        6 non-null      object\n",
      " 4   Country Date of Independence  5 non-null      object\n",
      " 5   Area km2                      6 non-null      object\n",
      " 6   Area mi2                      6 non-null      object\n",
      "dtypes: int64(1), object(6)\n",
      "memory usage: 464.0+ bytes\n"
     ]
    }
   ],
   "source": [
    "countries.info()"
   ]
  },
  {
   "cell_type": "code",
   "execution_count": 12,
   "metadata": {},
   "outputs": [],
   "source": [
    "countries.rename(columns={'Country Name': 'country_name', 'ISO Code': 'country_code',\n",
    "                          'Country Population': 'country_population', 'Country Date of Independence': 'independence_date',\n",
    "                          'Area km2': 'area_km2', 'Area mi2': 'area_mi2'}, inplace=True)"
   ]
  },
  {
   "cell_type": "code",
   "execution_count": 13,
   "metadata": {},
   "outputs": [],
   "source": [
    "countries.drop(columns=['Country Area km2 (mi2)'], inplace = True)"
   ]
  },
  {
   "cell_type": "code",
   "execution_count": 18,
   "metadata": {},
   "outputs": [],
   "source": [
    "countries = countries.astype({'area_km2': 'int64', 'area_mi2':'int64', 'independence_date':'datetime64'})"
   ]
  },
  {
   "cell_type": "code",
   "execution_count": 20,
   "metadata": {},
   "outputs": [],
   "source": [
    "countries.drop_duplicates(inplace = True)"
   ]
  },
  {
   "cell_type": "code",
   "execution_count": 21,
   "metadata": {},
   "outputs": [
    {
     "name": "stdout",
     "output_type": "stream",
     "text": [
      "<class 'pandas.core.frame.DataFrame'>\n",
      "Int64Index: 5 entries, 0 to 4\n",
      "Data columns (total 6 columns):\n",
      " #   Column              Non-Null Count  Dtype         \n",
      "---  ------              --------------  -----         \n",
      " 0   country_name        5 non-null      object        \n",
      " 1   country_code        5 non-null      object        \n",
      " 2   country_population  5 non-null      int64         \n",
      " 3   independence_date   4 non-null      datetime64[ns]\n",
      " 4   area_km2            5 non-null      int64         \n",
      " 5   area_mi2            5 non-null      int64         \n",
      "dtypes: datetime64[ns](1), int64(3), object(2)\n",
      "memory usage: 280.0+ bytes\n"
     ]
    }
   ],
   "source": [
    "countries.info()"
   ]
  },
  {
   "cell_type": "code",
   "execution_count": 22,
   "metadata": {},
   "outputs": [
    {
     "data": {
      "text/html": [
       "<div>\n",
       "<style scoped>\n",
       "    .dataframe tbody tr th:only-of-type {\n",
       "        vertical-align: middle;\n",
       "    }\n",
       "\n",
       "    .dataframe tbody tr th {\n",
       "        vertical-align: top;\n",
       "    }\n",
       "\n",
       "    .dataframe thead th {\n",
       "        text-align: right;\n",
       "    }\n",
       "</style>\n",
       "<table border=\"1\" class=\"dataframe\">\n",
       "  <thead>\n",
       "    <tr style=\"text-align: right;\">\n",
       "      <th></th>\n",
       "      <th>country_name</th>\n",
       "      <th>country_code</th>\n",
       "      <th>country_population</th>\n",
       "      <th>independence_date</th>\n",
       "      <th>area_km2</th>\n",
       "      <th>area_mi2</th>\n",
       "    </tr>\n",
       "  </thead>\n",
       "  <tbody>\n",
       "    <tr>\n",
       "      <th>0</th>\n",
       "      <td>China</td>\n",
       "      <td>CN</td>\n",
       "      <td>1433783686</td>\n",
       "      <td>1949-10-01</td>\n",
       "      <td>9596961</td>\n",
       "      <td>3705407</td>\n",
       "    </tr>\n",
       "    <tr>\n",
       "      <th>1</th>\n",
       "      <td>New Zealand</td>\n",
       "      <td>NZ</td>\n",
       "      <td>4783063</td>\n",
       "      <td>1907-09-26</td>\n",
       "      <td>270467</td>\n",
       "      <td>104428</td>\n",
       "    </tr>\n",
       "    <tr>\n",
       "      <th>2</th>\n",
       "      <td>South Africa</td>\n",
       "      <td>ZA</td>\n",
       "      <td>58558270</td>\n",
       "      <td>1910-05-31</td>\n",
       "      <td>1221037</td>\n",
       "      <td>471445</td>\n",
       "    </tr>\n",
       "    <tr>\n",
       "      <th>3</th>\n",
       "      <td>United Kingdom</td>\n",
       "      <td>GB</td>\n",
       "      <td>67530172</td>\n",
       "      <td>NaT</td>\n",
       "      <td>242495</td>\n",
       "      <td>93628</td>\n",
       "    </tr>\n",
       "    <tr>\n",
       "      <th>4</th>\n",
       "      <td>United States</td>\n",
       "      <td>US</td>\n",
       "      <td>329064917</td>\n",
       "      <td>1776-07-04</td>\n",
       "      <td>9525067</td>\n",
       "      <td>3677649</td>\n",
       "    </tr>\n",
       "  </tbody>\n",
       "</table>\n",
       "</div>"
      ],
      "text/plain": [
       "     country_name country_code  country_population independence_date  \\\n",
       "0           China           CN          1433783686        1949-10-01   \n",
       "1     New Zealand           NZ             4783063        1907-09-26   \n",
       "2    South Africa           ZA            58558270        1910-05-31   \n",
       "3  United Kingdom           GB            67530172               NaT   \n",
       "4   United States           US           329064917        1776-07-04   \n",
       "\n",
       "   area_km2  area_mi2  \n",
       "0   9596961   3705407  \n",
       "1    270467    104428  \n",
       "2   1221037    471445  \n",
       "3    242495     93628  \n",
       "4   9525067   3677649  "
      ]
     },
     "execution_count": 22,
     "metadata": {},
     "output_type": "execute_result"
    }
   ],
   "source": [
    "countries"
   ]
  }
 ],
 "metadata": {
  "kernelspec": {
   "display_name": "Python 3",
   "language": "python",
   "name": "python3"
  },
  "language_info": {
   "codemirror_mode": {
    "name": "ipython",
    "version": 3
   },
   "file_extension": ".py",
   "mimetype": "text/x-python",
   "name": "python",
   "nbconvert_exporter": "python",
   "pygments_lexer": "ipython3",
   "version": "3.7.7"
  }
 },
 "nbformat": 4,
 "nbformat_minor": 4
}
