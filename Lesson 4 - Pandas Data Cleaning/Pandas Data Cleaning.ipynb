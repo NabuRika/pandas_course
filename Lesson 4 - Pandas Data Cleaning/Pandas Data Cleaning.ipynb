{
 "cells": [
  {
   "cell_type": "markdown",
   "id": "0f0fecf9-b2b6-4ce5-9db6-14fad4aa4db9",
   "metadata": {},
   "source": [
    "# <center> Pandas Data Cleaning </center>\n",
    "\n",
    "- [Split DataFrame Columns](#section_1)\n",
    "- [Text Cleaning with Regular Expressions](#section_2)\n",
    "- [Update Column Datatypes](#section_3)\n",
    "- [Drop Rows and Columns](#section_4)\n",
    "- [Rename Columns](#section_5)\n",
    "\n",
    "<hr>"
   ]
  },
  {
   "cell_type": "markdown",
   "id": "b8af158e-e12c-480b-9c9b-887f373b9931",
   "metadata": {},
   "source": [
    "Previously, we learned how to use the different Pandas tools and functions to get external datasets into a DataFrame object. Many real-life datasets come with problems such as missing values, wrong datatype, and bad formatting. Data professionals usually need to spend lots of time correcting these issues before the dataset becomes ready for analysis. Luckily, Pandas library comes with a set of built-in functions to help users fix these issues. In this section, we will learn how to use Pandas to identify and correct some common data quality issues.\n",
    "\n",
    "To demonstrate the process, we will use a toy DataFrame about countries. Each country has different pieces of information such as name, population, size, and independence date as shown in the code below:"
   ]
  },
  {
   "cell_type": "code",
   "execution_count": 1,
   "id": "ebe5392c-f5ea-4440-9de7-e798c33a34c3",
   "metadata": {},
   "outputs": [],
   "source": [
    "import pandas as pd"
   ]
  },
  {
   "cell_type": "markdown",
   "id": "b64f0960-47b0-4ef3-af3a-0ba60a2c09a9",
   "metadata": {},
   "source": [
    "## Data Cleaning with Pandas\n",
    "\n",
    "To demonstrate the data cleaning process, we will use a toy DataFrame about countries. Each country has different pieces of information such as name, population, size, and independence date as shown in the code below:"
   ]
  },
  {
   "cell_type": "code",
   "execution_count": 2,
   "id": "d6bc8753-e2a1-44d5-a249-b427eb986c39",
   "metadata": {},
   "outputs": [
    {
     "data": {
      "text/html": [
       "<div>\n",
       "<style scoped>\n",
       "    .dataframe tbody tr th:only-of-type {\n",
       "        vertical-align: middle;\n",
       "    }\n",
       "\n",
       "    .dataframe tbody tr th {\n",
       "        vertical-align: top;\n",
       "    }\n",
       "\n",
       "    .dataframe thead th {\n",
       "        text-align: right;\n",
       "    }\n",
       "</style>\n",
       "<table border=\"1\" class=\"dataframe\">\n",
       "  <thead>\n",
       "    <tr style=\"text-align: right;\">\n",
       "      <th></th>\n",
       "      <th>Country Name</th>\n",
       "      <th>ISO Code</th>\n",
       "      <th>Country Population</th>\n",
       "      <th>Country Area km2 (mi2)</th>\n",
       "      <th>Independence Day</th>\n",
       "    </tr>\n",
       "  </thead>\n",
       "  <tbody>\n",
       "    <tr>\n",
       "      <th>0</th>\n",
       "      <td>China</td>\n",
       "      <td>CN</td>\n",
       "      <td>1433783686</td>\n",
       "      <td>9,596,961 (3,705,407)</td>\n",
       "      <td>1 October 1949</td>\n",
       "    </tr>\n",
       "    <tr>\n",
       "      <th>1</th>\n",
       "      <td>New Zealand</td>\n",
       "      <td>NZ</td>\n",
       "      <td>4783063</td>\n",
       "      <td>270,467 (104,428)</td>\n",
       "      <td>26 September 1907</td>\n",
       "    </tr>\n",
       "    <tr>\n",
       "      <th>2</th>\n",
       "      <td>South Africa</td>\n",
       "      <td>ZA</td>\n",
       "      <td>58558270</td>\n",
       "      <td>1,221,037 (471,445)</td>\n",
       "      <td>31 May 1910</td>\n",
       "    </tr>\n",
       "    <tr>\n",
       "      <th>3</th>\n",
       "      <td>Australia</td>\n",
       "      <td>AU</td>\n",
       "      <td>25763300</td>\n",
       "      <td>7,692,024 (2,969,907)</td>\n",
       "      <td>1 January 1901</td>\n",
       "    </tr>\n",
       "    <tr>\n",
       "      <th>4</th>\n",
       "      <td>United States</td>\n",
       "      <td>US</td>\n",
       "      <td>329064917</td>\n",
       "      <td>9,525,067 (3,677,649)</td>\n",
       "      <td>4 July 1776</td>\n",
       "    </tr>\n",
       "    <tr>\n",
       "      <th>5</th>\n",
       "      <td>New Zealand</td>\n",
       "      <td>NZ</td>\n",
       "      <td>4783063</td>\n",
       "      <td>270,467 (104,428)</td>\n",
       "      <td>26 September 1907</td>\n",
       "    </tr>\n",
       "  </tbody>\n",
       "</table>\n",
       "</div>"
      ],
      "text/plain": [
       "    Country Name ISO Code  Country Population Country Area km2 (mi2)  \\\n",
       "0          China       CN          1433783686  9,596,961 (3,705,407)   \n",
       "1    New Zealand       NZ             4783063      270,467 (104,428)   \n",
       "2   South Africa       ZA            58558270    1,221,037 (471,445)   \n",
       "3      Australia       AU            25763300  7,692,024 (2,969,907)   \n",
       "4  United States       US           329064917  9,525,067 (3,677,649)   \n",
       "5    New Zealand       NZ             4783063      270,467 (104,428)   \n",
       "\n",
       "    Independence Day  \n",
       "0     1 October 1949  \n",
       "1  26 September 1907  \n",
       "2        31 May 1910  \n",
       "3     1 January 1901  \n",
       "4        4 July 1776  \n",
       "5  26 September 1907  "
      ]
     },
     "execution_count": 2,
     "metadata": {},
     "output_type": "execute_result"
    }
   ],
   "source": [
    "# Create a list of dictionaries\n",
    "list_of_countries = [{'Country Name':'China','ISO Code':'CN','Country Population':1433783686,'Country Area km2 (mi2)':'9,596,961 (3,705,407)','Independence Day':'1 October 1949'},\n",
    "{'Country Name':'New Zealand','ISO Code':'NZ','Country Population':4783063,'Country Area km2 (mi2)':'270,467 (104,428)','Independence Day':'26 September 1907'},\n",
    "{'Country Name':'South Africa','ISO Code':'ZA','Country Population':58558270,'Country Area km2 (mi2)':'1,221,037 (471,445)','Independence Day':'31 May 1910'},\n",
    "{'Country Name':'Australia','ISO Code':'AU','Country Population':25763300,'Country Area km2 (mi2)':'7,692,024 (2,969,907)', 'Independence Day':'1 January 1901'},\n",
    "{'Country Name':'United States','ISO Code':'US','Country Population':329064917,'Country Area km2 (mi2)':'9,525,067 (3,677,649)','Independence Day':'4 July 1776'},\n",
    "{'Country Name':'New Zealand','ISO Code':'NZ','Country Population':4783063,'Country Area km2 (mi2)':'270,467 (104,428)','Independence Day':'26 September 1907'}]\n",
    "\n",
    "# Create a Pandas DataFrame from a list of dictionaries\n",
    "countries = pd.DataFrame(list_of_countries)\n",
    "\n",
    "# Display the DataFrame\n",
    "countries"
   ]
  },
  {
   "cell_type": "markdown",
   "id": "4bb34fec-ee49-4240-9ad3-dfeebbe57468",
   "metadata": {},
   "source": [
    "Looking at our DataFrame, we notice the information about the country New Zealand was repeated twice in rows 1 and 5. Also, we notice the Country Area has values in both square kilometers and square miles."
   ]
  },
  {
   "cell_type": "code",
   "execution_count": 3,
   "id": "996165dc-8811-427d-b4c3-f7e6f7f7664c",
   "metadata": {},
   "outputs": [
    {
     "name": "stdout",
     "output_type": "stream",
     "text": [
      "<class 'pandas.core.frame.DataFrame'>\n",
      "RangeIndex: 6 entries, 0 to 5\n",
      "Data columns (total 5 columns):\n",
      " #   Column                  Non-Null Count  Dtype \n",
      "---  ------                  --------------  ----- \n",
      " 0   Country Name            6 non-null      object\n",
      " 1   ISO Code                6 non-null      object\n",
      " 2   Country Population      6 non-null      int64 \n",
      " 3   Country Area km2 (mi2)  6 non-null      object\n",
      " 4   Independence Day        6 non-null      object\n",
      "dtypes: int64(1), object(4)\n",
      "memory usage: 368.0+ bytes\n"
     ]
    }
   ],
   "source": [
    "# Display summary of the DataFrame columns\n",
    "countries.info()"
   ]
  },
  {
   "cell_type": "markdown",
   "id": "7dfb58d7-68ea-4784-a439-74ac4abd5975",
   "metadata": {},
   "source": [
    "Examining the DataFrame using the info() attribute shows that both country area and independence day columns were assigned as text datatypes.\n",
    "\n",
    "In order to clean up the data for further analysis, we need to perform the following steps:\n",
    "\n",
    "* Split the Country Area values into two columns for both kilometer values and square miles\n",
    "* Remove any non-numeric characters from the area values\n",
    "* Change the country area and independence date columns to the correct data types\n",
    "* Drop unwanted rows and columns\n",
    "* Rename all the columns to have lower case letters separated by underscores"
   ]
  },
  {
   "cell_type": "markdown",
   "id": "bc52cc03-750a-46bb-b93e-fb05ffccd539",
   "metadata": {},
   "source": [
    "### Split DataFrame Columns <a class=\"anchor\" id=\"section_1\"></a>\n",
    "\n",
    "The country area column is represented in both square kilometers and square miles. The square miles values are included within parentheses () and there is an empty space between the square kilometers and square miles values. Therefore, we can use the Pandas built-in split() function to separate these values into new different columns as shown in the following code:"
   ]
  },
  {
   "cell_type": "code",
   "execution_count": 4,
   "id": "d1e116f3-cfd9-47ef-bfd5-327b72674395",
   "metadata": {},
   "outputs": [
    {
     "data": {
      "text/html": [
       "<div>\n",
       "<style scoped>\n",
       "    .dataframe tbody tr th:only-of-type {\n",
       "        vertical-align: middle;\n",
       "    }\n",
       "\n",
       "    .dataframe tbody tr th {\n",
       "        vertical-align: top;\n",
       "    }\n",
       "\n",
       "    .dataframe thead th {\n",
       "        text-align: right;\n",
       "    }\n",
       "</style>\n",
       "<table border=\"1\" class=\"dataframe\">\n",
       "  <thead>\n",
       "    <tr style=\"text-align: right;\">\n",
       "      <th></th>\n",
       "      <th>Country Name</th>\n",
       "      <th>ISO Code</th>\n",
       "      <th>Country Population</th>\n",
       "      <th>Country Area km2 (mi2)</th>\n",
       "      <th>Independence Day</th>\n",
       "      <th>Area km2</th>\n",
       "      <th>Area mi2</th>\n",
       "    </tr>\n",
       "  </thead>\n",
       "  <tbody>\n",
       "    <tr>\n",
       "      <th>0</th>\n",
       "      <td>China</td>\n",
       "      <td>CN</td>\n",
       "      <td>1433783686</td>\n",
       "      <td>9,596,961 (3,705,407)</td>\n",
       "      <td>1 October 1949</td>\n",
       "      <td>9,596,961</td>\n",
       "      <td>(3,705,407)</td>\n",
       "    </tr>\n",
       "    <tr>\n",
       "      <th>1</th>\n",
       "      <td>New Zealand</td>\n",
       "      <td>NZ</td>\n",
       "      <td>4783063</td>\n",
       "      <td>270,467 (104,428)</td>\n",
       "      <td>26 September 1907</td>\n",
       "      <td>270,467</td>\n",
       "      <td>(104,428)</td>\n",
       "    </tr>\n",
       "    <tr>\n",
       "      <th>2</th>\n",
       "      <td>South Africa</td>\n",
       "      <td>ZA</td>\n",
       "      <td>58558270</td>\n",
       "      <td>1,221,037 (471,445)</td>\n",
       "      <td>31 May 1910</td>\n",
       "      <td>1,221,037</td>\n",
       "      <td>(471,445)</td>\n",
       "    </tr>\n",
       "    <tr>\n",
       "      <th>3</th>\n",
       "      <td>Australia</td>\n",
       "      <td>AU</td>\n",
       "      <td>25763300</td>\n",
       "      <td>7,692,024 (2,969,907)</td>\n",
       "      <td>1 January 1901</td>\n",
       "      <td>7,692,024</td>\n",
       "      <td>(2,969,907)</td>\n",
       "    </tr>\n",
       "    <tr>\n",
       "      <th>4</th>\n",
       "      <td>United States</td>\n",
       "      <td>US</td>\n",
       "      <td>329064917</td>\n",
       "      <td>9,525,067 (3,677,649)</td>\n",
       "      <td>4 July 1776</td>\n",
       "      <td>9,525,067</td>\n",
       "      <td>(3,677,649)</td>\n",
       "    </tr>\n",
       "    <tr>\n",
       "      <th>5</th>\n",
       "      <td>New Zealand</td>\n",
       "      <td>NZ</td>\n",
       "      <td>4783063</td>\n",
       "      <td>270,467 (104,428)</td>\n",
       "      <td>26 September 1907</td>\n",
       "      <td>270,467</td>\n",
       "      <td>(104,428)</td>\n",
       "    </tr>\n",
       "  </tbody>\n",
       "</table>\n",
       "</div>"
      ],
      "text/plain": [
       "    Country Name ISO Code  Country Population Country Area km2 (mi2)  \\\n",
       "0          China       CN          1433783686  9,596,961 (3,705,407)   \n",
       "1    New Zealand       NZ             4783063      270,467 (104,428)   \n",
       "2   South Africa       ZA            58558270    1,221,037 (471,445)   \n",
       "3      Australia       AU            25763300  7,692,024 (2,969,907)   \n",
       "4  United States       US           329064917  9,525,067 (3,677,649)   \n",
       "5    New Zealand       NZ             4783063      270,467 (104,428)   \n",
       "\n",
       "    Independence Day   Area km2     Area mi2  \n",
       "0     1 October 1949  9,596,961  (3,705,407)  \n",
       "1  26 September 1907    270,467    (104,428)  \n",
       "2        31 May 1910  1,221,037    (471,445)  \n",
       "3     1 January 1901  7,692,024  (2,969,907)  \n",
       "4        4 July 1776  9,525,067  (3,677,649)  \n",
       "5  26 September 1907    270,467    (104,428)  "
      ]
     },
     "execution_count": 4,
     "metadata": {},
     "output_type": "execute_result"
    }
   ],
   "source": [
    "# Apply split() function to separate values into new different columns\n",
    "countries[['Area km2', 'Area mi2']] = countries['Country Area km2 (mi2)'].str.split(' ', expand = True)\n",
    "\n",
    "# Display DataFrame head\n",
    "countries"
   ]
  },
  {
   "cell_type": "markdown",
   "id": "c823996e-4491-40a3-b447-4344b4015bba",
   "metadata": {},
   "source": [
    "The first part of the code countries[['Area km2','Area mi2']] on the left side of the equal = sign creates two new DataFrame series. The split() function was used on the Country Area km2 (mi2) Series to separate the numerical values into square km and mile respectively. Note that we needed to tell the function to use the quotes ‘ ’ with space inside as the splitting point and to send each of the generated values into a new column using the expand parameter.\n",
    "\n",
    "The split() is one of the many built-in string formatting methods that can be applied to the Pandas series using the format Series.str.<function/property>. The following figure demonstrates the result of using the split() function in our DataFrame."
   ]
  },
  {
   "cell_type": "markdown",
   "id": "a245ed7e-c4e6-4743-a0a1-5115d69c4b2c",
   "metadata": {},
   "source": [
    "### Text Cleaning with Regular Expressions <a class=\"anchor\" id=\"section_2\"></a>\n",
    "\n",
    "After we split the country area into two separate columns for square kilometers and square miles, we need to continue our work to convert these values into numeric format by removing any non-numeric characters such as parentheses and commas from the newly created columns Area km2 and Area mi2.\n",
    "\n",
    "To do that, we can use the built-in replace() function to replace occurrences of specific patterns in a given series with some other string. The function will take the first parameter as the targeted string or regular expression pattern, and the second parameter as the replacement value. The following code demonstrates how we replace any non-numeric values using the regular expression (\\D+) within the Pandas replace() function."
   ]
  },
  {
   "cell_type": "code",
   "execution_count": 5,
   "id": "b719a077-eab3-4f2d-9ea8-10d2563024db",
   "metadata": {},
   "outputs": [
    {
     "name": "stderr",
     "output_type": "stream",
     "text": [
      "/tmp/ipykernel_471853/1266647801.py:2: FutureWarning: The default value of regex will change from True to False in a future version.\n",
      "  countries['Area km2'] = countries['Area km2'].str.replace('(\\D+)','')\n",
      "/tmp/ipykernel_471853/1266647801.py:3: FutureWarning: The default value of regex will change from True to False in a future version.\n",
      "  countries['Area mi2'] = countries['Area mi2'].str.replace('(\\D+)','')\n"
     ]
    }
   ],
   "source": [
    "# Apply regular expression patternto replace any non-numeric values\n",
    "countries['Area km2'] = countries['Area km2'].str.replace('(\\D+)','')\n",
    "countries['Area mi2'] = countries['Area mi2'].str.replace('(\\D+)','')"
   ]
  },
  {
   "cell_type": "code",
   "execution_count": 6,
   "id": "d1959cb8-8269-497c-92db-6532143eb644",
   "metadata": {},
   "outputs": [
    {
     "data": {
      "text/html": [
       "<div>\n",
       "<style scoped>\n",
       "    .dataframe tbody tr th:only-of-type {\n",
       "        vertical-align: middle;\n",
       "    }\n",
       "\n",
       "    .dataframe tbody tr th {\n",
       "        vertical-align: top;\n",
       "    }\n",
       "\n",
       "    .dataframe thead th {\n",
       "        text-align: right;\n",
       "    }\n",
       "</style>\n",
       "<table border=\"1\" class=\"dataframe\">\n",
       "  <thead>\n",
       "    <tr style=\"text-align: right;\">\n",
       "      <th></th>\n",
       "      <th>Country Name</th>\n",
       "      <th>ISO Code</th>\n",
       "      <th>Country Population</th>\n",
       "      <th>Country Area km2 (mi2)</th>\n",
       "      <th>Independence Day</th>\n",
       "      <th>Area km2</th>\n",
       "      <th>Area mi2</th>\n",
       "    </tr>\n",
       "  </thead>\n",
       "  <tbody>\n",
       "    <tr>\n",
       "      <th>0</th>\n",
       "      <td>China</td>\n",
       "      <td>CN</td>\n",
       "      <td>1433783686</td>\n",
       "      <td>9,596,961 (3,705,407)</td>\n",
       "      <td>1 October 1949</td>\n",
       "      <td>9596961</td>\n",
       "      <td>3705407</td>\n",
       "    </tr>\n",
       "    <tr>\n",
       "      <th>1</th>\n",
       "      <td>New Zealand</td>\n",
       "      <td>NZ</td>\n",
       "      <td>4783063</td>\n",
       "      <td>270,467 (104,428)</td>\n",
       "      <td>26 September 1907</td>\n",
       "      <td>270467</td>\n",
       "      <td>104428</td>\n",
       "    </tr>\n",
       "    <tr>\n",
       "      <th>2</th>\n",
       "      <td>South Africa</td>\n",
       "      <td>ZA</td>\n",
       "      <td>58558270</td>\n",
       "      <td>1,221,037 (471,445)</td>\n",
       "      <td>31 May 1910</td>\n",
       "      <td>1221037</td>\n",
       "      <td>471445</td>\n",
       "    </tr>\n",
       "    <tr>\n",
       "      <th>3</th>\n",
       "      <td>Australia</td>\n",
       "      <td>AU</td>\n",
       "      <td>25763300</td>\n",
       "      <td>7,692,024 (2,969,907)</td>\n",
       "      <td>1 January 1901</td>\n",
       "      <td>7692024</td>\n",
       "      <td>2969907</td>\n",
       "    </tr>\n",
       "    <tr>\n",
       "      <th>4</th>\n",
       "      <td>United States</td>\n",
       "      <td>US</td>\n",
       "      <td>329064917</td>\n",
       "      <td>9,525,067 (3,677,649)</td>\n",
       "      <td>4 July 1776</td>\n",
       "      <td>9525067</td>\n",
       "      <td>3677649</td>\n",
       "    </tr>\n",
       "    <tr>\n",
       "      <th>5</th>\n",
       "      <td>New Zealand</td>\n",
       "      <td>NZ</td>\n",
       "      <td>4783063</td>\n",
       "      <td>270,467 (104,428)</td>\n",
       "      <td>26 September 1907</td>\n",
       "      <td>270467</td>\n",
       "      <td>104428</td>\n",
       "    </tr>\n",
       "  </tbody>\n",
       "</table>\n",
       "</div>"
      ],
      "text/plain": [
       "    Country Name ISO Code  Country Population Country Area km2 (mi2)  \\\n",
       "0          China       CN          1433783686  9,596,961 (3,705,407)   \n",
       "1    New Zealand       NZ             4783063      270,467 (104,428)   \n",
       "2   South Africa       ZA            58558270    1,221,037 (471,445)   \n",
       "3      Australia       AU            25763300  7,692,024 (2,969,907)   \n",
       "4  United States       US           329064917  9,525,067 (3,677,649)   \n",
       "5    New Zealand       NZ             4783063      270,467 (104,428)   \n",
       "\n",
       "    Independence Day Area km2 Area mi2  \n",
       "0     1 October 1949  9596961  3705407  \n",
       "1  26 September 1907   270467   104428  \n",
       "2        31 May 1910  1221037   471445  \n",
       "3     1 January 1901  7692024  2969907  \n",
       "4        4 July 1776  9525067  3677649  \n",
       "5  26 September 1907   270467   104428  "
      ]
     },
     "execution_count": 6,
     "metadata": {},
     "output_type": "execute_result"
    }
   ],
   "source": [
    "countries"
   ]
  },
  {
   "cell_type": "markdown",
   "id": "f19f47cc-0680-4ebe-a97a-d97fac5739c2",
   "metadata": {},
   "source": [
    "## Update Column Datatypes <a class=\"anchor\" id=\"section_3\"></a>\n",
    "\n",
    "Once we separated and cleaned up the country area into the proper format, we can move forward to assign the country area and independent day columns to the correct data types. To do that, we will make use of Pandas astype() function to pass a Python dictionary representing the name of each column and the corresponding data type as shown in this code below:"
   ]
  },
  {
   "cell_type": "code",
   "execution_count": 7,
   "id": "f480920d-8adc-483c-9b98-93258999a0ae",
   "metadata": {},
   "outputs": [],
   "source": [
    "# Change specific columns data types\n",
    "countries = countries.astype({'Area km2': 'int64', \n",
    "                              'Area mi2':'int64', \n",
    "                              'Independence Day':'datetime64'})"
   ]
  },
  {
   "cell_type": "markdown",
   "id": "9f0b68b5-1450-4f94-a844-7391ebeca684",
   "metadata": {},
   "source": [
    "## Drop Rows and Columns <a class=\"anchor\" id=\"section_4\"></a>\n",
    "\n",
    "Any data processing task would often include removing duplicate records or unwanted columns. In our countries DataFrame, we notice such cases as repeated rows for New Zealand. As we already split the country area into two new columns, there is no need to keep the old country area column too.\n",
    "\n",
    "To remove unnecessary rows, we can make use of the Pandas drop() function to remove rows or columns by specifying label names and corresponding axes. The axis parameter can take two values:\n",
    "\n",
    "0: to indicate the action will be taken at the row-level or\n",
    "1: to indicate the action will be taken at the column-level\n",
    "The following code demonstrates how to use the drop() function to remove unwanted rows and columns:"
   ]
  },
  {
   "cell_type": "code",
   "execution_count": 8,
   "id": "7238307f-7166-440d-8f73-d976adca1b98",
   "metadata": {},
   "outputs": [],
   "source": [
    "# To remove the old country area column\n",
    "countries.drop('Country Area km2 (mi2)', axis = 1, inplace = True)\n",
    "\n",
    "# To remove duplicate row for New Zealand\n",
    "countries.drop(5, axis = 0, inplace = True)"
   ]
  },
  {
   "cell_type": "code",
   "execution_count": 9,
   "id": "c412608b-3137-4cb0-b85f-7e0aece86a2a",
   "metadata": {},
   "outputs": [
    {
     "data": {
      "text/html": [
       "<div>\n",
       "<style scoped>\n",
       "    .dataframe tbody tr th:only-of-type {\n",
       "        vertical-align: middle;\n",
       "    }\n",
       "\n",
       "    .dataframe tbody tr th {\n",
       "        vertical-align: top;\n",
       "    }\n",
       "\n",
       "    .dataframe thead th {\n",
       "        text-align: right;\n",
       "    }\n",
       "</style>\n",
       "<table border=\"1\" class=\"dataframe\">\n",
       "  <thead>\n",
       "    <tr style=\"text-align: right;\">\n",
       "      <th></th>\n",
       "      <th>Country Name</th>\n",
       "      <th>ISO Code</th>\n",
       "      <th>Country Population</th>\n",
       "      <th>Independence Day</th>\n",
       "      <th>Area km2</th>\n",
       "      <th>Area mi2</th>\n",
       "    </tr>\n",
       "  </thead>\n",
       "  <tbody>\n",
       "    <tr>\n",
       "      <th>0</th>\n",
       "      <td>China</td>\n",
       "      <td>CN</td>\n",
       "      <td>1433783686</td>\n",
       "      <td>1949-10-01</td>\n",
       "      <td>9596961</td>\n",
       "      <td>3705407</td>\n",
       "    </tr>\n",
       "    <tr>\n",
       "      <th>1</th>\n",
       "      <td>New Zealand</td>\n",
       "      <td>NZ</td>\n",
       "      <td>4783063</td>\n",
       "      <td>1907-09-26</td>\n",
       "      <td>270467</td>\n",
       "      <td>104428</td>\n",
       "    </tr>\n",
       "    <tr>\n",
       "      <th>2</th>\n",
       "      <td>South Africa</td>\n",
       "      <td>ZA</td>\n",
       "      <td>58558270</td>\n",
       "      <td>1910-05-31</td>\n",
       "      <td>1221037</td>\n",
       "      <td>471445</td>\n",
       "    </tr>\n",
       "    <tr>\n",
       "      <th>3</th>\n",
       "      <td>Australia</td>\n",
       "      <td>AU</td>\n",
       "      <td>25763300</td>\n",
       "      <td>1901-01-01</td>\n",
       "      <td>7692024</td>\n",
       "      <td>2969907</td>\n",
       "    </tr>\n",
       "    <tr>\n",
       "      <th>4</th>\n",
       "      <td>United States</td>\n",
       "      <td>US</td>\n",
       "      <td>329064917</td>\n",
       "      <td>1776-07-04</td>\n",
       "      <td>9525067</td>\n",
       "      <td>3677649</td>\n",
       "    </tr>\n",
       "  </tbody>\n",
       "</table>\n",
       "</div>"
      ],
      "text/plain": [
       "    Country Name ISO Code  Country Population Independence Day  Area km2  \\\n",
       "0          China       CN          1433783686       1949-10-01   9596961   \n",
       "1    New Zealand       NZ             4783063       1907-09-26    270467   \n",
       "2   South Africa       ZA            58558270       1910-05-31   1221037   \n",
       "3      Australia       AU            25763300       1901-01-01   7692024   \n",
       "4  United States       US           329064917       1776-07-04   9525067   \n",
       "\n",
       "   Area mi2  \n",
       "0   3705407  \n",
       "1    104428  \n",
       "2    471445  \n",
       "3   2969907  \n",
       "4   3677649  "
      ]
     },
     "execution_count": 9,
     "metadata": {},
     "output_type": "execute_result"
    }
   ],
   "source": [
    "countries"
   ]
  },
  {
   "cell_type": "markdown",
   "id": "94a4bbde-4615-4197-a8cc-bef065da9107",
   "metadata": {},
   "source": [
    "If you have several duplicate rows, we can also make use of the Pandas drop_duplicates() function to keep only the unique rows in the DataFrame. The following code would achieve the same result as the second line of code above."
   ]
  },
  {
   "cell_type": "code",
   "execution_count": 10,
   "id": "6af65c48-7ac3-451e-b22d-6cd6847e35b7",
   "metadata": {},
   "outputs": [],
   "source": [
    "# Remove duplicated records using drop_duplicates() function\n",
    "countries.drop_duplicates(inplace = True)"
   ]
  },
  {
   "cell_type": "markdown",
   "id": "4d35b496-cf4c-49bc-b1c2-324f3a4e6677",
   "metadata": {},
   "source": [
    "## Rename Columns <a class=\"anchor\" id=\"section_5\"></a>\n",
    "\n",
    "Another common data processing task is to standardize any DataFrame column names by using lower case letters separated by underscores. To achieve this, we can make use of the Pandas rename() function by passing a dictionary with current and new column names as shown in the code below:"
   ]
  },
  {
   "cell_type": "code",
   "execution_count": 11,
   "id": "86cc817e-62c0-466a-a94b-5ed529717c92",
   "metadata": {},
   "outputs": [],
   "source": [
    "# Rename columns\n",
    "countries.rename(columns = {'Country Name': 'country_name', \n",
    "                          'ISO Code': 'country_code',\n",
    "                          'Country Population': 'country_population',\n",
    "                          'Independence Day': 'independence_date',\n",
    "                          'Area km2': 'area_km2',\n",
    "                          'Area mi2': 'area_mi2'}, inplace = True)"
   ]
  },
  {
   "cell_type": "markdown",
   "id": "f0805057-ff99-4b6a-b075-0e6fe2cfdf6b",
   "metadata": {},
   "source": [
    "Then, we can run the info() method to print a concise summary of the DataFrame and examine all the changes applied to this tutorial. We can compare the changes below:"
   ]
  },
  {
   "cell_type": "code",
   "execution_count": 12,
   "id": "1f4240c8-bd94-48c2-b94c-f86d8554b465",
   "metadata": {},
   "outputs": [
    {
     "name": "stdout",
     "output_type": "stream",
     "text": [
      "<class 'pandas.core.frame.DataFrame'>\n",
      "Int64Index: 5 entries, 0 to 4\n",
      "Data columns (total 6 columns):\n",
      " #   Column              Non-Null Count  Dtype         \n",
      "---  ------              --------------  -----         \n",
      " 0   country_name        5 non-null      object        \n",
      " 1   country_code        5 non-null      object        \n",
      " 2   country_population  5 non-null      int64         \n",
      " 3   independence_date   5 non-null      datetime64[ns]\n",
      " 4   area_km2            5 non-null      int64         \n",
      " 5   area_mi2            5 non-null      int64         \n",
      "dtypes: datetime64[ns](1), int64(3), object(2)\n",
      "memory usage: 280.0+ bytes\n"
     ]
    }
   ],
   "source": [
    "# Display DataFrame information\n",
    "countries.info()"
   ]
  },
  {
   "cell_type": "code",
   "execution_count": 13,
   "id": "c7244a29-c868-4f93-b927-ec08590f08b5",
   "metadata": {},
   "outputs": [
    {
     "data": {
      "text/html": [
       "<div>\n",
       "<style scoped>\n",
       "    .dataframe tbody tr th:only-of-type {\n",
       "        vertical-align: middle;\n",
       "    }\n",
       "\n",
       "    .dataframe tbody tr th {\n",
       "        vertical-align: top;\n",
       "    }\n",
       "\n",
       "    .dataframe thead th {\n",
       "        text-align: right;\n",
       "    }\n",
       "</style>\n",
       "<table border=\"1\" class=\"dataframe\">\n",
       "  <thead>\n",
       "    <tr style=\"text-align: right;\">\n",
       "      <th></th>\n",
       "      <th>country_name</th>\n",
       "      <th>country_code</th>\n",
       "      <th>country_population</th>\n",
       "      <th>independence_date</th>\n",
       "      <th>area_km2</th>\n",
       "      <th>area_mi2</th>\n",
       "    </tr>\n",
       "  </thead>\n",
       "  <tbody>\n",
       "    <tr>\n",
       "      <th>0</th>\n",
       "      <td>China</td>\n",
       "      <td>CN</td>\n",
       "      <td>1433783686</td>\n",
       "      <td>1949-10-01</td>\n",
       "      <td>9596961</td>\n",
       "      <td>3705407</td>\n",
       "    </tr>\n",
       "    <tr>\n",
       "      <th>1</th>\n",
       "      <td>New Zealand</td>\n",
       "      <td>NZ</td>\n",
       "      <td>4783063</td>\n",
       "      <td>1907-09-26</td>\n",
       "      <td>270467</td>\n",
       "      <td>104428</td>\n",
       "    </tr>\n",
       "    <tr>\n",
       "      <th>2</th>\n",
       "      <td>South Africa</td>\n",
       "      <td>ZA</td>\n",
       "      <td>58558270</td>\n",
       "      <td>1910-05-31</td>\n",
       "      <td>1221037</td>\n",
       "      <td>471445</td>\n",
       "    </tr>\n",
       "    <tr>\n",
       "      <th>3</th>\n",
       "      <td>Australia</td>\n",
       "      <td>AU</td>\n",
       "      <td>25763300</td>\n",
       "      <td>1901-01-01</td>\n",
       "      <td>7692024</td>\n",
       "      <td>2969907</td>\n",
       "    </tr>\n",
       "    <tr>\n",
       "      <th>4</th>\n",
       "      <td>United States</td>\n",
       "      <td>US</td>\n",
       "      <td>329064917</td>\n",
       "      <td>1776-07-04</td>\n",
       "      <td>9525067</td>\n",
       "      <td>3677649</td>\n",
       "    </tr>\n",
       "  </tbody>\n",
       "</table>\n",
       "</div>"
      ],
      "text/plain": [
       "    country_name country_code  country_population independence_date  area_km2  \\\n",
       "0          China           CN          1433783686        1949-10-01   9596961   \n",
       "1    New Zealand           NZ             4783063        1907-09-26    270467   \n",
       "2   South Africa           ZA            58558270        1910-05-31   1221037   \n",
       "3      Australia           AU            25763300        1901-01-01   7692024   \n",
       "4  United States           US           329064917        1776-07-04   9525067   \n",
       "\n",
       "   area_mi2  \n",
       "0   3705407  \n",
       "1    104428  \n",
       "2    471445  \n",
       "3   2969907  \n",
       "4   3677649  "
      ]
     },
     "execution_count": 13,
     "metadata": {},
     "output_type": "execute_result"
    }
   ],
   "source": [
    "# Display DataFrame\n",
    "countries"
   ]
  }
 ],
 "metadata": {
  "kernelspec": {
   "display_name": "Python 3 (ipykernel)",
   "language": "python",
   "name": "python3"
  },
  "language_info": {
   "codemirror_mode": {
    "name": "ipython",
    "version": 3
   },
   "file_extension": ".py",
   "mimetype": "text/x-python",
   "name": "python",
   "nbconvert_exporter": "python",
   "pygments_lexer": "ipython3",
   "version": "3.9.7"
  }
 },
 "nbformat": 4,
 "nbformat_minor": 5
}
