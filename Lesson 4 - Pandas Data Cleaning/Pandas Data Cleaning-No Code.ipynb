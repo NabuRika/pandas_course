{
 "cells": [
  {
   "cell_type": "markdown",
   "id": "0f0fecf9-b2b6-4ce5-9db6-14fad4aa4db9",
   "metadata": {},
   "source": [
    "# <center> Pandas Data Cleaning </center>\n",
    "\n",
    "- [Split DataFrame Columns](#section_1)\n",
    "- [Text Cleaning with Regular Expressions](#section_2)\n",
    "- [Update Column Datatypes](#section_3)\n",
    "- [Drop Rows and Columns](#section_4)\n",
    "- [Rename Columns](#section_5)\n",
    "\n",
    "<hr>"
   ]
  },
  {
   "cell_type": "markdown",
   "id": "b64f0960-47b0-4ef3-af3a-0ba60a2c09a9",
   "metadata": {},
   "source": [
    "## Data Cleaning with Pandas\n",
    "\n",
    "To demonstrate the data cleaning process, we will use a toy DataFrame about countries. Each country has different pieces of information such as name, population, size, and independence date as shown in the code below:"
   ]
  },
  {
   "cell_type": "code",
   "execution_count": 15,
   "id": "ebe5392c-f5ea-4440-9de7-e798c33a34c3",
   "metadata": {},
   "outputs": [],
   "source": [
    "# Import Pandas library\n"
   ]
  },
  {
   "cell_type": "code",
   "execution_count": 1,
   "id": "d6bc8753-e2a1-44d5-a249-b427eb986c39",
   "metadata": {},
   "outputs": [],
   "source": [
    "# Create a list of dictionaries\n",
    "\n",
    "# Create a Pandas DataFrame from a list of dictionaries\n",
    "\n",
    "# Display the DataFrame\n"
   ]
  },
  {
   "cell_type": "code",
   "execution_count": 2,
   "id": "996165dc-8811-427d-b4c3-f7e6f7f7664c",
   "metadata": {},
   "outputs": [],
   "source": [
    "# Display summary of the DataFrame columns\n"
   ]
  },
  {
   "cell_type": "markdown",
   "id": "bc52cc03-750a-46bb-b93e-fb05ffccd539",
   "metadata": {},
   "source": [
    "### Split DataFrame Columns <a class=\"anchor\" id=\"section_1\"></a>\n",
    "\n",
    "The country area column is represented in both square kilometers and square miles. We can use the Pandas built-in split() function to separate this column into two different columns as shown in the following code:"
   ]
  },
  {
   "cell_type": "code",
   "execution_count": 3,
   "id": "d1e116f3-cfd9-47ef-bfd5-327b72674395",
   "metadata": {},
   "outputs": [],
   "source": [
    "# Apply split() function to separate values into new different columns\n",
    "\n",
    "# Display DataFrame head\n"
   ]
  },
  {
   "cell_type": "markdown",
   "id": "a245ed7e-c4e6-4743-a0a1-5115d69c4b2c",
   "metadata": {},
   "source": [
    "### Text Cleaning with Regular Expressions <a class=\"anchor\" id=\"section_2\"></a>\n",
    "\n",
    "The following code demonstrates how we replace any non-numeric values using the regular expression (\\D+) within the Pandas replace() function."
   ]
  },
  {
   "cell_type": "code",
   "execution_count": 4,
   "id": "b719a077-eab3-4f2d-9ea8-10d2563024db",
   "metadata": {},
   "outputs": [],
   "source": [
    "# Apply regular expression patternto replace any non-numeric values\n"
   ]
  },
  {
   "cell_type": "code",
   "execution_count": 5,
   "id": "d1959cb8-8269-497c-92db-6532143eb644",
   "metadata": {},
   "outputs": [],
   "source": [
    "# Display the DataFrame\n"
   ]
  },
  {
   "cell_type": "markdown",
   "id": "f19f47cc-0680-4ebe-a97a-d97fac5739c2",
   "metadata": {},
   "source": [
    "## Update Column Datatypes <a class=\"anchor\" id=\"section_3\"></a>\n",
    "\n",
    "The following code will make use of Pandas astype() function to pass a Python dictionary representing the name of each column and the corresponding data type."
   ]
  },
  {
   "cell_type": "code",
   "execution_count": 6,
   "id": "f480920d-8adc-483c-9b98-93258999a0ae",
   "metadata": {},
   "outputs": [],
   "source": [
    "# Change specific columns data types\n"
   ]
  },
  {
   "cell_type": "markdown",
   "id": "9f0b68b5-1450-4f94-a844-7391ebeca684",
   "metadata": {},
   "source": [
    "## Drop Rows and Columns <a class=\"anchor\" id=\"section_4\"></a>\n",
    "\n",
    "The following code will make use of the Pandas `drop()` and `drop_duplicates()` functions to remove rows and columns by specifying label names and corresponding axes."
   ]
  },
  {
   "cell_type": "code",
   "execution_count": 7,
   "id": "7238307f-7166-440d-8f73-d976adca1b98",
   "metadata": {},
   "outputs": [],
   "source": [
    "# To remove the old country area column\n",
    "\n",
    "# To remove duplicate row for New Zealand\n"
   ]
  },
  {
   "cell_type": "code",
   "execution_count": 9,
   "id": "c412608b-3137-4cb0-b85f-7e0aece86a2a",
   "metadata": {},
   "outputs": [],
   "source": [
    "# Display the DataFrame\n"
   ]
  },
  {
   "cell_type": "code",
   "execution_count": 10,
   "id": "6af65c48-7ac3-451e-b22d-6cd6847e35b7",
   "metadata": {},
   "outputs": [],
   "source": [
    "# Remove duplicated records using drop_duplicates() function\n"
   ]
  },
  {
   "cell_type": "markdown",
   "id": "4d35b496-cf4c-49bc-b1c2-324f3a4e6677",
   "metadata": {},
   "source": [
    "## Rename Columns <a class=\"anchor\" id=\"section_5\"></a>\n",
    "\n",
    "The following code will use of the Pandas `rename()` built-in function to change DataFrame column "
   ]
  },
  {
   "cell_type": "code",
   "execution_count": 11,
   "id": "86cc817e-62c0-466a-a94b-5ed529717c92",
   "metadata": {},
   "outputs": [],
   "source": [
    "# Rename columns\n"
   ]
  },
  {
   "cell_type": "markdown",
   "id": "f0805057-ff99-4b6a-b075-0e6fe2cfdf6b",
   "metadata": {},
   "source": [
    "Then, we can run the info() method to print a concise summary of the DataFrame and examine all the changes applied to this tutorial. We can compare the changes below:"
   ]
  },
  {
   "cell_type": "code",
   "execution_count": 12,
   "id": "1f4240c8-bd94-48c2-b94c-f86d8554b465",
   "metadata": {},
   "outputs": [],
   "source": [
    "# Display DataFrame information\n"
   ]
  },
  {
   "cell_type": "code",
   "execution_count": 13,
   "id": "c7244a29-c868-4f93-b927-ec08590f08b5",
   "metadata": {},
   "outputs": [],
   "source": [
    "# Display DataFrame\n"
   ]
  }
 ],
 "metadata": {
  "kernelspec": {
   "display_name": "Python 3 (ipykernel)",
   "language": "python",
   "name": "python3"
  },
  "language_info": {
   "codemirror_mode": {
    "name": "ipython",
    "version": 3
   },
   "file_extension": ".py",
   "mimetype": "text/x-python",
   "name": "python",
   "nbconvert_exporter": "python",
   "pygments_lexer": "ipython3",
   "version": "3.9.7"
  }
 },
 "nbformat": 4,
 "nbformat_minor": 5
}
