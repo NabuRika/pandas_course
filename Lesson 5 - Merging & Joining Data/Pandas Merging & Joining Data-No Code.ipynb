{
 "cells": [
  {
   "cell_type": "markdown",
   "id": "04a05f07-fd4f-41cf-b4fc-2263a7b9dfc5",
   "metadata": {
    "tags": []
   },
   "source": [
    "# <center> Pandas Merging & Joining Data </center>\n",
    "\n",
    "- [Simple Joining with Concat Function](#section_1)\n",
    "- [Complex Joining with Merge Function](#section_2)\n",
    "\n",
    "<hr>"
   ]
  },
  {
   "cell_type": "markdown",
   "id": "815d6689-3089-40c4-a144-11564be62b5b",
   "metadata": {
    "tags": []
   },
   "source": [
    "### Pandas Merging & Joining Data <a class=\"anchor\" id=\"section_0\"></a>\n",
    "\n",
    "In this lesson, we will learn the two most common ways to combine DataFrames in the Pandas library:\n",
    "\n",
    "* **pd.concat([DataFrame1, DataFrame2]): Simple combining two or more Pandas dataframes in a column-wise or row-wise approach.**\n",
    "\n",
    "* **pd.merge([DataFrame1, DataFrame2]): Complex column-wise combining of Pandas dataframes in a SQL-like way.**"
   ]
  },
  {
   "cell_type": "markdown",
   "id": "6ff13527-a892-4a30-9a3c-f27990db940b",
   "metadata": {},
   "source": [
    "### Simple Joining with Concat Function <a class=\"anchor\" id=\"section_1\"></a>\n",
    "\n",
    "The `concat()` function is used to add together one or more DataFrames."
   ]
  },
  {
   "cell_type": "code",
   "execution_count": 1,
   "id": "a0ca31d4-a800-46bf-a0f5-2b24e380dd16",
   "metadata": {},
   "outputs": [],
   "source": [
    "# FIFA World Cup Winning Teams\n",
    "\n",
    "# Display DataFrame\n"
   ]
  },
  {
   "cell_type": "code",
   "execution_count": 2,
   "id": "4cea0be4-3eb4-48bc-b9c6-5bff80488109",
   "metadata": {},
   "outputs": [],
   "source": [
    "# Rugby World Cup Winning Teams\n",
    "\n",
    "# Display DataFrame\n"
   ]
  },
  {
   "cell_type": "code",
   "execution_count": 3,
   "id": "bbbd3e86-a0df-4c3c-b366-5b87492c67d3",
   "metadata": {},
   "outputs": [],
   "source": [
    "# Join the 2 DataFrames using the concat() method\n",
    "\n",
    "# Display the DataFrame\n"
   ]
  },
  {
   "cell_type": "code",
   "execution_count": 4,
   "id": "31fbc412-0b5b-4068-8afe-a6e4b7ec49ae",
   "metadata": {},
   "outputs": [],
   "source": [
    "# Add data source index values to the new DataFrame\n",
    "\n",
    "# Display the DataFrame\n"
   ]
  },
  {
   "cell_type": "code",
   "execution_count": 5,
   "id": "2a20a48c-7cbe-426e-adaa-ea3307454f94",
   "metadata": {},
   "outputs": [],
   "source": [
    "# Ignore old index values in the new DataFrame\n",
    "\n",
    "# Display the DataFrame\n"
   ]
  },
  {
   "cell_type": "code",
   "execution_count": 6,
   "id": "db6c535b-a248-4774-ba12-c2c0a6420e97",
   "metadata": {},
   "outputs": [],
   "source": [
    "# The new DataFrame will include all original columns\n",
    "\n",
    "# Display the DataFrame\n"
   ]
  },
  {
   "cell_type": "code",
   "execution_count": 7,
   "id": "9d8e2b4b-536a-43f0-ab54-acbeb01f72e7",
   "metadata": {},
   "outputs": [],
   "source": [
    "# The new DataFrame will include all original columns aligned horizontally\n",
    "\n",
    "# Display the DataFrame\n"
   ]
  },
  {
   "cell_type": "markdown",
   "id": "eb440445-1e30-4278-ad68-85f2a72e69cd",
   "metadata": {},
   "source": [
    "### Complex Joining with Merge Function <a class=\"anchor\" id=\"section_2\"></a>\n",
    "\n",
    "Pandas `merge()` provides the functionality to join DataFrame and Series objects in a way similar to relational database operations."
   ]
  },
  {
   "cell_type": "code",
   "execution_count": 8,
   "id": "f9b40063-a04c-483a-9cad-b84bf732d128",
   "metadata": {},
   "outputs": [],
   "source": [
    "# Create left DataFrame\n",
    "\n",
    "# Create right DataFrame\n"
   ]
  },
  {
   "cell_type": "code",
   "execution_count": 10,
   "id": "2f444e99-d259-48b1-a415-c43b0aee22d6",
   "metadata": {},
   "outputs": [],
   "source": [
    "# Display DataFrame\n"
   ]
  },
  {
   "cell_type": "code",
   "execution_count": 9,
   "id": "f5364ec9-271b-4d3b-98f9-f5d4392409c8",
   "metadata": {},
   "outputs": [],
   "source": [
    "# Display DataFrame\n"
   ]
  },
  {
   "cell_type": "code",
   "execution_count": 11,
   "id": "b1c45355-e0e3-4acd-a107-6b3491eaf770",
   "metadata": {},
   "outputs": [],
   "source": [
    "# Merge the two DataFrames using the common column\n",
    "\n",
    "# Display the DataFrame\n"
   ]
  },
  {
   "cell_type": "code",
   "execution_count": 12,
   "id": "f1527e91-54b6-4bf9-9fa4-e554ded252ce",
   "metadata": {},
   "outputs": [],
   "source": [
    "# Merge the two DataFrames using the common column\n",
    "\n",
    "# Display the DataFrame\n"
   ]
  }
 ],
 "metadata": {
  "kernelspec": {
   "display_name": "Python 3 (ipykernel)",
   "language": "python",
   "name": "python3"
  },
  "language_info": {
   "codemirror_mode": {
    "name": "ipython",
    "version": 3
   },
   "file_extension": ".py",
   "mimetype": "text/x-python",
   "name": "python",
   "nbconvert_exporter": "python",
   "pygments_lexer": "ipython3",
   "version": "3.9.7"
  }
 },
 "nbformat": 4,
 "nbformat_minor": 5
}
