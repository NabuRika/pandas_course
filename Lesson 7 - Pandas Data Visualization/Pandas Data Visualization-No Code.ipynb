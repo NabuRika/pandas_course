{
 "cells": [
  {
   "cell_type": "markdown",
   "id": "6269d4c7-84d1-4430-a13c-5724aac61f7d",
   "metadata": {},
   "source": [
    "# <center> Pandas Data Visualization </center>\n",
    "\n",
    "- [Data Visualization with Pandas](#section_1)\n",
    "- [Chart Visualization](#section_2)\n",
    "- [Table Visualization](#section_3)\n",
    "\n",
    "<hr>"
   ]
  },
  {
   "cell_type": "markdown",
   "id": "41726824-486b-41ab-bf95-50eca770c2bd",
   "metadata": {},
   "source": [
    "### Data Visualization with Pandas <a class=\"anchor\" id=\"section_1\"></a>"
   ]
  },
  {
   "cell_type": "markdown",
   "id": "60912271-e5c6-4922-ba63-80ef4c444382",
   "metadata": {},
   "source": [
    "So far in this course, we have learned about many of the features that make Pandas one of the most popular data analysis and manipulation libraries. An essential part of any data analysis project is to perform a comprehensive exploratory analysis to help understand underlying patterns among the dataset variables. Although Pandas is not designed for comprehensive data visualization, it is capable of creating basic and practical plots."
   ]
  },
  {
   "cell_type": "code",
   "execution_count": 1,
   "id": "99b0851c-6120-424d-bd87-da49f22237c4",
   "metadata": {},
   "outputs": [],
   "source": [
    "# Import the dataset as a CSV file\n",
    "\n",
    "# Display DataFrame\n",
    "\n",
    "# Set the Month values as the DataFrame index\n"
   ]
  },
  {
   "cell_type": "markdown",
   "id": "74ea63c9-5d47-4d33-aeb5-c967d60a7014",
   "metadata": {},
   "source": [
    "### Chart Visualization <a class=\"anchor\" id=\"section_2\"></a>\n",
    "\n",
    "Graphical representation of data using graphs such as histograms, pie charts, box plots, and so on."
   ]
  },
  {
   "cell_type": "code",
   "execution_count": 2,
   "id": "3811e630-f832-4497-9b7b-cdd81b1dae1b",
   "metadata": {},
   "outputs": [],
   "source": [
    "# Plot the DataFrame\n"
   ]
  },
  {
   "cell_type": "code",
   "execution_count": 3,
   "id": "918103d2-586d-42d5-b5a4-cf3734002632",
   "metadata": {},
   "outputs": [],
   "source": [
    "# Import the dataset as a CSV file\n",
    "\n",
    "# Display DataFrame\n"
   ]
  },
  {
   "cell_type": "code",
   "execution_count": 4,
   "id": "4f747258-5432-446b-a125-ab2f6f749253",
   "metadata": {},
   "outputs": [],
   "source": [
    "# Apply a scatter plot to examine the relationship between variables\n"
   ]
  },
  {
   "cell_type": "code",
   "execution_count": 5,
   "id": "8f957043-6b4b-43e1-90a9-3c468da8365f",
   "metadata": {},
   "outputs": [],
   "source": [
    "# Map species to different color values\n",
    "\n",
    "# Apply a scatter plot to examine the relationship between variables\n"
   ]
  },
  {
   "cell_type": "markdown",
   "id": "6985febd-3ba9-4b3e-965d-be7e7d317b43",
   "metadata": {},
   "source": [
    "### Table Visualization <a class=\"anchor\" id=\"section_3\"></a>\n",
    "\n",
    "Graphical representation of data using HTML styling option within Pandas DataFrame objects."
   ]
  },
  {
   "cell_type": "code",
   "execution_count": 6,
   "id": "640456e4-50e0-4157-b3eb-0e6dadaf29e9",
   "metadata": {},
   "outputs": [],
   "source": [
    "# Add bar style to sepal_width variable\n"
   ]
  },
  {
   "cell_type": "markdown",
   "id": "b7a1725a-7c98-4153-be0e-939d4d4b43bc",
   "metadata": {},
   "source": [
    "In this section, we will learn how to use Python Pandas to create two types of data visualizations:\n",
    "\n",
    "* Chart Visualization: Graphical representation of data using graphs such as histograms, pie charts, box plots, and so on.\n",
    "* Table Visualization: Graphical representation of data using HTML styling option within Pandas DataFrame objects.\n",
    "Pandas chart visualization can be achieved using the plot() method on Series and DataFrame objects. The function includes several parameters to identify the needed chart type as well as the targeted data columns. In this series of examples, we will use the plot() function to create some popular chart types.\n",
    "\n",
    "Time Series is one of the most commonly used charts to represent numerical values that change over a defined period of time. We can see this type of chart in visualizing financial market data like sales and price movement. In the Pandas library, the plot() method can be applied to a Series object with index values representing date values. Note that the line chart is the default type in the plot() method. Therefore, we do not need to change the type parameter. The following example demonstrates how a time series plot is used for visualization as shown in the example below:\n",
    "\n",
    "\n",
    "Another commonly used visualization type to examine the relationship between two different numerical variables is a scatter plot. In the example below, we use the popular iris dataset to explore the relationship between petal length and width variables. We can use color grouping to add additional analytics dimensions. In this example, we are adding color groups based on each flower species.\n",
    "\n",
    "Pandas table visualization can be achieved by adding styling instructions to DataFrame objects in order to be rendered as CSS styles. In the example below, we apply the horizontal bar style to the variable sepal_width while the data is sorted in descending order. We notice in the top row, the bar line covers the entire cell and its size countune to get smaller for the rest of the DataFrame."
   ]
  }
 ],
 "metadata": {
  "kernelspec": {
   "display_name": "Python 3 (ipykernel)",
   "language": "python",
   "name": "python3"
  },
  "language_info": {
   "codemirror_mode": {
    "name": "ipython",
    "version": 3
   },
   "file_extension": ".py",
   "mimetype": "text/x-python",
   "name": "python",
   "nbconvert_exporter": "python",
   "pygments_lexer": "ipython3",
   "version": "3.9.7"
  }
 },
 "nbformat": 4,
 "nbformat_minor": 5
}
