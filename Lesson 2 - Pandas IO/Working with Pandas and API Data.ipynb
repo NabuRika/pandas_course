{
 "cells": [
  {
   "cell_type": "markdown",
   "id": "0accecb4-062f-429d-9541-b3ad759d9e7c",
   "metadata": {},
   "source": [
    "# <center> Working with Pandas and API data </center>\n",
    "\n",
    "- [What is an API](#section_1)\n",
    "- [Convert API Data into a Pandas Object](#section_2)\n",
    "- [Use Pandas built-in functions to send and receive API data](#section_3)\n",
    "\n",
    "<hr>"
   ]
  },
  {
   "cell_type": "markdown",
   "id": "c2c5ba0d-3fdd-463c-b97e-44717036751a",
   "metadata": {},
   "source": [
    "### What is an API <a class=\"anchor\" id=\"section_1\"></a>\n",
    "\n",
    "When working on daily tasks, data professionals often need to access data from third-party APIs. This approach is common when the data is continually updated like weather forecasting or when you need to select a small subset of data. API response data usually comes in JSON format which you can think of as a collection of Python data structures like dictionaries and lists represented as text.\n",
    "\n",
    "For example, we will use API data from open-notify to get information about the International Space Station ISS. The API gives information about the space station location, altitude, and crow members. The following code will make a query about current crew members onboard ISS. In this example, we will make use of the Python request library to establish a connection with the API."
   ]
  },
  {
   "cell_type": "markdown",
   "id": "8400b843-af09-43f1-b506-4626588cf590",
   "metadata": {},
   "source": [
    "### Convert API Data into a Pandas Object <a class=\"anchor\" id=\"section_2\"></a>"
   ]
  },
  {
   "cell_type": "code",
   "execution_count": 1,
   "id": "3afefdb4-2051-44e4-b72e-b790600f65e5",
   "metadata": {},
   "outputs": [],
   "source": [
    "# Import libraries\n",
    "import pandas as pd\n",
    "import requests # requests library to handle API connection\n",
    "import pprint # Pretty printer library to display data structures\n",
    "\n",
    "# Initialize Pretty Printer \n",
    "pp = pprint.PrettyPrinter(indent=4)"
   ]
  },
  {
   "cell_type": "code",
   "execution_count": 2,
   "id": "79d95959-6dbd-4ba4-80d2-dd4ebe267ed3",
   "metadata": {},
   "outputs": [
    {
     "name": "stdout",
     "output_type": "stream",
     "text": [
      "{   'message': 'success',\n",
      "    'number': 7,\n",
      "    'people': [   {'craft': 'ISS', 'name': 'Oleg Artemyev'},\n",
      "                  {'craft': 'ISS', 'name': 'Denis Matveev'},\n",
      "                  {'craft': 'ISS', 'name': 'Sergey Korsakov'},\n",
      "                  {'craft': 'ISS', 'name': 'Kjell Lindgren'},\n",
      "                  {'craft': 'ISS', 'name': 'Bob Hines'},\n",
      "                  {'craft': 'ISS', 'name': 'Samantha Cristoforetti'},\n",
      "                  {'craft': 'ISS', 'name': 'Jessica Watkins'}]}\n"
     ]
    }
   ],
   "source": [
    "# Pass the API query using requests library\n",
    "response = requests.get(\"http://api.open-notify.org/astros.json\")\n",
    "# Convert response data into JSON format\n",
    "response_data = response.json()\n",
    "# Examine the response data\n",
    "pp.pprint(response_data)"
   ]
  },
  {
   "cell_type": "code",
   "execution_count": 3,
   "id": "067c3a8a-6b4f-405b-a477-e68c4ed1af8c",
   "metadata": {},
   "outputs": [
    {
     "data": {
      "text/html": [
       "<div>\n",
       "<style scoped>\n",
       "    .dataframe tbody tr th:only-of-type {\n",
       "        vertical-align: middle;\n",
       "    }\n",
       "\n",
       "    .dataframe tbody tr th {\n",
       "        vertical-align: top;\n",
       "    }\n",
       "\n",
       "    .dataframe thead th {\n",
       "        text-align: right;\n",
       "    }\n",
       "</style>\n",
       "<table border=\"1\" class=\"dataframe\">\n",
       "  <thead>\n",
       "    <tr style=\"text-align: right;\">\n",
       "      <th></th>\n",
       "      <th>craft</th>\n",
       "      <th>name</th>\n",
       "    </tr>\n",
       "  </thead>\n",
       "  <tbody>\n",
       "    <tr>\n",
       "      <th>0</th>\n",
       "      <td>ISS</td>\n",
       "      <td>Oleg Artemyev</td>\n",
       "    </tr>\n",
       "    <tr>\n",
       "      <th>1</th>\n",
       "      <td>ISS</td>\n",
       "      <td>Denis Matveev</td>\n",
       "    </tr>\n",
       "    <tr>\n",
       "      <th>2</th>\n",
       "      <td>ISS</td>\n",
       "      <td>Sergey Korsakov</td>\n",
       "    </tr>\n",
       "    <tr>\n",
       "      <th>3</th>\n",
       "      <td>ISS</td>\n",
       "      <td>Kjell Lindgren</td>\n",
       "    </tr>\n",
       "    <tr>\n",
       "      <th>4</th>\n",
       "      <td>ISS</td>\n",
       "      <td>Bob Hines</td>\n",
       "    </tr>\n",
       "    <tr>\n",
       "      <th>5</th>\n",
       "      <td>ISS</td>\n",
       "      <td>Samantha Cristoforetti</td>\n",
       "    </tr>\n",
       "    <tr>\n",
       "      <th>6</th>\n",
       "      <td>ISS</td>\n",
       "      <td>Jessica Watkins</td>\n",
       "    </tr>\n",
       "  </tbody>\n",
       "</table>\n",
       "</div>"
      ],
      "text/plain": [
       "  craft                    name\n",
       "0   ISS           Oleg Artemyev\n",
       "1   ISS           Denis Matveev\n",
       "2   ISS         Sergey Korsakov\n",
       "3   ISS          Kjell Lindgren\n",
       "4   ISS               Bob Hines\n",
       "5   ISS  Samantha Cristoforetti\n",
       "6   ISS         Jessica Watkins"
      ]
     },
     "execution_count": 3,
     "metadata": {},
     "output_type": "execute_result"
    }
   ],
   "source": [
    "# Create a DataFrame of astronauts currently aboard the ISS\n",
    "astronauts = pd.DataFrame(response_data['people'])\n",
    "# Display the DataFrame\n",
    "astronauts"
   ]
  }
 ],
 "metadata": {
  "kernelspec": {
   "display_name": "Python 3 (ipykernel)",
   "language": "python",
   "name": "python3"
  },
  "language_info": {
   "codemirror_mode": {
    "name": "ipython",
    "version": 3
   },
   "file_extension": ".py",
   "mimetype": "text/x-python",
   "name": "python",
   "nbconvert_exporter": "python",
   "pygments_lexer": "ipython3",
   "version": "3.9.7"
  }
 },
 "nbformat": 4,
 "nbformat_minor": 5
}
