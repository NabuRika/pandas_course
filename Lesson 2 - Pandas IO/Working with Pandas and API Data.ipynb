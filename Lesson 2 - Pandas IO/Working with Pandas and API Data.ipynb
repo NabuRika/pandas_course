{
 "cells": [
  {
   "cell_type": "markdown",
   "id": "0accecb4-062f-429d-9541-b3ad759d9e7c",
   "metadata": {},
   "source": [
    "# <center> Working with Pandas and API data </center>\n",
    "\n",
    "- [What is an API](#section_1)\n",
    "- [Convert API Data into a Pandas Object](#section_2)\n",
    "- [Use Pandas built-in functions to send and receive API data](#section_3)\n",
    "\n",
    "<hr>"
   ]
  },
  {
   "cell_type": "markdown",
   "id": "c2c5ba0d-3fdd-463c-b97e-44717036751a",
   "metadata": {},
   "source": [
    "### What is an API <a class=\"anchor\" id=\"section_1\"></a>\n",
    "\n",
    "When working on daily tasks, data professionals often need to access data from third-party APIs. This approach is common when the data is continually updated like weather forecasting or when you need to select a small subset of data. "
   ]
  },
  {
   "cell_type": "markdown",
   "id": "8400b843-af09-43f1-b506-4626588cf590",
   "metadata": {},
   "source": [
    "### Convert API Data into a Pandas Object <a class=\"anchor\" id=\"section_2\"></a>"
   ]
  },
  {
   "cell_type": "code",
   "execution_count": null,
   "id": "3afefdb4-2051-44e4-b72e-b790600f65e5",
   "metadata": {},
   "outputs": [],
   "source": [
    "# Import libraries\n",
    "\n",
    "# Initialize Pretty Printer \n"
   ]
  },
  {
   "cell_type": "code",
   "execution_count": null,
   "id": "79d95959-6dbd-4ba4-80d2-dd4ebe267ed3",
   "metadata": {},
   "outputs": [],
   "source": [
    "# Pass the API query using requests library\n",
    "\n",
    "# Convert response data into JSON format\n",
    "\n",
    "# Examine the response data\n"
   ]
  },
  {
   "cell_type": "code",
   "execution_count": null,
   "id": "067c3a8a-6b4f-405b-a477-e68c4ed1af8c",
   "metadata": {},
   "outputs": [],
   "source": [
    "# Create a DataFrame of astronauts currently aboard the ISS\n",
    "\n",
    "# Display the DataFrame\n"
   ]
  },
  {
   "cell_type": "markdown",
   "id": "62d8f9a0-00e7-4ae7-ad0d-73f1193402c3",
   "metadata": {},
   "source": [
    "### Use Pandas Built-In Functions to Send and Receive API Data <a class=\"anchor\" id=\"section_3\"></a>"
   ]
  },
  {
   "cell_type": "code",
   "execution_count": null,
   "id": "2fc3554e-55ec-4cd3-8684-8a178caa683b",
   "metadata": {},
   "outputs": [],
   "source": [
    "# Import library for Pandas Google BigQuery support\n"
   ]
  },
  {
   "cell_type": "code",
   "execution_count": null,
   "id": "9434102b-2ffa-4bed-a5f4-2d397b0812af",
   "metadata": {},
   "outputs": [],
   "source": [
    "# Use to_gbq() method to upload a DataFrame into BigQuery platform\n"
   ]
  },
  {
   "cell_type": "markdown",
   "id": "738f500a-9898-4e99-a2e5-410364ce28e0",
   "metadata": {},
   "source": [
    "</br>\n",
    "</br>\n",
    "</br>\n",
    "</br>\n",
    "</br>\n",
    "</br>\n",
    "</br>\n",
    "</br>\n",
    "</br>\n",
    "</br>\n",
    "</br>\n",
    "</br>\n",
    "</br>"
   ]
  }
 ],
 "metadata": {
  "kernelspec": {
   "display_name": "Python 3 (ipykernel)",
   "language": "python",
   "name": "python3"
  },
  "language_info": {
   "codemirror_mode": {
    "name": "ipython",
    "version": 3
   },
   "file_extension": ".py",
   "mimetype": "text/x-python",
   "name": "python",
   "nbconvert_exporter": "python",
   "pygments_lexer": "ipython3",
   "version": "3.9.7"
  }
 },
 "nbformat": 4,
 "nbformat_minor": 5
}
