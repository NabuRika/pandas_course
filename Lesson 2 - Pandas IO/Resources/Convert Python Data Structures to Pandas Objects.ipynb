{
 "cells": [
  {
   "cell_type": "markdown",
   "id": "a6ccb5a7-83e4-4a35-93ad-28a846919eab",
   "metadata": {},
   "source": [
    "# <center> Working with Python Native Data Structures </center>\n",
    "\n",
    "- [What are Python Native Data Structures](#section_1)\n",
    "- [Pandas DataFrame() Function](#section_2)\n",
    "- [Pandas from_dict() Function](#section_3)\n",
    "\n",
    "<hr>"
   ]
  },
  {
   "cell_type": "markdown",
   "id": "2086cbf4-9d8f-4ff6-9c67-970c94bb28ad",
   "metadata": {},
   "source": [
    "### What are Python Native Data Structures <a class=\"anchor\" id=\"section_1\"></a>\n",
    "\n",
    "The Python programming language has a variety of built-in data structures such as `lists`, `tuples`, `dictionaries`, `strings`, and `sets`."
   ]
  },
  {
   "cell_type": "code",
   "execution_count": 1,
   "id": "56061433-97dd-441c-b7c2-9c8dc25b32d4",
   "metadata": {},
   "outputs": [
    {
     "data": {
      "text/plain": [
       "{'country_name': 'New Zealand',\n",
       " 'capital_city': 'Wellington',\n",
       " 'country_code': 'NZ',\n",
       " 'population': 4783063,\n",
       " 'area_km2': 270467}"
      ]
     },
     "execution_count": 1,
     "metadata": {},
     "output_type": "execute_result"
    }
   ],
   "source": [
    "# Create a Python dictionary\n",
    "{'country_name':'New Zealand',\n",
    " 'capital_city':'Wellington',\n",
    " 'country_code':'NZ',\n",
    " 'population':4783063,\n",
    " 'area_km2':270467}"
   ]
  },
  {
   "cell_type": "code",
   "execution_count": 1,
   "id": "33252977-1c20-4e9f-a532-d0c15659f27f",
   "metadata": {},
   "outputs": [
    {
     "data": {
      "text/plain": [
       "['CN', 'NZ', 'ZA', 'GB', 'US']"
      ]
     },
     "execution_count": 1,
     "metadata": {},
     "output_type": "execute_result"
    }
   ],
   "source": [
    "# Create a list of country codes\n",
    "list_of_country_codes = ['CN','NZ','ZA','GB','US']\n",
    "list_of_country_codes"
   ]
  },
  {
   "cell_type": "code",
   "execution_count": 2,
   "id": "bf63e0b2-efa5-4d94-920b-117b60490347",
   "metadata": {},
   "outputs": [
    {
     "data": {
      "text/plain": [
       "[{'country_name': 'China',\n",
       "  'capital_city': 'Beijing',\n",
       "  'population': 1433783686,\n",
       "  'area_km2': 9596961},\n",
       " {'country_name': 'New Zealand',\n",
       "  'capital_city': 'Wellington',\n",
       "  'population': 4783063,\n",
       "  'area_km2': 270467},\n",
       " {'country_name': 'South Africa',\n",
       "  'capital_city': 'Pretoria',\n",
       "  'population': 58558270,\n",
       "  'area_km2': 1221037},\n",
       " {'country_name': 'United Kingdom',\n",
       "  'capital_city': 'London',\n",
       "  'population': 67530172,\n",
       "  'area_km2': 242495},\n",
       " {'country_name': 'United States',\n",
       "  'capital_city': 'Washington DC',\n",
       "  'population': 329064917,\n",
       "  'area_km2': 9525067}]"
      ]
     },
     "execution_count": 2,
     "metadata": {},
     "output_type": "execute_result"
    }
   ],
   "source": [
    "# Create a list of dictionaries\n",
    "list_of_countries = [\n",
    " {'country_name':'China','capital_city':'Beijing','population':1433783686, 'area_km2':9596961},\n",
    " {'country_name':'New Zealand','capital_city':'Wellington', 'population':4783063, 'area_km2':270467},\n",
    " {'country_name':'South Africa','capital_city':'Pretoria', 'population':58558270, 'area_km2':1221037},\n",
    " {'country_name':'United Kingdom','capital_city':'London', 'population':67530172, 'area_km2':242495},\n",
    " {'country_name':'United States','capital_city':'Washington DC', 'population':329064917, 'area_km2':9525067}]\n",
    "list_of_countries"
   ]
  },
  {
   "cell_type": "markdown",
   "id": "d5843d50-d829-43c8-983b-33c6cffb1f36",
   "metadata": {},
   "source": [
    "### Pandas DataFrame() Function <a class=\"anchor\" id=\"section_2\"></a>\n"
   ]
  },
  {
   "cell_type": "code",
   "execution_count": 28,
   "id": "b5a41fb7-568d-4061-947b-c426d27bde6a",
   "metadata": {},
   "outputs": [],
   "source": [
    "# Import Pandas library\n",
    "import pandas as pd"
   ]
  },
  {
   "cell_type": "code",
   "execution_count": 29,
   "id": "de57a606-da40-44b0-bbdf-d34100e8b576",
   "metadata": {},
   "outputs": [
    {
     "data": {
      "text/html": [
       "<div>\n",
       "<style scoped>\n",
       "    .dataframe tbody tr th:only-of-type {\n",
       "        vertical-align: middle;\n",
       "    }\n",
       "\n",
       "    .dataframe tbody tr th {\n",
       "        vertical-align: top;\n",
       "    }\n",
       "\n",
       "    .dataframe thead th {\n",
       "        text-align: right;\n",
       "    }\n",
       "</style>\n",
       "<table border=\"1\" class=\"dataframe\">\n",
       "  <thead>\n",
       "    <tr style=\"text-align: right;\">\n",
       "      <th></th>\n",
       "      <th>country_name</th>\n",
       "      <th>capital_city</th>\n",
       "      <th>population</th>\n",
       "      <th>area_km2</th>\n",
       "    </tr>\n",
       "  </thead>\n",
       "  <tbody>\n",
       "    <tr>\n",
       "      <th>0</th>\n",
       "      <td>China</td>\n",
       "      <td>Beijing</td>\n",
       "      <td>1433783686</td>\n",
       "      <td>9596961</td>\n",
       "    </tr>\n",
       "    <tr>\n",
       "      <th>1</th>\n",
       "      <td>New Zealand</td>\n",
       "      <td>Wellington</td>\n",
       "      <td>4783063</td>\n",
       "      <td>270467</td>\n",
       "    </tr>\n",
       "    <tr>\n",
       "      <th>2</th>\n",
       "      <td>South Africa</td>\n",
       "      <td>Pretoria</td>\n",
       "      <td>58558270</td>\n",
       "      <td>1221037</td>\n",
       "    </tr>\n",
       "    <tr>\n",
       "      <th>3</th>\n",
       "      <td>United Kingdom</td>\n",
       "      <td>London</td>\n",
       "      <td>67530172</td>\n",
       "      <td>242495</td>\n",
       "    </tr>\n",
       "    <tr>\n",
       "      <th>4</th>\n",
       "      <td>United States</td>\n",
       "      <td>Washington DC</td>\n",
       "      <td>329064917</td>\n",
       "      <td>9525067</td>\n",
       "    </tr>\n",
       "  </tbody>\n",
       "</table>\n",
       "</div>"
      ],
      "text/plain": [
       "     country_name   capital_city  population  area_km2\n",
       "0           China        Beijing  1433783686   9596961\n",
       "1     New Zealand     Wellington     4783063    270467\n",
       "2    South Africa       Pretoria    58558270   1221037\n",
       "3  United Kingdom         London    67530172    242495\n",
       "4   United States  Washington DC   329064917   9525067"
      ]
     },
     "execution_count": 29,
     "metadata": {},
     "output_type": "execute_result"
    }
   ],
   "source": [
    "# Create a Pandas DataFrame from a list of dictionaries\n",
    "df_countries = pd.DataFrame(list_of_countries)\n",
    "\n",
    "# Display the DataFrame\n",
    "df_countries"
   ]
  },
  {
   "cell_type": "markdown",
   "id": "95a5f230-0c5e-4971-80d6-8ed35ff9332e",
   "metadata": {},
   "source": [
    "<br>\n",
    "<br>\n",
    "<br>\n",
    "<br>\n",
    "<br>\n",
    "<br>\n",
    "<br>\n",
    "<br>\n",
    "<br>\n",
    "<br>\n",
    "<br>\n",
    "<br>\n",
    "<br>\n",
    "<br>\n",
    "<br>\n",
    "<br>\n",
    "<br>\n",
    "<br>\n",
    "<br>\n",
    "<br>\n",
    "<br>\n",
    "<br>\n",
    "<br>\n",
    "<br>"
   ]
  },
  {
   "cell_type": "code",
   "execution_count": 12,
   "id": "7b31c9aa-7508-4373-85f6-e34a346e90d1",
   "metadata": {},
   "outputs": [
    {
     "data": {
      "text/html": [
       "<div>\n",
       "<style scoped>\n",
       "    .dataframe tbody tr th:only-of-type {\n",
       "        vertical-align: middle;\n",
       "    }\n",
       "\n",
       "    .dataframe tbody tr th {\n",
       "        vertical-align: top;\n",
       "    }\n",
       "\n",
       "    .dataframe thead th {\n",
       "        text-align: right;\n",
       "    }\n",
       "</style>\n",
       "<table border=\"1\" class=\"dataframe\">\n",
       "  <thead>\n",
       "    <tr style=\"text-align: right;\">\n",
       "      <th></th>\n",
       "      <th>country_name</th>\n",
       "      <th>capital_city</th>\n",
       "      <th>population</th>\n",
       "      <th>area_km2</th>\n",
       "    </tr>\n",
       "  </thead>\n",
       "  <tbody>\n",
       "    <tr>\n",
       "      <th>0</th>\n",
       "      <td>China</td>\n",
       "      <td>Beijing</td>\n",
       "      <td>1433783686</td>\n",
       "      <td>9596961</td>\n",
       "    </tr>\n",
       "    <tr>\n",
       "      <th>1</th>\n",
       "      <td>New Zealand</td>\n",
       "      <td>Wellington</td>\n",
       "      <td>4783063</td>\n",
       "      <td>270467</td>\n",
       "    </tr>\n",
       "    <tr>\n",
       "      <th>2</th>\n",
       "      <td>South Africa</td>\n",
       "      <td>Pretoria</td>\n",
       "      <td>58558270</td>\n",
       "      <td>1221037</td>\n",
       "    </tr>\n",
       "    <tr>\n",
       "      <th>3</th>\n",
       "      <td>United Kingdom</td>\n",
       "      <td>London</td>\n",
       "      <td>67530172</td>\n",
       "      <td>242495</td>\n",
       "    </tr>\n",
       "    <tr>\n",
       "      <th>4</th>\n",
       "      <td>United States</td>\n",
       "      <td>Washington DC</td>\n",
       "      <td>329064917</td>\n",
       "      <td>9525067</td>\n",
       "    </tr>\n",
       "  </tbody>\n",
       "</table>\n",
       "</div>"
      ],
      "text/plain": [
       "     country_name   capital_city  population  area_km2\n",
       "0           China        Beijing  1433783686   9596961\n",
       "1     New Zealand     Wellington     4783063    270467\n",
       "2    South Africa       Pretoria    58558270   1221037\n",
       "3  United Kingdom         London    67530172    242495\n",
       "4   United States  Washington DC   329064917   9525067"
      ]
     },
     "execution_count": 12,
     "metadata": {},
     "output_type": "execute_result"
    }
   ],
   "source": [
    "# Create a Pandas DataFrame from a list of dictionaries\n",
    "df_countries = pd.DataFrame(list_of_countries)\n",
    "\n",
    "# Display the DataFrame\n",
    "df_countries"
   ]
  },
  {
   "cell_type": "markdown",
   "id": "13a836b1-7cbf-42c0-b9e9-911bb593d48f",
   "metadata": {},
   "source": [
    "### Pandas DataFrame.from_dict() Function <a class=\"anchor\" id=\"section_3\"></a>\n",
    "\n",
    "Another approach is to use a Python dictionary where keys represent column names and values represent Python lists. You can then make use of Pandas from_dict() function to transfer the dictionary into a DataFrame object as shown in this example:"
   ]
  },
  {
   "cell_type": "code",
   "execution_count": 24,
   "id": "31d6f11a-03d1-4cb6-b4d6-7fd983c7d150",
   "metadata": {},
   "outputs": [],
   "source": [
    "# Create a dictionary where keys represent column names and values represent Python lists.\n",
    "dictionary_of_countries = {'country_name': ['China', 'New Zealand', 'South Africa', 'United Kingdom', 'United States'],\n",
    "                           'country_code': ['CN', 'NZ', 'ZA', 'GB', 'US'],\n",
    "                           'capital_city': ['Beijing', 'Wellington', 'Pretoria', 'London', 'Washington DC'],\n",
    "                           'population': [1433783686, 4783063, 58558270, 67530172, 329064917],\n",
    "                           'area_km2': [9596961, 270467, 1221037, 242495, 9525067]}"
   ]
  },
  {
   "cell_type": "code",
   "execution_count": 25,
   "id": "53d48537-9f52-4df2-b875-74e438bab166",
   "metadata": {},
   "outputs": [
    {
     "data": {
      "text/html": [
       "<div>\n",
       "<style scoped>\n",
       "    .dataframe tbody tr th:only-of-type {\n",
       "        vertical-align: middle;\n",
       "    }\n",
       "\n",
       "    .dataframe tbody tr th {\n",
       "        vertical-align: top;\n",
       "    }\n",
       "\n",
       "    .dataframe thead th {\n",
       "        text-align: right;\n",
       "    }\n",
       "</style>\n",
       "<table border=\"1\" class=\"dataframe\">\n",
       "  <thead>\n",
       "    <tr style=\"text-align: right;\">\n",
       "      <th></th>\n",
       "      <th>country_name</th>\n",
       "      <th>country_code</th>\n",
       "      <th>capital_city</th>\n",
       "      <th>population</th>\n",
       "      <th>area_km2</th>\n",
       "    </tr>\n",
       "  </thead>\n",
       "  <tbody>\n",
       "    <tr>\n",
       "      <th>0</th>\n",
       "      <td>China</td>\n",
       "      <td>CN</td>\n",
       "      <td>Beijing</td>\n",
       "      <td>1433783686</td>\n",
       "      <td>9596961</td>\n",
       "    </tr>\n",
       "    <tr>\n",
       "      <th>1</th>\n",
       "      <td>New Zealand</td>\n",
       "      <td>NZ</td>\n",
       "      <td>Wellington</td>\n",
       "      <td>4783063</td>\n",
       "      <td>270467</td>\n",
       "    </tr>\n",
       "    <tr>\n",
       "      <th>2</th>\n",
       "      <td>South Africa</td>\n",
       "      <td>ZA</td>\n",
       "      <td>Pretoria</td>\n",
       "      <td>58558270</td>\n",
       "      <td>1221037</td>\n",
       "    </tr>\n",
       "    <tr>\n",
       "      <th>3</th>\n",
       "      <td>United Kingdom</td>\n",
       "      <td>GB</td>\n",
       "      <td>London</td>\n",
       "      <td>67530172</td>\n",
       "      <td>242495</td>\n",
       "    </tr>\n",
       "    <tr>\n",
       "      <th>4</th>\n",
       "      <td>United States</td>\n",
       "      <td>US</td>\n",
       "      <td>Washington DC</td>\n",
       "      <td>329064917</td>\n",
       "      <td>9525067</td>\n",
       "    </tr>\n",
       "  </tbody>\n",
       "</table>\n",
       "</div>"
      ],
      "text/plain": [
       "     country_name country_code   capital_city  population  area_km2\n",
       "0           China           CN        Beijing  1433783686   9596961\n",
       "1     New Zealand           NZ     Wellington     4783063    270467\n",
       "2    South Africa           ZA       Pretoria    58558270   1221037\n",
       "3  United Kingdom           GB         London    67530172    242495\n",
       "4   United States           US  Washington DC   329064917   9525067"
      ]
     },
     "execution_count": 25,
     "metadata": {},
     "output_type": "execute_result"
    }
   ],
   "source": [
    "# Convert a dictionary into a DataFrame using from_dict() function\n",
    "df_countries = pd.DataFrame.from_dict(dictionary_of_countries)\n",
    "# Display the DataFrame\n",
    "df_countries"
   ]
  },
  {
   "cell_type": "code",
   "execution_count": null,
   "id": "005f3b1d-8111-4d7c-bb7d-fc985d7acea2",
   "metadata": {},
   "outputs": [],
   "source": []
  },
  {
   "cell_type": "markdown",
   "id": "3fb1285e-d9b8-4419-b1f3-c620691c2f3e",
   "metadata": {},
   "source": [
    "In the code above, we notice the variable list_of_countries is defined as a Python list with each element representing a Python dictionary of country information. We import the Pandas library and then we use the built-in DataFrame function to transfer the list of countries into a Pandas Dataframe called countries. The pd.DataFrame() is a built-in function to construct DataFrame objects from scratch or from native Python data structures.\n",
    "\n",
    "Notice how we used the index parameter to pass a list of country codes as our DataFrame index values. We can then examine the new DataFrame object using the built-in head() function to return the top rows. We will learn later about the different ways to examine any DataFrame content.\n",
    "\n",
    "We notice how the dictionary keys were assigned as the DataFrame column names while dictionary values are assigned as the cells. A numerical index with values between 0 to 4 was automatically assigned to the DataFrame object. The user can choose to pass specific index values by using the index parameter as shown in the example above.\n",
    "\n",
    "The dictionary key represents the attribute label or title while the dictionary value represents the corresponding information. Pandas library can convert a list of similar dictionaries into a DataFrame object as shown in the example below:\n",
    "\n",
    "The above examples demonstrated the flexibility of transforming data stored in Python native data structures into Pandas DataFrame objects."
   ]
  },
  {
   "cell_type": "code",
   "execution_count": null,
   "id": "e8e04dd6-c469-4e17-98c8-8a498c6fdeaf",
   "metadata": {},
   "outputs": [],
   "source": []
  },
  {
   "cell_type": "code",
   "execution_count": null,
   "id": "59a35cad-84d1-4296-b3b4-7284d3f68747",
   "metadata": {},
   "outputs": [],
   "source": []
  },
  {
   "cell_type": "code",
   "execution_count": null,
   "id": "64aa77cd-0836-428d-9d79-077873329b39",
   "metadata": {},
   "outputs": [],
   "source": []
  },
  {
   "cell_type": "markdown",
   "id": "03936d6e-44c8-4803-8c2d-e27816f86b00",
   "metadata": {},
   "source": []
  }
 ],
 "metadata": {
  "kernelspec": {
   "display_name": "Python 3 (ipykernel)",
   "language": "python",
   "name": "python3"
  },
  "language_info": {
   "codemirror_mode": {
    "name": "ipython",
    "version": 3
   },
   "file_extension": ".py",
   "mimetype": "text/x-python",
   "name": "python",
   "nbconvert_exporter": "python",
   "pygments_lexer": "ipython3",
   "version": "3.9.7"
  }
 },
 "nbformat": 4,
 "nbformat_minor": 5
}
