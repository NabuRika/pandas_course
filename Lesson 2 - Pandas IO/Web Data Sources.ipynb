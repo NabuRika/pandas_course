{
 "cells": [
  {
   "cell_type": "markdown",
   "id": "e20a9b6e-381e-425f-831d-f3930214f19f",
   "metadata": {},
   "source": [
    "# <center> Web Data Sources </center>\n",
    "\n",
    "- [What are Web Data Sources](#section_1)\n",
    "- [Pandas read_html() Function](#section_2)\n",
    "\n",
    "<hr>"
   ]
  },
  {
   "cell_type": "markdown",
   "id": "1e635fd2-c069-46c9-8f86-b2f97af5b5d0",
   "metadata": {},
   "source": [
    "### What are Web Data Sources <a class=\"anchor\" id=\"section_1\"></a>\n",
    "\n",
    "very often data professionals need to access external data sets from web pages to add in their analysis projects. For example, let's say you are working on a project and you need a data set about the population number of each country. So you do your research and find this table in a wikipedia page that has information about each country's population and the percentage of change."
   ]
  },
  {
   "cell_type": "markdown",
   "id": "97e509e6-a62f-45ad-b796-c3574cd67f03",
   "metadata": {},
   "source": [
    "### Pandas read_html() Function <a class=\"anchor\" id=\"section_2\"></a>\n",
    "\n",
    "Pandas library offers a built-in function to allow users to parse HTML tables from web pages into a list of Pandas DataFrames. This functionality provides users with a fast way to access data tables embedded in web pages’ html code. "
   ]
  },
  {
   "cell_type": "code",
   "execution_count": 14,
   "id": "37a5b1d8-dede-4436-9ed4-6ea9b00b868b",
   "metadata": {},
   "outputs": [],
   "source": [
    "# Import pandas library\n",
    "import pandas as pd"
   ]
  },
  {
   "cell_type": "code",
   "execution_count": 15,
   "id": "594c8534-366f-40b3-ba40-0dc1920f6f8f",
   "metadata": {},
   "outputs": [
    {
     "data": {
      "text/plain": [
       "(list, 2)"
      ]
     },
     "execution_count": 15,
     "metadata": {},
     "output_type": "execute_result"
    }
   ],
   "source": [
    "# Extract HTML table tags from the web page\n",
    "web_data = pd.read_html('https://en.wikipedia.org/wiki/List_of_countries_by_population_(United_Nations)')\n",
    "\n",
    "# Display the data type\n",
    "type(web_data), len(web_data)"
   ]
  },
  {
   "cell_type": "code",
   "execution_count": 18,
   "id": "d507c039-e4e5-42f8-8b79-bd3890064cc5",
   "metadata": {},
   "outputs": [
    {
     "ename": "IndexError",
     "evalue": "list index out of range",
     "output_type": "error",
     "traceback": [
      "\u001b[0;31m---------------------------------------------------------------------------\u001b[0m",
      "\u001b[0;31mIndexError\u001b[0m                                Traceback (most recent call last)",
      "\u001b[0;32m/tmp/ipykernel_226680/196006752.py\u001b[0m in \u001b[0;36m<module>\u001b[0;34m\u001b[0m\n\u001b[1;32m      1\u001b[0m \u001b[0;31m# Select the first item in the list\u001b[0m\u001b[0;34m\u001b[0m\u001b[0;34m\u001b[0m\u001b[0m\n\u001b[0;32m----> 2\u001b[0;31m \u001b[0mdf_countries\u001b[0m \u001b[0;34m=\u001b[0m \u001b[0mweb_data\u001b[0m\u001b[0;34m[\u001b[0m\u001b[0;36m2\u001b[0m\u001b[0;34m]\u001b[0m\u001b[0;34m\u001b[0m\u001b[0;34m\u001b[0m\u001b[0m\n\u001b[0m\u001b[1;32m      3\u001b[0m \u001b[0;34m\u001b[0m\u001b[0m\n\u001b[1;32m      4\u001b[0m \u001b[0;31m# Display the DataFrame\u001b[0m\u001b[0;34m\u001b[0m\u001b[0;34m\u001b[0m\u001b[0m\n\u001b[1;32m      5\u001b[0m \u001b[0mdf_countries\u001b[0m\u001b[0;34m\u001b[0m\u001b[0;34m\u001b[0m\u001b[0m\n",
      "\u001b[0;31mIndexError\u001b[0m: list index out of range"
     ]
    }
   ],
   "source": [
    "# Select the first item in the list\n",
    "df_countries = web_data[2]\n",
    "\n",
    "# Display the DataFrame\n",
    "df_countries"
   ]
  }
 ],
 "metadata": {
  "kernelspec": {
   "display_name": "Python 3 (ipykernel)",
   "language": "python",
   "name": "python3"
  },
  "language_info": {
   "codemirror_mode": {
    "name": "ipython",
    "version": 3
   },
   "file_extension": ".py",
   "mimetype": "text/x-python",
   "name": "python",
   "nbconvert_exporter": "python",
   "pygments_lexer": "ipython3",
   "version": "3.9.7"
  }
 },
 "nbformat": 4,
 "nbformat_minor": 5
}
