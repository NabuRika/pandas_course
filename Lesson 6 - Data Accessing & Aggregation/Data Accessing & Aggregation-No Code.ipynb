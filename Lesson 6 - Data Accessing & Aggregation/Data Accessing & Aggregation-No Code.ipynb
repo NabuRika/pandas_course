{
 "cells": [
  {
   "cell_type": "markdown",
   "id": "30c3a5f8-d0d8-4c71-9a14-09a87da338e6",
   "metadata": {},
   "source": [
    "# <center> Data Accessing & Aggregation </center>"
   ]
  },
  {
   "cell_type": "markdown",
   "id": "29ba17ad-d376-4e89-bf99-8aa40d9afa5a",
   "metadata": {},
   "source": [
    "* [Selecting data by row, column and index values](#section_1)\n",
    "* [Filtering data with conditions](#section_2)\n",
    "* [Aggregating and sorting data](#section_3)\n",
    "<hr>"
   ]
  },
  {
   "cell_type": "code",
   "execution_count": null,
   "id": "23658439-f38d-43b3-aa77-6bfb2b1c7371",
   "metadata": {},
   "outputs": [],
   "source": []
  },
  {
   "cell_type": "code",
   "execution_count": 51,
   "id": "02190697-88f9-41c1-be7c-6b4eb3188c42",
   "metadata": {},
   "outputs": [],
   "source": [
    "# Countries Information DataFrame\n",
    "\n",
    "# Display DataFrame\n"
   ]
  },
  {
   "cell_type": "markdown",
   "id": "3cf34d29-fe7c-4db4-b50c-dffc62ddca32",
   "metadata": {},
   "source": [
    "### Selecting Data by Row, Column and Index Values <a class=\"anchor\" id=\"section_1\"></a>\n",
    "\n",
    "Pandas library provides multiple ways to select a group of rows and columns by labels or position values using `loc` and `iloc` functions."
   ]
  },
  {
   "cell_type": "code",
   "execution_count": 52,
   "id": "224075b2-825c-49dd-b926-24aaca516dd5",
   "metadata": {},
   "outputs": [],
   "source": [
    "# Select one record using loc\n"
   ]
  },
  {
   "cell_type": "code",
   "execution_count": 53,
   "id": "e2243b6f-03b8-4bf9-9211-8fd16e5005bf",
   "metadata": {},
   "outputs": [],
   "source": [
    "# Select one record using iloc\n"
   ]
  },
  {
   "cell_type": "code",
   "execution_count": 54,
   "id": "8bda4f6e-b611-4196-a100-cb67c8b55fca",
   "metadata": {},
   "outputs": [],
   "source": [
    "# Select a list of records\n",
    "\n",
    "# Select a list of records\n"
   ]
  },
  {
   "cell_type": "code",
   "execution_count": 55,
   "id": "cf5eb541-8a81-4b6a-a090-ed21bf5c5ee1",
   "metadata": {},
   "outputs": [],
   "source": [
    "# Select a range of values\n",
    "\n",
    "# Select a range of values\n"
   ]
  },
  {
   "cell_type": "code",
   "execution_count": 56,
   "id": "4bb17ca8-f3df-432e-a3af-4fc7ade0bfed",
   "metadata": {},
   "outputs": [],
   "source": [
    "# Select a list of records and columns\n",
    "\n",
    "# Select a list of records and columns\n"
   ]
  },
  {
   "cell_type": "code",
   "execution_count": null,
   "id": "65edf29f-871f-45ac-87c3-ce9decd3963e",
   "metadata": {},
   "outputs": [],
   "source": []
  },
  {
   "cell_type": "markdown",
   "id": "8be75cc0-f3cf-4300-9ab2-5161887f9f46",
   "metadata": {},
   "source": [
    "### Filtering Data with Conditions <a class=\"anchor\" id=\"section_2\"></a>\n",
    "\n",
    "We can also select rows by adding filter conditions that only match a subset of records. Each individual condition is often surrounded by parentheses () and several conditions can be grouped together using AND or OR conditions represented with & or | symbols respectively."
   ]
  },
  {
   "cell_type": "code",
   "execution_count": 57,
   "id": "b0d8a4d3-00a7-4d36-a13a-6ec58613a032",
   "metadata": {},
   "outputs": [],
   "source": [
    "# Select records based on list of condtions\n"
   ]
  },
  {
   "cell_type": "markdown",
   "id": "0c5465c3-7f09-4bb0-ac74-083255023214",
   "metadata": {
    "tags": []
   },
   "source": [
    "### Aggregating and Sorting Data <a class=\"anchor\" id=\"section_3\"></a>\n",
    "\n",
    "we can use the Pandas built-in functions to sort values and query specific numerical values per group of records."
   ]
  },
  {
   "cell_type": "code",
   "execution_count": 58,
   "id": "a51f306e-2115-4eb2-90e6-0e6a746bfc34",
   "metadata": {},
   "outputs": [],
   "source": [
    "# Sort DataFrame data\n"
   ]
  },
  {
   "cell_type": "code",
   "execution_count": null,
   "id": "2e05987d-a94c-480f-a6b4-85ac42d7d4b7",
   "metadata": {},
   "outputs": [],
   "source": []
  },
  {
   "cell_type": "code",
   "execution_count": 59,
   "id": "3499a394-2e68-4289-aaed-66e54d187a75",
   "metadata": {},
   "outputs": [],
   "source": [
    "# Total population size by main language\n"
   ]
  },
  {
   "cell_type": "code",
   "execution_count": 60,
   "id": "dea3a713-40b1-4f4b-84a1-466949648963",
   "metadata": {},
   "outputs": [],
   "source": [
    "# Total population size by region\n"
   ]
  },
  {
   "cell_type": "code",
   "execution_count": null,
   "id": "ff3d7d1f-e963-40cf-af61-7bf8485285cc",
   "metadata": {},
   "outputs": [],
   "source": []
  },
  {
   "cell_type": "code",
   "execution_count": null,
   "id": "7e59b1e7-6c44-4588-95c8-89a93dc07299",
   "metadata": {},
   "outputs": [],
   "source": []
  },
  {
   "cell_type": "code",
   "execution_count": null,
   "id": "48ebb8c4-b86f-4618-be9d-92e23ea33462",
   "metadata": {},
   "outputs": [],
   "source": []
  },
  {
   "cell_type": "markdown",
   "id": "81f9fcbe-10ab-4e7b-b8d3-6b60c3587ff3",
   "metadata": {},
   "source": [
    "Finally, we will learn about how to query specific numerical values per group of records. In our toy example, we may want to know the summarization of population size per region or main language. This query can be answered by applying the Pandas groupby() function on the targeted groups and a summarization function on the numerical value. In the examples below, we calculate the total population size per language and geographic region."
   ]
  },
  {
   "cell_type": "markdown",
   "id": "cc68e6c8-031f-4d3f-bdc6-42f31d5bf020",
   "metadata": {},
   "source": [
    "Sometimes we may need to sort a DataFrame or query output by specific numeric, alphabet, or date values. This process can be achieved by applying sort_values() function which takes the name of the targeted sorting value as a mandatory parameter and ascending order as default behaviour. We can adjust the above example by sorting the result by population size as shown in the code below"
   ]
  },
  {
   "cell_type": "markdown",
   "id": "755def45-a277-4397-9a58-3278a70bd1b6",
   "metadata": {},
   "source": [
    "We can also select rows by adding filter conditions that only match a subset of records. Each individual condition is often surrounded by parentheses () and several conditions can be grouped together using AND and OR conditions represented with & or | symbols respectively.\n",
    "\n",
    "In the following example, we retrieve all records with the main language being English and the region being Oceania. Note that we left the column selection area empty to indicate that we want all DataFrame columns."
   ]
  },
  {
   "cell_type": "markdown",
   "id": "ba054530-ac49-46ec-abb6-24158c6715ad",
   "metadata": {},
   "source": [
    "Pandas library provides multiple ways to select a group of rows and columns by labels or position values using loc and iloc functions. loc is a label-based selection function where users must specify rows and columns based on the row and column labels; while iloc is an integer position-based selection function where users must specify rows and columns by the integer position values (0-based integer position).\n",
    "\n",
    "In the example below, we apply both loc and iloc to select a record based on its index label ‘CN’ or its 10th position in the DataFrame. We notice both methods would return a series object about China country information."
   ]
  },
  {
   "cell_type": "markdown",
   "id": "2b80fa81-7b9d-49f0-b8c7-bf4a334d674b",
   "metadata": {},
   "source": [
    "We can also pass different DataFrame labels and positions as shown in the example below:"
   ]
  },
  {
   "cell_type": "markdown",
   "id": "43b23732-d899-4d23-967e-02df3cc77adc",
   "metadata": {},
   "source": [
    "We can also pass a range of index labels or position values using the colon sign : as shown in the example below."
   ]
  },
  {
   "cell_type": "markdown",
   "id": "ce3c7ea1-599a-4ccd-807e-499d6975a3fe",
   "metadata": {},
   "source": [
    "We can also pass a list of index labels or position values as shown in the example below:"
   ]
  },
  {
   "cell_type": "markdown",
   "id": "601abbd3-24ba-4f9c-af10-53a1bc828cc8",
   "metadata": {},
   "source": [
    "So far in this course, you have learned about Pandas different techniques to process and get data ready for analysis. In this section of the course, we will learn about how to explore your data by performing the following tasks:\n",
    "\n",
    "\n",
    "To demonstrate these tasks, we will use the following toy DataFrame about different countries' information. The DataFrame has an index value representing each country's ISO code, regions, population size, and most common language in each country."
   ]
  }
 ],
 "metadata": {
  "kernelspec": {
   "display_name": "Python 3 (ipykernel)",
   "language": "python",
   "name": "python3"
  },
  "language_info": {
   "codemirror_mode": {
    "name": "ipython",
    "version": 3
   },
   "file_extension": ".py",
   "mimetype": "text/x-python",
   "name": "python",
   "nbconvert_exporter": "python",
   "pygments_lexer": "ipython3",
   "version": "3.9.7"
  }
 },
 "nbformat": 4,
 "nbformat_minor": 5
}
